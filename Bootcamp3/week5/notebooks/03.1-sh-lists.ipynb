{
 "cells": [
  {
   "cell_type": "code",
   "execution_count": 1,
   "id": "c9a87d94",
   "metadata": {},
   "outputs": [
    {
     "data": {
      "text/plain": [
       "int"
      ]
     },
     "execution_count": 1,
     "metadata": {},
     "output_type": "execute_result"
    }
   ],
   "source": [
    "num1 = 5\n",
    "type(num1)"
   ]
  },
  {
   "cell_type": "code",
   "execution_count": 2,
   "id": "26943873",
   "metadata": {},
   "outputs": [
    {
     "data": {
      "text/plain": [
       "str"
      ]
     },
     "execution_count": 2,
     "metadata": {},
     "output_type": "execute_result"
    }
   ],
   "source": [
    "hello = \"hi\"\n",
    "type(hello)"
   ]
  },
  {
   "cell_type": "code",
   "execution_count": 3,
   "id": "3d8bc5a7",
   "metadata": {},
   "outputs": [
    {
     "data": {
      "text/plain": [
       "[]"
      ]
     },
     "execution_count": 3,
     "metadata": {},
     "output_type": "execute_result"
    }
   ],
   "source": [
    "# create an empty list\n",
    "\n",
    "[]"
   ]
  },
  {
   "cell_type": "code",
   "execution_count": 4,
   "id": "608f6678",
   "metadata": {},
   "outputs": [],
   "source": [
    "# \n",
    "\n",
    "list_1 = []"
   ]
  },
  {
   "cell_type": "code",
   "execution_count": 5,
   "id": "8b6884a3",
   "metadata": {},
   "outputs": [
    {
     "data": {
      "text/plain": [
       "[]"
      ]
     },
     "execution_count": 5,
     "metadata": {},
     "output_type": "execute_result"
    }
   ],
   "source": [
    "list_1"
   ]
  },
  {
   "cell_type": "code",
   "execution_count": 6,
   "id": "31db5bef",
   "metadata": {},
   "outputs": [
    {
     "data": {
      "text/plain": [
       "list"
      ]
     },
     "execution_count": 6,
     "metadata": {},
     "output_type": "execute_result"
    }
   ],
   "source": [
    "type(list_1)"
   ]
  },
  {
   "cell_type": "code",
   "execution_count": 7,
   "id": "fe4dac94",
   "metadata": {},
   "outputs": [],
   "source": [
    "fruit = ['apple', 'banana', 'pear', 'apple']\n"
   ]
  },
  {
   "cell_type": "code",
   "execution_count": 8,
   "id": "10952350",
   "metadata": {},
   "outputs": [
    {
     "data": {
      "text/plain": [
       "['apple', 'banana', 'pear', 'apple']"
      ]
     },
     "execution_count": 8,
     "metadata": {},
     "output_type": "execute_result"
    }
   ],
   "source": [
    "fruit"
   ]
  },
  {
   "cell_type": "code",
   "execution_count": 9,
   "id": "d28c8fb2",
   "metadata": {},
   "outputs": [
    {
     "data": {
      "text/plain": [
       "2"
      ]
     },
     "execution_count": 9,
     "metadata": {},
     "output_type": "execute_result"
    }
   ],
   "source": [
    "fruit.count(\"apple\")"
   ]
  },
  {
   "cell_type": "code",
   "execution_count": 10,
   "id": "e081bca4",
   "metadata": {},
   "outputs": [
    {
     "data": {
      "text/plain": [
       "1"
      ]
     },
     "execution_count": 10,
     "metadata": {},
     "output_type": "execute_result"
    }
   ],
   "source": [
    "fruit.count(\"banana\")"
   ]
  },
  {
   "cell_type": "code",
   "execution_count": 11,
   "id": "04718bf8",
   "metadata": {},
   "outputs": [
    {
     "data": {
      "text/plain": [
       "'apple'"
      ]
     },
     "execution_count": 11,
     "metadata": {},
     "output_type": "execute_result"
    }
   ],
   "source": [
    "# access the first element of the list\n",
    "\n",
    "fruit[0]"
   ]
  },
  {
   "cell_type": "code",
   "execution_count": 12,
   "id": "b14eedb2",
   "metadata": {},
   "outputs": [
    {
     "data": {
      "text/plain": [
       "'banana'"
      ]
     },
     "execution_count": 12,
     "metadata": {},
     "output_type": "execute_result"
    }
   ],
   "source": [
    "# access the second element of the list\n",
    "\n",
    "fruit[1]"
   ]
  },
  {
   "cell_type": "code",
   "execution_count": 13,
   "id": "327f43f0",
   "metadata": {},
   "outputs": [
    {
     "data": {
      "text/plain": [
       "['apple', 'banana']"
      ]
     },
     "execution_count": 13,
     "metadata": {},
     "output_type": "execute_result"
    }
   ],
   "source": [
    "# the search will start at the index 0 (included) and end at index 2(not included)\n",
    "\n",
    "fruit[0:2]"
   ]
  },
  {
   "cell_type": "code",
   "execution_count": 14,
   "id": "a9e8ca0f",
   "metadata": {},
   "outputs": [
    {
     "data": {
      "text/plain": [
       "['apple', 'pear', 'banana', 'apple']"
      ]
     },
     "execution_count": 14,
     "metadata": {},
     "output_type": "execute_result"
    }
   ],
   "source": [
    "# reverse the order of the list\n",
    "\n",
    "fruit[::-1]"
   ]
  },
  {
   "cell_type": "code",
   "execution_count": 15,
   "id": "54de2490",
   "metadata": {},
   "outputs": [],
   "source": [
    "fruit.append(\"grapes\")"
   ]
  },
  {
   "cell_type": "code",
   "execution_count": 16,
   "id": "06233cd6",
   "metadata": {},
   "outputs": [
    {
     "data": {
      "text/plain": [
       "['apple', 'banana', 'pear', 'apple', 'grapes']"
      ]
     },
     "execution_count": 16,
     "metadata": {},
     "output_type": "execute_result"
    }
   ],
   "source": [
    "fruit"
   ]
  },
  {
   "cell_type": "code",
   "execution_count": 17,
   "id": "df9f06b5",
   "metadata": {},
   "outputs": [],
   "source": [
    "fruit.insert(2, \"strawberries\")"
   ]
  },
  {
   "cell_type": "code",
   "execution_count": 18,
   "id": "cec52797",
   "metadata": {},
   "outputs": [
    {
     "data": {
      "text/plain": [
       "['apple', 'banana', 'strawberries', 'pear', 'apple', 'grapes']"
      ]
     },
     "execution_count": 18,
     "metadata": {},
     "output_type": "execute_result"
    }
   ],
   "source": [
    "fruit"
   ]
  },
  {
   "cell_type": "code",
   "execution_count": 19,
   "id": "62541e58",
   "metadata": {},
   "outputs": [
    {
     "data": {
      "text/plain": [
       "['strawberries', 'apple', 'banana', 'strawberries', 'pear', 'apple', 'grapes']"
      ]
     },
     "execution_count": 19,
     "metadata": {},
     "output_type": "execute_result"
    }
   ],
   "source": [
    "fruit.insert(0, \"strawberries\")\n",
    "fruit"
   ]
  },
  {
   "cell_type": "code",
   "execution_count": 20,
   "id": "67ced686",
   "metadata": {},
   "outputs": [
    {
     "data": {
      "text/plain": [
       "['strawberries',\n",
       " 'apple',\n",
       " 'banana',\n",
       " 'strawberries',\n",
       " 'pear',\n",
       " 'apple',\n",
       " 'grapes',\n",
       " ['grapes', 'peach']]"
      ]
     },
     "execution_count": 20,
     "metadata": {},
     "output_type": "execute_result"
    }
   ],
   "source": [
    "fruit.append([\"grapes\", \"peach\"])\n",
    "fruit"
   ]
  },
  {
   "cell_type": "code",
   "execution_count": 21,
   "id": "4f1b9856",
   "metadata": {},
   "outputs": [
    {
     "data": {
      "text/plain": [
       "['strawberries',\n",
       " 'apple',\n",
       " 'banana',\n",
       " 'strawberries',\n",
       " 'pear',\n",
       " 'apple',\n",
       " 'grapes',\n",
       " ['grapes', 'peach'],\n",
       " 'grapes',\n",
       " 'peach']"
      ]
     },
     "execution_count": 21,
     "metadata": {},
     "output_type": "execute_result"
    }
   ],
   "source": [
    "fruit.extend([\"grapes\", \"peach\"])\n",
    "fruit"
   ]
  },
  {
   "cell_type": "code",
   "execution_count": 22,
   "id": "6f2a0952",
   "metadata": {},
   "outputs": [
    {
     "data": {
      "text/plain": [
       "10"
      ]
     },
     "execution_count": 22,
     "metadata": {},
     "output_type": "execute_result"
    }
   ],
   "source": [
    "len(fruit)"
   ]
  },
  {
   "cell_type": "code",
   "execution_count": 23,
   "id": "fc6adb84",
   "metadata": {},
   "outputs": [
    {
     "data": {
      "text/plain": [
       "12"
      ]
     },
     "execution_count": 23,
     "metadata": {},
     "output_type": "execute_result"
    }
   ],
   "source": [
    "len(\"strawberries\")"
   ]
  },
  {
   "cell_type": "code",
   "execution_count": 24,
   "id": "7211e783",
   "metadata": {},
   "outputs": [],
   "source": [
    "fruit.remove([\"grapes\", \"peach\"])"
   ]
  },
  {
   "cell_type": "code",
   "execution_count": 25,
   "id": "8bd6e11a",
   "metadata": {},
   "outputs": [
    {
     "data": {
      "text/plain": [
       "['strawberries',\n",
       " 'apple',\n",
       " 'banana',\n",
       " 'strawberries',\n",
       " 'pear',\n",
       " 'apple',\n",
       " 'grapes',\n",
       " 'grapes',\n",
       " 'peach']"
      ]
     },
     "execution_count": 25,
     "metadata": {},
     "output_type": "execute_result"
    }
   ],
   "source": [
    "fruit"
   ]
  },
  {
   "cell_type": "code",
   "execution_count": 26,
   "id": "394644d8",
   "metadata": {},
   "outputs": [
    {
     "data": {
      "text/plain": [
       "9"
      ]
     },
     "execution_count": 26,
     "metadata": {},
     "output_type": "execute_result"
    }
   ],
   "source": [
    "len(fruit)"
   ]
  },
  {
   "cell_type": "code",
   "execution_count": 27,
   "id": "1ff02ebb",
   "metadata": {},
   "outputs": [
    {
     "data": {
      "text/plain": [
       "['strawberries',\n",
       " 'apple',\n",
       " 'banana',\n",
       " 'strawberries',\n",
       " 'pear',\n",
       " 'apple',\n",
       " 'grapes',\n",
       " 'grapes']"
      ]
     },
     "execution_count": 27,
     "metadata": {},
     "output_type": "execute_result"
    }
   ],
   "source": [
    "fruit.remove(\"peach\")\n",
    "fruit"
   ]
  },
  {
   "cell_type": "code",
   "execution_count": 30,
   "id": "5cfe2194",
   "metadata": {},
   "outputs": [
    {
     "data": {
      "text/plain": [
       "0"
      ]
     },
     "execution_count": 30,
     "metadata": {},
     "output_type": "execute_result"
    }
   ],
   "source": [
    "fruit.count(\"plum\")"
   ]
  },
  {
   "cell_type": "code",
   "execution_count": 31,
   "id": "cc4cfcd2",
   "metadata": {},
   "outputs": [],
   "source": [
    "fruit.clear()"
   ]
  },
  {
   "cell_type": "code",
   "execution_count": 32,
   "id": "f83bc919",
   "metadata": {},
   "outputs": [
    {
     "data": {
      "text/plain": [
       "[]"
      ]
     },
     "execution_count": 32,
     "metadata": {},
     "output_type": "execute_result"
    }
   ],
   "source": [
    "fruit"
   ]
  },
  {
   "cell_type": "code",
   "execution_count": 33,
   "id": "45211b44",
   "metadata": {},
   "outputs": [],
   "source": [
    "del fruit"
   ]
  },
  {
   "cell_type": "code",
   "execution_count": 34,
   "id": "9a6a6451",
   "metadata": {},
   "outputs": [
    {
     "ename": "NameError",
     "evalue": "name 'fruit' is not defined",
     "output_type": "error",
     "traceback": [
      "\u001b[0;31m---------------------------------------------------------------------------\u001b[0m",
      "\u001b[0;31mNameError\u001b[0m                                 Traceback (most recent call last)",
      "Cell \u001b[0;32mIn[34], line 1\u001b[0m\n\u001b[0;32m----> 1\u001b[0m \u001b[43mfruit\u001b[49m\n",
      "\u001b[0;31mNameError\u001b[0m: name 'fruit' is not defined"
     ]
    }
   ],
   "source": [
    "fruit"
   ]
  },
  {
   "cell_type": "code",
   "execution_count": 37,
   "id": "44e7b1d2",
   "metadata": {},
   "outputs": [
    {
     "name": "stdout",
     "output_type": "stream",
     "text": [
      "3\n"
     ]
    }
   ],
   "source": [
    "number_list = [5, 10, 29]\n",
    "print(len(number_list))\n",
    "bool_list = [True, False]\n",
    "\n",
    "number_list.extend(bool_list)"
   ]
  },
  {
   "cell_type": "code",
   "execution_count": 38,
   "id": "0c3ed2dd",
   "metadata": {},
   "outputs": [
    {
     "name": "stdout",
     "output_type": "stream",
     "text": [
      "5\n"
     ]
    }
   ],
   "source": [
    "number_list\n",
    "print(len(number_list))"
   ]
  },
  {
   "cell_type": "code",
   "execution_count": 39,
   "id": "e85972fd",
   "metadata": {},
   "outputs": [
    {
     "data": {
      "text/plain": [
       "['apple', 'banana', 'cherry']"
      ]
     },
     "execution_count": 39,
     "metadata": {},
     "output_type": "execute_result"
    }
   ],
   "source": [
    "fruit = list((\"apple\", \"banana\", \"cherry\"))\n",
    "fruit"
   ]
  },
  {
   "cell_type": "code",
   "execution_count": 40,
   "id": "bc215cc8",
   "metadata": {},
   "outputs": [
    {
     "data": {
      "text/plain": [
       "list"
      ]
     },
     "execution_count": 40,
     "metadata": {},
     "output_type": "execute_result"
    }
   ],
   "source": [
    "type(fruit)"
   ]
  },
  {
   "cell_type": "code",
   "execution_count": 42,
   "id": "8a9f2f82",
   "metadata": {},
   "outputs": [],
   "source": [
    "fruit[1] = \"blackberries\""
   ]
  },
  {
   "cell_type": "code",
   "execution_count": 43,
   "id": "b2606e3a",
   "metadata": {},
   "outputs": [
    {
     "data": {
      "text/plain": [
       "['apple', 'blackberries', 'cherry']"
      ]
     },
     "execution_count": 43,
     "metadata": {},
     "output_type": "execute_result"
    }
   ],
   "source": [
    "fruit"
   ]
  },
  {
   "cell_type": "code",
   "execution_count": 45,
   "id": "e5f7c5ac",
   "metadata": {},
   "outputs": [
    {
     "name": "stdout",
     "output_type": "stream",
     "text": [
      "apple\n",
      "blackberries\n"
     ]
    }
   ],
   "source": [
    "print(fruit[0])\n",
    "print(fruit[1])"
   ]
  },
  {
   "cell_type": "code",
   "execution_count": 48,
   "id": "d2bd2f25",
   "metadata": {},
   "outputs": [
    {
     "name": "stdout",
     "output_type": "stream",
     "text": [
      "apple\n",
      "banana\n",
      "cherry\n",
      "apple\n",
      "banana\n",
      "cherry\n",
      "apple\n",
      "banana\n",
      "cherry\n"
     ]
    }
   ],
   "source": [
    "fruit = ['apple', 'banana', 'cherry', 'apple', 'banana', 'cherry', 'apple', 'banana', 'cherry']\n",
    "\n",
    "for f in fruit:\n",
    "    print(f)"
   ]
  },
  {
   "cell_type": "code",
   "execution_count": 49,
   "id": "4ba74de9",
   "metadata": {},
   "outputs": [],
   "source": [
    "for num in [0, 1, 2]:\n",
    "    pass"
   ]
  },
  {
   "cell_type": "code",
   "execution_count": 56,
   "id": "eed17b25",
   "metadata": {},
   "outputs": [
    {
     "name": "stdout",
     "output_type": "stream",
     "text": [
      "--Outer loop starts--\n",
      "red\n",
      "apple\n",
      "banana\n",
      "cherry\n",
      "--Outer loop ends--\n",
      "--Outer loop starts--\n",
      "big\n",
      "apple\n",
      "banana\n",
      "cherry\n",
      "--Outer loop ends--\n",
      "--Outer loop starts--\n",
      "tasty\n",
      "apple\n",
      "banana\n",
      "cherry\n",
      "--Outer loop ends--\n",
      "Loop ends\n"
     ]
    }
   ],
   "source": [
    "adj = [\"red\", \"big\", \"tasty\"]\n",
    "fruit = [\"apple\", \"banana\", \"cherry\"]\n",
    "\n",
    "for a in adj:\n",
    "    print(\"--Outer loop starts--\")\n",
    "    print(a)\n",
    "    for f in fruit:\n",
    "        print(f)\n",
    "    print(\"--Outer loop ends--\")\n",
    "print(\"Loop ends\")"
   ]
  },
  {
   "cell_type": "code",
   "execution_count": 58,
   "id": "b63ee12d",
   "metadata": {},
   "outputs": [
    {
     "name": "stdout",
     "output_type": "stream",
     "text": [
      "1\n",
      "1.7\n",
      "2\n",
      "3.4\n",
      "3\n",
      "5.1\n",
      "4\n",
      "6.8\n",
      "5\n",
      "8.5\n"
     ]
    }
   ],
   "source": [
    "num_list = [1, 2, 3, 4, 5]\n",
    "\n",
    "for n in num_list:\n",
    "    print(n)\n",
    "    print(n*1.7)"
   ]
  },
  {
   "cell_type": "code",
   "execution_count": 64,
   "id": "e12831aa",
   "metadata": {},
   "outputs": [],
   "source": [
    "num_list2 = [1.7*x for x in num_list]"
   ]
  },
  {
   "cell_type": "code",
   "execution_count": 65,
   "id": "76b30089",
   "metadata": {},
   "outputs": [
    {
     "data": {
      "text/plain": [
       "[1.7, 3.4, 5.1, 6.8, 8.5]"
      ]
     },
     "execution_count": 65,
     "metadata": {},
     "output_type": "execute_result"
    }
   ],
   "source": [
    "num_list2"
   ]
  },
  {
   "cell_type": "code",
   "execution_count": 63,
   "id": "40472267",
   "metadata": {},
   "outputs": [
    {
     "data": {
      "text/plain": [
       "list"
      ]
     },
     "execution_count": 63,
     "metadata": {},
     "output_type": "execute_result"
    }
   ],
   "source": [
    "type(num_list2)"
   ]
  },
  {
   "cell_type": "code",
   "execution_count": 67,
   "id": "b9d2f22e",
   "metadata": {},
   "outputs": [
    {
     "data": {
      "text/plain": [
       "'Python is awesome'"
      ]
     },
     "execution_count": 67,
     "metadata": {},
     "output_type": "execute_result"
    }
   ],
   "source": [
    "word_1 = \"Python\"\n",
    "word_2 = \"is\"\n",
    "word_3 = \"awesome\"\n",
    "\n",
    "word_1 + \" \" + word_2 + \" \" + word_3"
   ]
  },
  {
   "cell_type": "code",
   "execution_count": 75,
   "id": "03e8a2f3",
   "metadata": {},
   "outputs": [
    {
     "data": {
      "text/plain": [
       "'Python*-*is*-*awesome'"
      ]
     },
     "execution_count": 75,
     "metadata": {},
     "output_type": "execute_result"
    }
   ],
   "source": [
    "word_list = [\"Python\", \"is\", \"awesome\"]\n",
    "\n",
    "\" \".join(word_list)"
   ]
  },
  {
   "cell_type": "code",
   "execution_count": null,
   "id": "e839cf30",
   "metadata": {},
   "outputs": [],
   "source": []
  }
 ],
 "metadata": {
  "kernelspec": {
   "display_name": "Python 3 (ipykernel)",
   "language": "python",
   "name": "python3"
  },
  "language_info": {
   "codemirror_mode": {
    "name": "ipython",
    "version": 3
   },
   "file_extension": ".py",
   "mimetype": "text/x-python",
   "name": "python",
   "nbconvert_exporter": "python",
   "pygments_lexer": "ipython3",
   "version": "3.11.3"
  }
 },
 "nbformat": 4,
 "nbformat_minor": 5
}
