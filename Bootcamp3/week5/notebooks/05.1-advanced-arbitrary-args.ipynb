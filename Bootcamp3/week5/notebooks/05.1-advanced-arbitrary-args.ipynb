{
 "cells": [
  {
   "cell_type": "code",
   "execution_count": 1,
   "id": "1f64b5a2",
   "metadata": {},
   "outputs": [
    {
     "name": "stdout",
     "output_type": "stream",
     "text": [
      "Name of the youngest child Z\n"
     ]
    }
   ],
   "source": [
    "# if you do not know the number or arguments, in other words you are unsure how many values a user will specify \n",
    "# you can add a single * before the parameter name\n",
    "\n",
    "def my_children_function(*kids):\n",
    "    \"\"\"Prints the name of the last child specified\"\"\"\n",
    "    print(f\"Name of the youngest child {kids[-1]}\")\n",
    "\n",
    "\n",
    "my_children_function(\"A\", \"B\", \"E\", \"F\", \"Z\")"
   ]
  },
  {
   "cell_type": "code",
   "execution_count": 2,
   "id": "d1a005f2",
   "metadata": {},
   "outputs": [
    {
     "name": "stdout",
     "output_type": "stream",
     "text": [
      "Name of the youngest child D\n"
     ]
    }
   ],
   "source": [
    "# this is the same as writing\n",
    "\n",
    "def my_children_function(kids):\n",
    "    \"\"\"Count the number of children\"\"\"\n",
    "    print(f\"Name of the youngest child {kids[-1]}\")\n",
    "\n",
    "\n",
    "my_children_function(kids=(\"A\", \"B\", \"C\", \"D\"))"
   ]
  },
  {
   "cell_type": "code",
   "execution_count": 3,
   "id": "61c595b0",
   "metadata": {},
   "outputs": [
    {
     "name": "stdout",
     "output_type": "stream",
     "text": [
      "The name of the person is Sarah\n",
      "The age of the person is 270\n"
     ]
    }
   ],
   "source": [
    "# The **kwargs will give you all keyword arguments as a dictionary.\n",
    "# with ** you do not have to specify a fixed keyword argument\n",
    "\n",
    "def bar(**kwargs):\n",
    "    for a in kwargs:\n",
    "        print(f\"The {a} of the person is {kwargs[a]}\")\n",
    "\n",
    "bar(name='Sarah', age=270)"
   ]
  },
  {
   "cell_type": "code",
   "execution_count": 5,
   "id": "093c9893",
   "metadata": {},
   "outputs": [
    {
     "name": "stdout",
     "output_type": "stream",
     "text": [
      "The age of the person is 34\n",
      "The name of the person is Sarah\n",
      "The job of the person is Lecturer\n",
      "The gender of the person is female\n"
     ]
    }
   ],
   "source": [
    "def bar(**kwargs):\n",
    "    for a in kwargs:\n",
    "        print(f\"The {a} of the person is {kwargs[a]}\")\n",
    "\n",
    "bar(age=34, name='Sarah', job=\"Lecturer\", gender=\"female\")"
   ]
  }
 ],
 "metadata": {
  "kernelspec": {
   "display_name": "Python 3 (ipykernel)",
   "language": "python",
   "name": "python3"
  },
  "language_info": {
   "codemirror_mode": {
    "name": "ipython",
    "version": 3
   },
   "file_extension": ".py",
   "mimetype": "text/x-python",
   "name": "python",
   "nbconvert_exporter": "python",
   "pygments_lexer": "ipython3",
   "version": "3.11.3"
  }
 },
 "nbformat": 4,
 "nbformat_minor": 5
}
