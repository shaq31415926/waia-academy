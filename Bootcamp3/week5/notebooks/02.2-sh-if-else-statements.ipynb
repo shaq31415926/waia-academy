{
 "cells": [
  {
   "cell_type": "code",
   "execution_count": 13,
   "id": "917fa8c2",
   "metadata": {},
   "outputs": [],
   "source": [
    "# declaring two variables\n",
    "a = 10\n",
    "b = 18"
   ]
  },
  {
   "cell_type": "code",
   "execution_count": 14,
   "id": "8f43f7e8",
   "metadata": {},
   "outputs": [],
   "source": [
    "# if a is greater than b then print hello world\n",
    "\n",
    "if a > b:\n",
    "    print(\"Hello World\")"
   ]
  },
  {
   "cell_type": "code",
   "execution_count": 15,
   "id": "05bfd06b",
   "metadata": {},
   "outputs": [
    {
     "name": "stdout",
     "output_type": "stream",
     "text": [
      "a has to be greater than b\n"
     ]
    }
   ],
   "source": [
    "# if a is greater than b print hello world, otherwise print something else\n",
    "\n",
    "if a > b:\n",
    "    print(\"Hello World\")\n",
    "else:\n",
    "    print(\"a has to be greater than b\")"
   ]
  },
  {
   "cell_type": "code",
   "execution_count": 16,
   "id": "406699f3",
   "metadata": {},
   "outputs": [
    {
     "name": "stdout",
     "output_type": "stream",
     "text": [
      "a has to be greater than b\n"
     ]
    }
   ],
   "source": [
    "# if a is greater than b print hello world\n",
    "# if a equals b then print a equals b\n",
    "# otherwise print a has to be greater than b\n",
    "\n",
    "if a > b:\n",
    "    print(\"Hello World\")\n",
    "elif a == b:\n",
    "    print(\"a equals b\")\n",
    "else:\n",
    "    print(\"a has to be greater than b\")"
   ]
  },
  {
   "cell_type": "code",
   "execution_count": 19,
   "id": "10cb3c6e",
   "metadata": {},
   "outputs": [],
   "source": [
    "# declaring two variables\n",
    "a = 10\n",
    "b = 18\n",
    "c = 500"
   ]
  },
  {
   "cell_type": "code",
   "execution_count": 20,
   "id": "72d65845",
   "metadata": {},
   "outputs": [],
   "source": [
    "if a > b and c > a:\n",
    "    print(\"hello world\")"
   ]
  },
  {
   "cell_type": "code",
   "execution_count": 21,
   "id": "7f061896",
   "metadata": {},
   "outputs": [
    {
     "name": "stdout",
     "output_type": "stream",
     "text": [
      "hello world\n"
     ]
    }
   ],
   "source": [
    "if a > b or c > a:\n",
    "    print(\"hello world\")"
   ]
  },
  {
   "cell_type": "code",
   "execution_count": 22,
   "id": "f4580a51",
   "metadata": {},
   "outputs": [],
   "source": [
    "if b > a:\n",
    "    pass"
   ]
  },
  {
   "cell_type": "code",
   "execution_count": 27,
   "id": "b859f00e",
   "metadata": {},
   "outputs": [
    {
     "name": "stdout",
     "output_type": "stream",
     "text": [
      "The variable is less than 10\n"
     ]
    }
   ],
   "source": [
    "x = 9\n",
    "\n",
    "if x > 10:\n",
    "    print(\"The variable is greater than 10\")\n",
    "    if x > 20:\n",
    "        print(\"The variable is above 20!\")\n",
    "    else:\n",
    "        print(\"The variable is not above 20!\")\n",
    "else:\n",
    "    print(\"The variable is less than 10\")\n"
   ]
  },
  {
   "cell_type": "code",
   "execution_count": 34,
   "id": "97e6ebdc",
   "metadata": {},
   "outputs": [],
   "source": [
    "z = 151\n",
    "\n",
    "if z > 100:\n",
    "    age = 100\n",
    "    if z > 150:\n",
    "        age = 150\n",
    "    else:\n",
    "        age = 100\n",
    "else:\n",
    "    age = 50"
   ]
  },
  {
   "cell_type": "code",
   "execution_count": 35,
   "id": "d71a0f05",
   "metadata": {},
   "outputs": [
    {
     "name": "stdout",
     "output_type": "stream",
     "text": [
      "150\n"
     ]
    }
   ],
   "source": [
    "print(age)"
   ]
  },
  {
   "cell_type": "code",
   "execution_count": 43,
   "id": "8454a58d",
   "metadata": {},
   "outputs": [
    {
     "name": "stdout",
     "output_type": "stream",
     "text": [
      "The patient is overweight\n"
     ]
    }
   ],
   "source": [
    "# if elif statement to calculate a patients bmi\n",
    "\n",
    "bmi = 29\n",
    "\n",
    "if bmi < 18.5:\n",
    "    print(\"The patient is underweight\")\n",
    "elif bmi >= 18.5 and bmi <= 24.9:\n",
    "    print(\"The patient is healthy\")\n",
    "elif bmi > 24.9 and bmi <= 29.9:\n",
    "    print(\"The patient is overweight\")\n",
    "else:\n",
    "    print(\"The patient is obese\")"
   ]
  },
  {
   "cell_type": "code",
   "execution_count": null,
   "id": "ab0cd73d",
   "metadata": {},
   "outputs": [],
   "source": []
  }
 ],
 "metadata": {
  "kernelspec": {
   "display_name": "Python 3 (ipykernel)",
   "language": "python",
   "name": "python3"
  },
  "language_info": {
   "codemirror_mode": {
    "name": "ipython",
    "version": 3
   },
   "file_extension": ".py",
   "mimetype": "text/x-python",
   "name": "python",
   "nbconvert_exporter": "python",
   "pygments_lexer": "ipython3",
   "version": "3.11.3"
  }
 },
 "nbformat": 4,
 "nbformat_minor": 5
}
