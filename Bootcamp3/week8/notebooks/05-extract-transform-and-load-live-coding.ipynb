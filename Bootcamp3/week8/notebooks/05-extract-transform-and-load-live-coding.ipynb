{
 "cells": [
  {
   "cell_type": "markdown",
   "id": "e74ded95",
   "metadata": {},
   "source": [
    "We are going to extract data from redshift and carry out the following transformation tasks\n",
    "- (Y) remove all rows where customer id is missing - **SQL** or Python\n",
    "- (Y) remove certain stock codes - **SQL** or Python\n",
    "- (Y) add description to the online transactions table - **SQL** or Python\n",
    "- (Y) remove all duplicate data - **Python**\n",
    "- (Y) replace missing stock description with Unknown  - SQL or **Python**\n",
    "- (Y) fix data type - **Python** or SQL\n"
   ]
  },
  {
   "cell_type": "code",
   "execution_count": 101,
   "id": "f0d863be",
   "metadata": {},
   "outputs": [],
   "source": [
    "# import the libraries we need\n",
    "\n",
    "import psycopg2\n",
    "import pandas as pd\n",
    "\n",
    "import boto3\n",
    "from io import StringIO\n",
    "\n",
    "# add if you want to remove warning messages\n",
    "import warnings\n",
    "warnings.filterwarnings(\"ignore\")\n"
   ]
  },
  {
   "cell_type": "markdown",
   "id": "2f2f43f4",
   "metadata": {},
   "source": [
    "## Extracting Data"
   ]
  },
  {
   "cell_type": "code",
   "execution_count": 102,
   "id": "2a1256c4",
   "metadata": {},
   "outputs": [],
   "source": [
    "# NEVER share passwords\n",
    "# this only works with a .env file, you can hardcode the values for now\n",
    "\n",
    "import os\n",
    "\n",
    "from dotenv import load_dotenv\n",
    "load_dotenv()  # only for local testing\n",
    "\n",
    "\n",
    "dbname = os.getenv(\"dbname\")\n",
    "host = os.getenv(\"host\")\n",
    "port = os.getenv(\"port\")\n",
    "user = os.getenv(\"user\")\n",
    "password = os.getenv(\"password\")"
   ]
  },
  {
   "cell_type": "code",
   "execution_count": 103,
   "id": "efeca610",
   "metadata": {},
   "outputs": [],
   "source": [
    "# definition that connects to redshift\n",
    "\n",
    "def connect_to_redshift(dbname, host, port, user, password):\n",
    "    \"\"\"definition to connect to redshift\"\"\"\n",
    "\n",
    "    connect = psycopg2.connect(\n",
    "            dbname=dbname, host=host, port=port, user=user, password=password\n",
    "        )\n",
    "    \n",
    "    print(\"connection to redshift made\")\n",
    "    \n",
    "    return connect"
   ]
  },
  {
   "cell_type": "code",
   "execution_count": 104,
   "id": "cffb7d55",
   "metadata": {},
   "outputs": [
    {
     "name": "stdout",
     "output_type": "stream",
     "text": [
      "connection to redshift made\n"
     ]
    }
   ],
   "source": [
    "connect = connect_to_redshift(dbname, host, port, user, password)"
   ]
  },
  {
   "cell_type": "code",
   "execution_count": 105,
   "id": "043cc8ad",
   "metadata": {},
   "outputs": [
    {
     "data": {
      "text/html": [
       "<div>\n",
       "<style scoped>\n",
       "    .dataframe tbody tr th:only-of-type {\n",
       "        vertical-align: middle;\n",
       "    }\n",
       "\n",
       "    .dataframe tbody tr th {\n",
       "        vertical-align: top;\n",
       "    }\n",
       "\n",
       "    .dataframe thead th {\n",
       "        text-align: right;\n",
       "    }\n",
       "</style>\n",
       "<table border=\"1\" class=\"dataframe\">\n",
       "  <thead>\n",
       "    <tr style=\"text-align: right;\">\n",
       "      <th></th>\n",
       "      <th>stock_code</th>\n",
       "      <th>description</th>\n",
       "    </tr>\n",
       "  </thead>\n",
       "  <tbody>\n",
       "    <tr>\n",
       "      <th>0</th>\n",
       "      <td>10002</td>\n",
       "      <td>INFLATABLE POLITICAL GLOBE</td>\n",
       "    </tr>\n",
       "    <tr>\n",
       "      <th>1</th>\n",
       "      <td>10080</td>\n",
       "      <td>GROOVY CACTUS INFLATABLE</td>\n",
       "    </tr>\n",
       "    <tr>\n",
       "      <th>2</th>\n",
       "      <td>10120</td>\n",
       "      <td>DOGGY RUBBER</td>\n",
       "    </tr>\n",
       "    <tr>\n",
       "      <th>3</th>\n",
       "      <td>10123C</td>\n",
       "      <td>HEARTS WRAPPING TAPE</td>\n",
       "    </tr>\n",
       "    <tr>\n",
       "      <th>4</th>\n",
       "      <td>10124A</td>\n",
       "      <td>SPOTS ON RED BOOKCOVER TAPE</td>\n",
       "    </tr>\n",
       "    <tr>\n",
       "      <th>5</th>\n",
       "      <td>10124G</td>\n",
       "      <td>ARMY CAMO BOOKCOVER TAPE</td>\n",
       "    </tr>\n",
       "    <tr>\n",
       "      <th>6</th>\n",
       "      <td>10125</td>\n",
       "      <td>MINI FUNKY DESIGN TAPES</td>\n",
       "    </tr>\n",
       "    <tr>\n",
       "      <th>7</th>\n",
       "      <td>10133</td>\n",
       "      <td>COLOURING PENCILS BROWN TUBE</td>\n",
       "    </tr>\n",
       "    <tr>\n",
       "      <th>8</th>\n",
       "      <td>10135</td>\n",
       "      <td>COLOURING PENCILS BROWN TUBE</td>\n",
       "    </tr>\n",
       "    <tr>\n",
       "      <th>9</th>\n",
       "      <td>11001</td>\n",
       "      <td>ASSTD DESIGN RACING CAR PEN</td>\n",
       "    </tr>\n",
       "  </tbody>\n",
       "</table>\n",
       "</div>"
      ],
      "text/plain": [
       "  stock_code                   description\n",
       "0      10002   INFLATABLE POLITICAL GLOBE \n",
       "1      10080      GROOVY CACTUS INFLATABLE\n",
       "2      10120                  DOGGY RUBBER\n",
       "3     10123C         HEARTS WRAPPING TAPE \n",
       "4     10124A   SPOTS ON RED BOOKCOVER TAPE\n",
       "5     10124G      ARMY CAMO BOOKCOVER TAPE\n",
       "6      10125       MINI FUNKY DESIGN TAPES\n",
       "7      10133  COLOURING PENCILS BROWN TUBE\n",
       "8      10135  COLOURING PENCILS BROWN TUBE\n",
       "9      11001   ASSTD DESIGN RACING CAR PEN"
      ]
     },
     "execution_count": 105,
     "metadata": {},
     "output_type": "execute_result"
    }
   ],
   "source": [
    "# check everything is working\n",
    "\n",
    "query = \"\"\"select *\n",
    "from bootcamp.stock_description\n",
    "limit 10\n",
    "\"\"\"\n",
    "\n",
    "pd.read_sql(query, connect)"
   ]
  },
  {
   "cell_type": "code",
   "execution_count": 106,
   "id": "045d42b3",
   "metadata": {},
   "outputs": [],
   "source": [
    "# how many rows does the online transaction table contain??\n",
    "\n",
    "query = \"\"\"select *\n",
    "           from bootcamp.online_transactions\n",
    "\"\"\"\n",
    "\n",
    "online_trans = pd.read_sql(query, connect)"
   ]
  },
  {
   "cell_type": "code",
   "execution_count": 107,
   "id": "606ca589",
   "metadata": {},
   "outputs": [
    {
     "data": {
      "text/plain": [
       "(541910, 7)"
      ]
     },
     "execution_count": 107,
     "metadata": {},
     "output_type": "execute_result"
    }
   ],
   "source": [
    "online_trans.shape\n",
    "\n",
    "# this is important, because when we do a left join our new table should have the same number of rows as our \"left table\""
   ]
  },
  {
   "cell_type": "code",
   "execution_count": 108,
   "id": "64732425",
   "metadata": {},
   "outputs": [],
   "source": [
    "# joins the description field to the online transactions table\n",
    "# removes rows of data where customer id is blank\n",
    "# removes rows of data where stock code is in bank charges, postages etc...\n",
    "\n",
    "query = \"\"\"select ot.*,\n",
    "                  sd.Description\n",
    "           from bootcamp.online_transactions as ot\n",
    "           left join bootcamp.stock_description as sd on ot.stock_code = sd.stock_code\n",
    "           where ot.customer_id <> ''\n",
    "            and ot.stock_code not in ('BANK CHARGES', 'POST', 'D', 'M', 'CRUK')\n",
    "\"\"\"\n",
    "\n",
    "online_trans_option1 = pd.read_sql(query, connect)"
   ]
  },
  {
   "cell_type": "code",
   "execution_count": 109,
   "id": "686d4d7b",
   "metadata": {},
   "outputs": [
    {
     "data": {
      "text/plain": [
       "(412922, 8)"
      ]
     },
     "execution_count": 109,
     "metadata": {},
     "output_type": "execute_result"
    }
   ],
   "source": [
    "online_trans_option1.shape\n",
    "\n",
    "# because we have some stock codes with two descriptions we have to add a sub query to fix that\n",
    "# however, if you find that is too complicated please stick to this stock"
   ]
  },
  {
   "cell_type": "code",
   "execution_count": 110,
   "id": "750a7391",
   "metadata": {},
   "outputs": [
    {
     "data": {
      "text/html": [
       "<div>\n",
       "<style scoped>\n",
       "    .dataframe tbody tr th:only-of-type {\n",
       "        vertical-align: middle;\n",
       "    }\n",
       "\n",
       "    .dataframe tbody tr th {\n",
       "        vertical-align: top;\n",
       "    }\n",
       "\n",
       "    .dataframe thead th {\n",
       "        text-align: right;\n",
       "    }\n",
       "</style>\n",
       "<table border=\"1\" class=\"dataframe\">\n",
       "  <thead>\n",
       "    <tr style=\"text-align: right;\">\n",
       "      <th></th>\n",
       "      <th>invoice</th>\n",
       "      <th>stock_code</th>\n",
       "      <th>quantity</th>\n",
       "      <th>invoice_date</th>\n",
       "      <th>price</th>\n",
       "      <th>customer_id</th>\n",
       "      <th>country</th>\n",
       "      <th>description</th>\n",
       "    </tr>\n",
       "  </thead>\n",
       "  <tbody>\n",
       "    <tr>\n",
       "      <th>0</th>\n",
       "      <td>536365</td>\n",
       "      <td>85123A</td>\n",
       "      <td>6</td>\n",
       "      <td>2010-12-01 08:26:00</td>\n",
       "      <td>2.55</td>\n",
       "      <td>u1785</td>\n",
       "      <td>United Kingdom</td>\n",
       "      <td>CREAM HANGING HEART T-LIGHT HOLDER</td>\n",
       "    </tr>\n",
       "    <tr>\n",
       "      <th>1</th>\n",
       "      <td>536368</td>\n",
       "      <td>22914</td>\n",
       "      <td>3</td>\n",
       "      <td>2010-12-01 08:34:00</td>\n",
       "      <td>4.95</td>\n",
       "      <td>u13047</td>\n",
       "      <td>United Kingdom</td>\n",
       "      <td>BLUE COAT RACK PARIS FASHION</td>\n",
       "    </tr>\n",
       "    <tr>\n",
       "      <th>2</th>\n",
       "      <td>536367</td>\n",
       "      <td>48187</td>\n",
       "      <td>4</td>\n",
       "      <td>2010-12-01 08:34:00</td>\n",
       "      <td>7.95</td>\n",
       "      <td>u13047</td>\n",
       "      <td>United Kingdom</td>\n",
       "      <td>DOORMAT NEW ENGLAND</td>\n",
       "    </tr>\n",
       "    <tr>\n",
       "      <th>3</th>\n",
       "      <td>536370</td>\n",
       "      <td>22726</td>\n",
       "      <td>12</td>\n",
       "      <td>2010-12-01 08:45:00</td>\n",
       "      <td>3.75</td>\n",
       "      <td>u12583</td>\n",
       "      <td>France</td>\n",
       "      <td>ALARM CLOCK BAKELIKE GREEN</td>\n",
       "    </tr>\n",
       "    <tr>\n",
       "      <th>4</th>\n",
       "      <td>536375</td>\n",
       "      <td>82482</td>\n",
       "      <td>6</td>\n",
       "      <td>2010-12-01 09:32:00</td>\n",
       "      <td>2.10</td>\n",
       "      <td>u1785</td>\n",
       "      <td>United Kingdom</td>\n",
       "      <td>WOODEN PICTURE FRAME WHITE FINISH</td>\n",
       "    </tr>\n",
       "  </tbody>\n",
       "</table>\n",
       "</div>"
      ],
      "text/plain": [
       "  invoice stock_code  quantity         invoice_date  price customer_id   \n",
       "0  536365     85123A         6  2010-12-01 08:26:00   2.55       u1785  \\\n",
       "1  536368      22914         3  2010-12-01 08:34:00   4.95      u13047   \n",
       "2  536367      48187         4  2010-12-01 08:34:00   7.95      u13047   \n",
       "3  536370      22726        12  2010-12-01 08:45:00   3.75      u12583   \n",
       "4  536375      82482         6  2010-12-01 09:32:00   2.10       u1785   \n",
       "\n",
       "          country                         description  \n",
       "0  United Kingdom  CREAM HANGING HEART T-LIGHT HOLDER  \n",
       "1  United Kingdom        BLUE COAT RACK PARIS FASHION  \n",
       "2  United Kingdom                 DOORMAT NEW ENGLAND  \n",
       "3          France          ALARM CLOCK BAKELIKE GREEN  \n",
       "4  United Kingdom   WOODEN PICTURE FRAME WHITE FINISH  "
      ]
     },
     "execution_count": 110,
     "metadata": {},
     "output_type": "execute_result"
    }
   ],
   "source": [
    "# joins the description field to the online transactions table\n",
    "# removes invoices where customer id is blank\n",
    "# removes invoices where stock code is in bank charges, postages etc...\n",
    "\n",
    "query = \"\"\"\n",
    "select o.*,\n",
    "       s.description\n",
    "from bootcamp.online_transactions o\n",
    "/*this is a sub query that removes question marks from the stock desc table*/\n",
    "left join (select *\n",
    "          from bootcamp.stock_description\n",
    "          where description <> '?') s on o.stock_code = s.stock_code\n",
    "where o.customer_id <> ''\n",
    "    and o.stock_code not in ('BANK CHARGES', 'POST', 'D', 'M', 'CRUK')\n",
    "\"\"\"\n",
    "\n",
    "online_trans_w_desc = pd.read_sql(query, connect)\n",
    "online_trans_w_desc.head()"
   ]
  },
  {
   "cell_type": "code",
   "execution_count": 111,
   "id": "99de1e67",
   "metadata": {},
   "outputs": [
    {
     "data": {
      "text/plain": [
       "(405063, 8)"
      ]
     },
     "execution_count": 111,
     "metadata": {},
     "output_type": "execute_result"
    }
   ],
   "source": [
    "online_trans_w_desc.shape\n",
    "\n",
    "# this removes all cases where the description in the stock description table has a ?"
   ]
  },
  {
   "cell_type": "code",
   "execution_count": 112,
   "id": "a447d2ac",
   "metadata": {},
   "outputs": [
    {
     "data": {
      "text/html": [
       "<div>\n",
       "<style scoped>\n",
       "    .dataframe tbody tr th:only-of-type {\n",
       "        vertical-align: middle;\n",
       "    }\n",
       "\n",
       "    .dataframe tbody tr th {\n",
       "        vertical-align: top;\n",
       "    }\n",
       "\n",
       "    .dataframe thead th {\n",
       "        text-align: right;\n",
       "    }\n",
       "</style>\n",
       "<table border=\"1\" class=\"dataframe\">\n",
       "  <thead>\n",
       "    <tr style=\"text-align: right;\">\n",
       "      <th></th>\n",
       "      <th>invoice</th>\n",
       "      <th>stock_code</th>\n",
       "      <th>quantity</th>\n",
       "      <th>invoice_date</th>\n",
       "      <th>price</th>\n",
       "      <th>customer_id</th>\n",
       "      <th>country</th>\n",
       "      <th>description</th>\n",
       "    </tr>\n",
       "  </thead>\n",
       "  <tbody>\n",
       "  </tbody>\n",
       "</table>\n",
       "</div>"
      ],
      "text/plain": [
       "Empty DataFrame\n",
       "Columns: [invoice, stock_code, quantity, invoice_date, price, customer_id, country, description]\n",
       "Index: []"
      ]
     },
     "execution_count": 112,
     "metadata": {},
     "output_type": "execute_result"
    }
   ],
   "source": [
    "online_trans_w_desc[online_trans_w_desc.customer_id == '']\n",
    "\n",
    "# check: we have no cases of missing customer ids"
   ]
  },
  {
   "cell_type": "code",
   "execution_count": 113,
   "id": "b97d5842",
   "metadata": {},
   "outputs": [
    {
     "data": {
      "text/html": [
       "<div>\n",
       "<style scoped>\n",
       "    .dataframe tbody tr th:only-of-type {\n",
       "        vertical-align: middle;\n",
       "    }\n",
       "\n",
       "    .dataframe tbody tr th {\n",
       "        vertical-align: top;\n",
       "    }\n",
       "\n",
       "    .dataframe thead th {\n",
       "        text-align: right;\n",
       "    }\n",
       "</style>\n",
       "<table border=\"1\" class=\"dataframe\">\n",
       "  <thead>\n",
       "    <tr style=\"text-align: right;\">\n",
       "      <th></th>\n",
       "      <th>invoice</th>\n",
       "      <th>stock_code</th>\n",
       "      <th>quantity</th>\n",
       "      <th>invoice_date</th>\n",
       "      <th>price</th>\n",
       "      <th>customer_id</th>\n",
       "      <th>country</th>\n",
       "      <th>description</th>\n",
       "    </tr>\n",
       "  </thead>\n",
       "  <tbody>\n",
       "  </tbody>\n",
       "</table>\n",
       "</div>"
      ],
      "text/plain": [
       "Empty DataFrame\n",
       "Columns: [invoice, stock_code, quantity, invoice_date, price, customer_id, country, description]\n",
       "Index: []"
      ]
     },
     "execution_count": 113,
     "metadata": {},
     "output_type": "execute_result"
    }
   ],
   "source": [
    "online_trans_w_desc[online_trans_w_desc.stock_code == 'POSTAGE']\n",
    "\n",
    "# check: we have no cases of stock codes with postage"
   ]
  },
  {
   "cell_type": "code",
   "execution_count": 114,
   "id": "5106d406",
   "metadata": {},
   "outputs": [
    {
     "data": {
      "text/plain": [
       "pandas.core.frame.DataFrame"
      ]
     },
     "execution_count": 114,
     "metadata": {},
     "output_type": "execute_result"
    }
   ],
   "source": [
    "type(online_trans_w_desc)"
   ]
  },
  {
   "cell_type": "code",
   "execution_count": 115,
   "id": "378ebb14",
   "metadata": {},
   "outputs": [
    {
     "data": {
      "text/plain": [
       "(405063, 8)"
      ]
     },
     "execution_count": 115,
     "metadata": {},
     "output_type": "execute_result"
    }
   ],
   "source": [
    "online_trans_w_desc.shape\n",
    "\n",
    "# dropped from 541k rows to 405k rows, and increased the number of columns by one"
   ]
  },
  {
   "cell_type": "markdown",
   "id": "fc2c6de4",
   "metadata": {},
   "source": [
    "## Transforming Data"
   ]
  },
  {
   "cell_type": "markdown",
   "id": "5afed3e7",
   "metadata": {},
   "source": [
    "### Removing duplicated data"
   ]
  },
  {
   "cell_type": "code",
   "execution_count": 116,
   "id": "9abc89a7",
   "metadata": {},
   "outputs": [
    {
     "data": {
      "text/plain": [
       "5303"
      ]
     },
     "execution_count": 116,
     "metadata": {},
     "output_type": "execute_result"
    }
   ],
   "source": [
    "# task 1 - Remove duplicated data, from the first table\n",
    "\n",
    "online_trans_option1.duplicated().sum()"
   ]
  },
  {
   "cell_type": "code",
   "execution_count": 117,
   "id": "0667cc82",
   "metadata": {},
   "outputs": [
    {
     "data": {
      "text/plain": [
       "5222"
      ]
     },
     "execution_count": 117,
     "metadata": {},
     "output_type": "execute_result"
    }
   ],
   "source": [
    "# task 1 - Remove duplicated data\n",
    "\n",
    "online_trans_w_desc.duplicated().sum()"
   ]
  },
  {
   "cell_type": "code",
   "execution_count": 118,
   "id": "818a3427",
   "metadata": {},
   "outputs": [
    {
     "data": {
      "text/html": [
       "<div>\n",
       "<style scoped>\n",
       "    .dataframe tbody tr th:only-of-type {\n",
       "        vertical-align: middle;\n",
       "    }\n",
       "\n",
       "    .dataframe tbody tr th {\n",
       "        vertical-align: top;\n",
       "    }\n",
       "\n",
       "    .dataframe thead th {\n",
       "        text-align: right;\n",
       "    }\n",
       "</style>\n",
       "<table border=\"1\" class=\"dataframe\">\n",
       "  <thead>\n",
       "    <tr style=\"text-align: right;\">\n",
       "      <th></th>\n",
       "      <th>invoice</th>\n",
       "      <th>stock_code</th>\n",
       "      <th>quantity</th>\n",
       "      <th>invoice_date</th>\n",
       "      <th>price</th>\n",
       "      <th>customer_id</th>\n",
       "      <th>country</th>\n",
       "      <th>description</th>\n",
       "    </tr>\n",
       "  </thead>\n",
       "  <tbody>\n",
       "    <tr>\n",
       "      <th>889</th>\n",
       "      <td>536409</td>\n",
       "      <td>21866</td>\n",
       "      <td>1</td>\n",
       "      <td>2010-12-01 11:45:00</td>\n",
       "      <td>1.25</td>\n",
       "      <td>u17908</td>\n",
       "      <td>United Kingdom</td>\n",
       "      <td>UNION JACK FLAG LUGGAGE TAG</td>\n",
       "    </tr>\n",
       "    <tr>\n",
       "      <th>1997</th>\n",
       "      <td>536409</td>\n",
       "      <td>21866</td>\n",
       "      <td>1</td>\n",
       "      <td>2010-12-01 11:45:00</td>\n",
       "      <td>1.25</td>\n",
       "      <td>u17908</td>\n",
       "      <td>United Kingdom</td>\n",
       "      <td>UNION JACK FLAG LUGGAGE TAG</td>\n",
       "    </tr>\n",
       "    <tr>\n",
       "      <th>14720</th>\n",
       "      <td>536409</td>\n",
       "      <td>22111</td>\n",
       "      <td>1</td>\n",
       "      <td>2010-12-01 11:45:00</td>\n",
       "      <td>4.95</td>\n",
       "      <td>u17908</td>\n",
       "      <td>United Kingdom</td>\n",
       "      <td>SCOTTIE DOG HOT WATER BOTTLE</td>\n",
       "    </tr>\n",
       "    <tr>\n",
       "      <th>16856</th>\n",
       "      <td>536409</td>\n",
       "      <td>22111</td>\n",
       "      <td>1</td>\n",
       "      <td>2010-12-01 11:45:00</td>\n",
       "      <td>4.95</td>\n",
       "      <td>u17908</td>\n",
       "      <td>United Kingdom</td>\n",
       "      <td>SCOTTIE DOG HOT WATER BOTTLE</td>\n",
       "    </tr>\n",
       "    <tr>\n",
       "      <th>1995</th>\n",
       "      <td>536409</td>\n",
       "      <td>22866</td>\n",
       "      <td>1</td>\n",
       "      <td>2010-12-01 11:45:00</td>\n",
       "      <td>2.10</td>\n",
       "      <td>u17908</td>\n",
       "      <td>United Kingdom</td>\n",
       "      <td>HAND WARMER SCOTTY DOG DESIGN</td>\n",
       "    </tr>\n",
       "    <tr>\n",
       "      <th>15883</th>\n",
       "      <td>536409</td>\n",
       "      <td>22866</td>\n",
       "      <td>1</td>\n",
       "      <td>2010-12-01 11:45:00</td>\n",
       "      <td>2.10</td>\n",
       "      <td>u17908</td>\n",
       "      <td>United Kingdom</td>\n",
       "      <td>HAND WARMER SCOTTY DOG DESIGN</td>\n",
       "    </tr>\n",
       "    <tr>\n",
       "      <th>2484</th>\n",
       "      <td>536409</td>\n",
       "      <td>22900</td>\n",
       "      <td>1</td>\n",
       "      <td>2010-12-01 11:45:00</td>\n",
       "      <td>2.95</td>\n",
       "      <td>u17908</td>\n",
       "      <td>United Kingdom</td>\n",
       "      <td>SET 2 TEA TOWELS I LOVE LONDON</td>\n",
       "    </tr>\n",
       "    <tr>\n",
       "      <th>2485</th>\n",
       "      <td>536409</td>\n",
       "      <td>22900</td>\n",
       "      <td>1</td>\n",
       "      <td>2010-12-01 11:45:00</td>\n",
       "      <td>2.95</td>\n",
       "      <td>u17908</td>\n",
       "      <td>United Kingdom</td>\n",
       "      <td>SET 2 TEA TOWELS I LOVE LONDON</td>\n",
       "    </tr>\n",
       "    <tr>\n",
       "      <th>37</th>\n",
       "      <td>536412</td>\n",
       "      <td>21448</td>\n",
       "      <td>2</td>\n",
       "      <td>2010-12-01 11:49:00</td>\n",
       "      <td>1.65</td>\n",
       "      <td>u1792</td>\n",
       "      <td>United Kingdom</td>\n",
       "      <td>12 DAISY PEGS IN WOOD BOX</td>\n",
       "    </tr>\n",
       "    <tr>\n",
       "      <th>313</th>\n",
       "      <td>536412</td>\n",
       "      <td>21448</td>\n",
       "      <td>1</td>\n",
       "      <td>2010-12-01 11:49:00</td>\n",
       "      <td>1.65</td>\n",
       "      <td>u1792</td>\n",
       "      <td>United Kingdom</td>\n",
       "      <td>12 DAISY PEGS IN WOOD BOX</td>\n",
       "    </tr>\n",
       "  </tbody>\n",
       "</table>\n",
       "</div>"
      ],
      "text/plain": [
       "      invoice stock_code  quantity         invoice_date  price customer_id   \n",
       "889    536409      21866         1  2010-12-01 11:45:00   1.25      u17908  \\\n",
       "1997   536409      21866         1  2010-12-01 11:45:00   1.25      u17908   \n",
       "14720  536409      22111         1  2010-12-01 11:45:00   4.95      u17908   \n",
       "16856  536409      22111         1  2010-12-01 11:45:00   4.95      u17908   \n",
       "1995   536409      22866         1  2010-12-01 11:45:00   2.10      u17908   \n",
       "15883  536409      22866         1  2010-12-01 11:45:00   2.10      u17908   \n",
       "2484   536409      22900         1  2010-12-01 11:45:00   2.95      u17908   \n",
       "2485   536409      22900         1  2010-12-01 11:45:00   2.95      u17908   \n",
       "37     536412      21448         2  2010-12-01 11:49:00   1.65       u1792   \n",
       "313    536412      21448         1  2010-12-01 11:49:00   1.65       u1792   \n",
       "\n",
       "              country                       description  \n",
       "889    United Kingdom       UNION JACK FLAG LUGGAGE TAG  \n",
       "1997   United Kingdom       UNION JACK FLAG LUGGAGE TAG  \n",
       "14720  United Kingdom      SCOTTIE DOG HOT WATER BOTTLE  \n",
       "16856  United Kingdom      SCOTTIE DOG HOT WATER BOTTLE  \n",
       "1995   United Kingdom     HAND WARMER SCOTTY DOG DESIGN  \n",
       "15883  United Kingdom     HAND WARMER SCOTTY DOG DESIGN  \n",
       "2484   United Kingdom   SET 2 TEA TOWELS I LOVE LONDON   \n",
       "2485   United Kingdom   SET 2 TEA TOWELS I LOVE LONDON   \n",
       "37     United Kingdom         12 DAISY PEGS IN WOOD BOX  \n",
       "313    United Kingdom         12 DAISY PEGS IN WOOD BOX  "
      ]
     },
     "execution_count": 118,
     "metadata": {},
     "output_type": "execute_result"
    }
   ],
   "source": [
    "online_trans_w_desc[online_trans_w_desc.duplicated(keep=False)].sort_values(by=[\"invoice\", \"stock_code\"]).head(10)"
   ]
  },
  {
   "cell_type": "code",
   "execution_count": 119,
   "id": "eb90caef",
   "metadata": {},
   "outputs": [
    {
     "data": {
      "text/html": [
       "<div>\n",
       "<style scoped>\n",
       "    .dataframe tbody tr th:only-of-type {\n",
       "        vertical-align: middle;\n",
       "    }\n",
       "\n",
       "    .dataframe tbody tr th {\n",
       "        vertical-align: top;\n",
       "    }\n",
       "\n",
       "    .dataframe thead th {\n",
       "        text-align: right;\n",
       "    }\n",
       "</style>\n",
       "<table border=\"1\" class=\"dataframe\">\n",
       "  <thead>\n",
       "    <tr style=\"text-align: right;\">\n",
       "      <th></th>\n",
       "      <th>invoice</th>\n",
       "      <th>stock_code</th>\n",
       "      <th>quantity</th>\n",
       "      <th>invoice_date</th>\n",
       "      <th>price</th>\n",
       "      <th>customer_id</th>\n",
       "      <th>country</th>\n",
       "      <th>description</th>\n",
       "    </tr>\n",
       "  </thead>\n",
       "  <tbody>\n",
       "    <tr>\n",
       "      <th>0</th>\n",
       "      <td>536365</td>\n",
       "      <td>85123A</td>\n",
       "      <td>6</td>\n",
       "      <td>2010-12-01 08:26:00</td>\n",
       "      <td>2.55</td>\n",
       "      <td>u1785</td>\n",
       "      <td>United Kingdom</td>\n",
       "      <td>CREAM HANGING HEART T-LIGHT HOLDER</td>\n",
       "    </tr>\n",
       "    <tr>\n",
       "      <th>1</th>\n",
       "      <td>536368</td>\n",
       "      <td>22914</td>\n",
       "      <td>3</td>\n",
       "      <td>2010-12-01 08:34:00</td>\n",
       "      <td>4.95</td>\n",
       "      <td>u13047</td>\n",
       "      <td>United Kingdom</td>\n",
       "      <td>BLUE COAT RACK PARIS FASHION</td>\n",
       "    </tr>\n",
       "    <tr>\n",
       "      <th>2</th>\n",
       "      <td>536367</td>\n",
       "      <td>48187</td>\n",
       "      <td>4</td>\n",
       "      <td>2010-12-01 08:34:00</td>\n",
       "      <td>7.95</td>\n",
       "      <td>u13047</td>\n",
       "      <td>United Kingdom</td>\n",
       "      <td>DOORMAT NEW ENGLAND</td>\n",
       "    </tr>\n",
       "    <tr>\n",
       "      <th>3</th>\n",
       "      <td>536370</td>\n",
       "      <td>22726</td>\n",
       "      <td>12</td>\n",
       "      <td>2010-12-01 08:45:00</td>\n",
       "      <td>3.75</td>\n",
       "      <td>u12583</td>\n",
       "      <td>France</td>\n",
       "      <td>ALARM CLOCK BAKELIKE GREEN</td>\n",
       "    </tr>\n",
       "    <tr>\n",
       "      <th>4</th>\n",
       "      <td>536375</td>\n",
       "      <td>82482</td>\n",
       "      <td>6</td>\n",
       "      <td>2010-12-01 09:32:00</td>\n",
       "      <td>2.10</td>\n",
       "      <td>u1785</td>\n",
       "      <td>United Kingdom</td>\n",
       "      <td>WOODEN PICTURE FRAME WHITE FINISH</td>\n",
       "    </tr>\n",
       "  </tbody>\n",
       "</table>\n",
       "</div>"
      ],
      "text/plain": [
       "  invoice stock_code  quantity         invoice_date  price customer_id   \n",
       "0  536365     85123A         6  2010-12-01 08:26:00   2.55       u1785  \\\n",
       "1  536368      22914         3  2010-12-01 08:34:00   4.95      u13047   \n",
       "2  536367      48187         4  2010-12-01 08:34:00   7.95      u13047   \n",
       "3  536370      22726        12  2010-12-01 08:45:00   3.75      u12583   \n",
       "4  536375      82482         6  2010-12-01 09:32:00   2.10       u1785   \n",
       "\n",
       "          country                         description  \n",
       "0  United Kingdom  CREAM HANGING HEART T-LIGHT HOLDER  \n",
       "1  United Kingdom        BLUE COAT RACK PARIS FASHION  \n",
       "2  United Kingdom                 DOORMAT NEW ENGLAND  \n",
       "3          France          ALARM CLOCK BAKELIKE GREEN  \n",
       "4  United Kingdom   WOODEN PICTURE FRAME WHITE FINISH  "
      ]
     },
     "execution_count": 119,
     "metadata": {},
     "output_type": "execute_result"
    }
   ],
   "source": [
    "# code to only keep the first appearance of a duplicated row\n",
    "\n",
    "online_trans_cleaned = online_trans_w_desc.drop_duplicates(keep = 'first')\n",
    "online_trans_cleaned.head()"
   ]
  },
  {
   "cell_type": "code",
   "execution_count": 120,
   "id": "d1d55b30",
   "metadata": {},
   "outputs": [
    {
     "data": {
      "text/plain": [
       "0"
      ]
     },
     "execution_count": 120,
     "metadata": {},
     "output_type": "execute_result"
    }
   ],
   "source": [
    "# no duplicated rows of data anymore\n",
    "\n",
    "online_trans_cleaned.duplicated().sum()"
   ]
  },
  {
   "cell_type": "code",
   "execution_count": 121,
   "id": "fdccd412",
   "metadata": {},
   "outputs": [
    {
     "name": "stdout",
     "output_type": "stream",
     "text": [
      "(405063, 8)\n",
      "(399841, 8)\n"
     ]
    }
   ],
   "source": [
    "print(online_trans_w_desc.shape)\n",
    "print(online_trans_cleaned.shape)"
   ]
  },
  {
   "cell_type": "code",
   "execution_count": 122,
   "id": "3a4772f4",
   "metadata": {},
   "outputs": [
    {
     "data": {
      "text/html": [
       "<div>\n",
       "<style scoped>\n",
       "    .dataframe tbody tr th:only-of-type {\n",
       "        vertical-align: middle;\n",
       "    }\n",
       "\n",
       "    .dataframe tbody tr th {\n",
       "        vertical-align: top;\n",
       "    }\n",
       "\n",
       "    .dataframe thead th {\n",
       "        text-align: right;\n",
       "    }\n",
       "</style>\n",
       "<table border=\"1\" class=\"dataframe\">\n",
       "  <thead>\n",
       "    <tr style=\"text-align: right;\">\n",
       "      <th></th>\n",
       "      <th>invoice</th>\n",
       "      <th>stock_code</th>\n",
       "      <th>quantity</th>\n",
       "      <th>invoice_date</th>\n",
       "      <th>price</th>\n",
       "      <th>customer_id</th>\n",
       "      <th>country</th>\n",
       "      <th>description</th>\n",
       "    </tr>\n",
       "  </thead>\n",
       "  <tbody>\n",
       "    <tr>\n",
       "      <th>889</th>\n",
       "      <td>536409</td>\n",
       "      <td>21866</td>\n",
       "      <td>1</td>\n",
       "      <td>2010-12-01 11:45:00</td>\n",
       "      <td>1.25</td>\n",
       "      <td>u17908</td>\n",
       "      <td>United Kingdom</td>\n",
       "      <td>UNION JACK FLAG LUGGAGE TAG</td>\n",
       "    </tr>\n",
       "    <tr>\n",
       "      <th>1997</th>\n",
       "      <td>536409</td>\n",
       "      <td>21866</td>\n",
       "      <td>1</td>\n",
       "      <td>2010-12-01 11:45:00</td>\n",
       "      <td>1.25</td>\n",
       "      <td>u17908</td>\n",
       "      <td>United Kingdom</td>\n",
       "      <td>UNION JACK FLAG LUGGAGE TAG</td>\n",
       "    </tr>\n",
       "  </tbody>\n",
       "</table>\n",
       "</div>"
      ],
      "text/plain": [
       "     invoice stock_code  quantity         invoice_date  price customer_id   \n",
       "889   536409      21866         1  2010-12-01 11:45:00   1.25      u17908  \\\n",
       "1997  536409      21866         1  2010-12-01 11:45:00   1.25      u17908   \n",
       "\n",
       "             country                  description  \n",
       "889   United Kingdom  UNION JACK FLAG LUGGAGE TAG  \n",
       "1997  United Kingdom  UNION JACK FLAG LUGGAGE TAG  "
      ]
     },
     "execution_count": 122,
     "metadata": {},
     "output_type": "execute_result"
    }
   ],
   "source": [
    "online_trans_w_desc[(online_trans_w_desc.invoice == \"536409\") &\n",
    "                   (online_trans_w_desc.stock_code == \"21866\")]"
   ]
  },
  {
   "cell_type": "code",
   "execution_count": 123,
   "id": "aca804da",
   "metadata": {},
   "outputs": [
    {
     "data": {
      "text/html": [
       "<div>\n",
       "<style scoped>\n",
       "    .dataframe tbody tr th:only-of-type {\n",
       "        vertical-align: middle;\n",
       "    }\n",
       "\n",
       "    .dataframe tbody tr th {\n",
       "        vertical-align: top;\n",
       "    }\n",
       "\n",
       "    .dataframe thead th {\n",
       "        text-align: right;\n",
       "    }\n",
       "</style>\n",
       "<table border=\"1\" class=\"dataframe\">\n",
       "  <thead>\n",
       "    <tr style=\"text-align: right;\">\n",
       "      <th></th>\n",
       "      <th>invoice</th>\n",
       "      <th>stock_code</th>\n",
       "      <th>quantity</th>\n",
       "      <th>invoice_date</th>\n",
       "      <th>price</th>\n",
       "      <th>customer_id</th>\n",
       "      <th>country</th>\n",
       "      <th>description</th>\n",
       "    </tr>\n",
       "  </thead>\n",
       "  <tbody>\n",
       "    <tr>\n",
       "      <th>889</th>\n",
       "      <td>536409</td>\n",
       "      <td>21866</td>\n",
       "      <td>1</td>\n",
       "      <td>2010-12-01 11:45:00</td>\n",
       "      <td>1.25</td>\n",
       "      <td>u17908</td>\n",
       "      <td>United Kingdom</td>\n",
       "      <td>UNION JACK FLAG LUGGAGE TAG</td>\n",
       "    </tr>\n",
       "  </tbody>\n",
       "</table>\n",
       "</div>"
      ],
      "text/plain": [
       "    invoice stock_code  quantity         invoice_date  price customer_id   \n",
       "889  536409      21866         1  2010-12-01 11:45:00   1.25      u17908  \\\n",
       "\n",
       "            country                  description  \n",
       "889  United Kingdom  UNION JACK FLAG LUGGAGE TAG  "
      ]
     },
     "execution_count": 123,
     "metadata": {},
     "output_type": "execute_result"
    }
   ],
   "source": [
    "online_trans_cleaned[(online_trans_cleaned.invoice == \"536409\") &\n",
    "                   (online_trans_cleaned.stock_code == \"21866\")]"
   ]
  },
  {
   "cell_type": "code",
   "execution_count": 124,
   "id": "02a8deed",
   "metadata": {},
   "outputs": [
    {
     "name": "stdout",
     "output_type": "stream",
     "text": [
      "(412922, 8)\n",
      "(407619, 8)\n"
     ]
    }
   ],
   "source": [
    "# if you did not remove rows where stock description is ?, you can double check the numbers here\n",
    "\n",
    "online_trans_cleaned_1 = online_trans_option1.drop_duplicates(keep='first')\n",
    "print(online_trans_option1.shape)\n",
    "print(online_trans_cleaned_1.shape)"
   ]
  },
  {
   "cell_type": "markdown",
   "id": "b00d3d0f",
   "metadata": {},
   "source": [
    "### Fixing the invoice date data type"
   ]
  },
  {
   "cell_type": "code",
   "execution_count": 125,
   "id": "bba46e18",
   "metadata": {},
   "outputs": [
    {
     "name": "stdout",
     "output_type": "stream",
     "text": [
      "<class 'pandas.core.frame.DataFrame'>\n",
      "Index: 399841 entries, 0 to 405062\n",
      "Data columns (total 8 columns):\n",
      " #   Column        Non-Null Count   Dtype  \n",
      "---  ------        --------------   -----  \n",
      " 0   invoice       399841 non-null  object \n",
      " 1   stock_code    399841 non-null  object \n",
      " 2   quantity      399841 non-null  int64  \n",
      " 3   invoice_date  399841 non-null  object \n",
      " 4   price         399841 non-null  float64\n",
      " 5   customer_id   399841 non-null  object \n",
      " 6   country       399841 non-null  object \n",
      " 7   description   398669 non-null  object \n",
      "dtypes: float64(1), int64(1), object(6)\n",
      "memory usage: 27.5+ MB\n"
     ]
    }
   ],
   "source": [
    "online_trans_cleaned.info()"
   ]
  },
  {
   "cell_type": "code",
   "execution_count": 126,
   "id": "27470550",
   "metadata": {},
   "outputs": [
    {
     "data": {
      "text/plain": [
       "0        2010-12-01 08:26:00\n",
       "1        2010-12-01 08:34:00\n",
       "2        2010-12-01 08:34:00\n",
       "3        2010-12-01 08:45:00\n",
       "4        2010-12-01 09:32:00\n",
       "                 ...        \n",
       "405058   2011-12-09 12:19:00\n",
       "405059   2011-12-09 12:19:00\n",
       "405060   2011-12-09 12:20:00\n",
       "405061   2011-12-09 12:31:00\n",
       "405062   2011-12-09 12:50:00\n",
       "Name: invoice_date, Length: 399841, dtype: datetime64[ns]"
      ]
     },
     "execution_count": 126,
     "metadata": {},
     "output_type": "execute_result"
    }
   ],
   "source": [
    "# transformation task # 2 - fix the invoice date data type\n",
    "\n",
    "online_trans_cleaned.invoice_date = pd.to_datetime(online_trans_cleaned.invoice_date)\n",
    "online_trans_cleaned.invoice_date"
   ]
  },
  {
   "cell_type": "code",
   "execution_count": 127,
   "id": "d2f51fb4",
   "metadata": {},
   "outputs": [
    {
     "name": "stdout",
     "output_type": "stream",
     "text": [
      "<class 'pandas.core.frame.DataFrame'>\n",
      "Index: 399841 entries, 0 to 405062\n",
      "Data columns (total 8 columns):\n",
      " #   Column        Non-Null Count   Dtype         \n",
      "---  ------        --------------   -----         \n",
      " 0   invoice       399841 non-null  object        \n",
      " 1   stock_code    399841 non-null  object        \n",
      " 2   quantity      399841 non-null  int64         \n",
      " 3   invoice_date  399841 non-null  datetime64[ns]\n",
      " 4   price         399841 non-null  float64       \n",
      " 5   customer_id   399841 non-null  object        \n",
      " 6   country       399841 non-null  object        \n",
      " 7   description   398669 non-null  object        \n",
      "dtypes: datetime64[ns](1), float64(1), int64(1), object(5)\n",
      "memory usage: 27.5+ MB\n"
     ]
    }
   ],
   "source": [
    "online_trans_cleaned.info()\n",
    "\n",
    "# the invoice date is now a data type datetime64"
   ]
  },
  {
   "cell_type": "code",
   "execution_count": 128,
   "id": "8919dd76",
   "metadata": {},
   "outputs": [
    {
     "data": {
      "text/html": [
       "<div>\n",
       "<style scoped>\n",
       "    .dataframe tbody tr th:only-of-type {\n",
       "        vertical-align: middle;\n",
       "    }\n",
       "\n",
       "    .dataframe tbody tr th {\n",
       "        vertical-align: top;\n",
       "    }\n",
       "\n",
       "    .dataframe thead th {\n",
       "        text-align: right;\n",
       "    }\n",
       "</style>\n",
       "<table border=\"1\" class=\"dataframe\">\n",
       "  <thead>\n",
       "    <tr style=\"text-align: right;\">\n",
       "      <th></th>\n",
       "      <th>invoice</th>\n",
       "      <th>stock_code</th>\n",
       "      <th>quantity</th>\n",
       "      <th>invoice_date</th>\n",
       "      <th>price</th>\n",
       "      <th>customer_id</th>\n",
       "      <th>country</th>\n",
       "      <th>description</th>\n",
       "    </tr>\n",
       "  </thead>\n",
       "  <tbody>\n",
       "    <tr>\n",
       "      <th>0</th>\n",
       "      <td>536365</td>\n",
       "      <td>85123A</td>\n",
       "      <td>6</td>\n",
       "      <td>2010-12-01 08:26:00</td>\n",
       "      <td>2.55</td>\n",
       "      <td>u1785</td>\n",
       "      <td>United Kingdom</td>\n",
       "      <td>CREAM HANGING HEART T-LIGHT HOLDER</td>\n",
       "    </tr>\n",
       "    <tr>\n",
       "      <th>1</th>\n",
       "      <td>536368</td>\n",
       "      <td>22914</td>\n",
       "      <td>3</td>\n",
       "      <td>2010-12-01 08:34:00</td>\n",
       "      <td>4.95</td>\n",
       "      <td>u13047</td>\n",
       "      <td>United Kingdom</td>\n",
       "      <td>BLUE COAT RACK PARIS FASHION</td>\n",
       "    </tr>\n",
       "    <tr>\n",
       "      <th>2</th>\n",
       "      <td>536367</td>\n",
       "      <td>48187</td>\n",
       "      <td>4</td>\n",
       "      <td>2010-12-01 08:34:00</td>\n",
       "      <td>7.95</td>\n",
       "      <td>u13047</td>\n",
       "      <td>United Kingdom</td>\n",
       "      <td>DOORMAT NEW ENGLAND</td>\n",
       "    </tr>\n",
       "    <tr>\n",
       "      <th>3</th>\n",
       "      <td>536370</td>\n",
       "      <td>22726</td>\n",
       "      <td>12</td>\n",
       "      <td>2010-12-01 08:45:00</td>\n",
       "      <td>3.75</td>\n",
       "      <td>u12583</td>\n",
       "      <td>France</td>\n",
       "      <td>ALARM CLOCK BAKELIKE GREEN</td>\n",
       "    </tr>\n",
       "    <tr>\n",
       "      <th>4</th>\n",
       "      <td>536375</td>\n",
       "      <td>82482</td>\n",
       "      <td>6</td>\n",
       "      <td>2010-12-01 09:32:00</td>\n",
       "      <td>2.10</td>\n",
       "      <td>u1785</td>\n",
       "      <td>United Kingdom</td>\n",
       "      <td>WOODEN PICTURE FRAME WHITE FINISH</td>\n",
       "    </tr>\n",
       "  </tbody>\n",
       "</table>\n",
       "</div>"
      ],
      "text/plain": [
       "  invoice stock_code  quantity        invoice_date  price customer_id   \n",
       "0  536365     85123A         6 2010-12-01 08:26:00   2.55       u1785  \\\n",
       "1  536368      22914         3 2010-12-01 08:34:00   4.95      u13047   \n",
       "2  536367      48187         4 2010-12-01 08:34:00   7.95      u13047   \n",
       "3  536370      22726        12 2010-12-01 08:45:00   3.75      u12583   \n",
       "4  536375      82482         6 2010-12-01 09:32:00   2.10       u1785   \n",
       "\n",
       "          country                         description  \n",
       "0  United Kingdom  CREAM HANGING HEART T-LIGHT HOLDER  \n",
       "1  United Kingdom        BLUE COAT RACK PARIS FASHION  \n",
       "2  United Kingdom                 DOORMAT NEW ENGLAND  \n",
       "3          France          ALARM CLOCK BAKELIKE GREEN  \n",
       "4  United Kingdom   WOODEN PICTURE FRAME WHITE FINISH  "
      ]
     },
     "execution_count": 128,
     "metadata": {},
     "output_type": "execute_result"
    }
   ],
   "source": [
    "online_trans_cleaned.head()"
   ]
  },
  {
   "cell_type": "markdown",
   "id": "a68848c7",
   "metadata": {},
   "source": [
    "### Replacing missing description values with Unknown "
   ]
  },
  {
   "cell_type": "code",
   "execution_count": 129,
   "id": "5dc57a70",
   "metadata": {},
   "outputs": [
    {
     "data": {
      "text/plain": [
       "invoice            0\n",
       "stock_code         0\n",
       "quantity           0\n",
       "invoice_date       0\n",
       "price              0\n",
       "customer_id        0\n",
       "country            0\n",
       "description     1172\n",
       "dtype: int64"
      ]
     },
     "execution_count": 129,
     "metadata": {},
     "output_type": "execute_result"
    }
   ],
   "source": [
    "online_trans_cleaned.isna().sum()"
   ]
  },
  {
   "cell_type": "code",
   "execution_count": 130,
   "id": "c0cd08c3",
   "metadata": {},
   "outputs": [
    {
     "data": {
      "text/html": [
       "<div>\n",
       "<style scoped>\n",
       "    .dataframe tbody tr th:only-of-type {\n",
       "        vertical-align: middle;\n",
       "    }\n",
       "\n",
       "    .dataframe tbody tr th {\n",
       "        vertical-align: top;\n",
       "    }\n",
       "\n",
       "    .dataframe thead th {\n",
       "        text-align: right;\n",
       "    }\n",
       "</style>\n",
       "<table border=\"1\" class=\"dataframe\">\n",
       "  <thead>\n",
       "    <tr style=\"text-align: right;\">\n",
       "      <th></th>\n",
       "      <th>invoice</th>\n",
       "      <th>stock_code</th>\n",
       "      <th>quantity</th>\n",
       "      <th>invoice_date</th>\n",
       "      <th>price</th>\n",
       "      <th>customer_id</th>\n",
       "      <th>country</th>\n",
       "      <th>description</th>\n",
       "    </tr>\n",
       "  </thead>\n",
       "  <tbody>\n",
       "    <tr>\n",
       "      <th>339</th>\n",
       "      <td>536500</td>\n",
       "      <td>46000M</td>\n",
       "      <td>10</td>\n",
       "      <td>2010-12-01 12:35:00</td>\n",
       "      <td>1.55</td>\n",
       "      <td>u17377</td>\n",
       "      <td>United Kingdom</td>\n",
       "      <td>None</td>\n",
       "    </tr>\n",
       "    <tr>\n",
       "      <th>751</th>\n",
       "      <td>536557</td>\n",
       "      <td>22686</td>\n",
       "      <td>1</td>\n",
       "      <td>2010-12-01 14:41:00</td>\n",
       "      <td>1.25</td>\n",
       "      <td>u17841</td>\n",
       "      <td>United Kingdom</td>\n",
       "      <td>None</td>\n",
       "    </tr>\n",
       "    <tr>\n",
       "      <th>942</th>\n",
       "      <td>536408</td>\n",
       "      <td>21705</td>\n",
       "      <td>12</td>\n",
       "      <td>2010-12-01 11:41:00</td>\n",
       "      <td>1.65</td>\n",
       "      <td>u14307</td>\n",
       "      <td>United Kingdom</td>\n",
       "      <td>None</td>\n",
       "    </tr>\n",
       "    <tr>\n",
       "      <th>1040</th>\n",
       "      <td>536595</td>\n",
       "      <td>21705</td>\n",
       "      <td>5</td>\n",
       "      <td>2010-12-01 17:24:00</td>\n",
       "      <td>1.65</td>\n",
       "      <td>u13576</td>\n",
       "      <td>United Kingdom</td>\n",
       "      <td>None</td>\n",
       "    </tr>\n",
       "    <tr>\n",
       "      <th>1136</th>\n",
       "      <td>536597</td>\n",
       "      <td>21703</td>\n",
       "      <td>4</td>\n",
       "      <td>2010-12-01 17:35:00</td>\n",
       "      <td>0.42</td>\n",
       "      <td>u18011</td>\n",
       "      <td>United Kingdom</td>\n",
       "      <td>None</td>\n",
       "    </tr>\n",
       "    <tr>\n",
       "      <th>...</th>\n",
       "      <td>...</td>\n",
       "      <td>...</td>\n",
       "      <td>...</td>\n",
       "      <td>...</td>\n",
       "      <td>...</td>\n",
       "      <td>...</td>\n",
       "      <td>...</td>\n",
       "      <td>...</td>\n",
       "    </tr>\n",
       "    <tr>\n",
       "      <th>398631</th>\n",
       "      <td>581514</td>\n",
       "      <td>21705</td>\n",
       "      <td>84</td>\n",
       "      <td>2011-12-09 11:20:00</td>\n",
       "      <td>0.39</td>\n",
       "      <td>u17754</td>\n",
       "      <td>United Kingdom</td>\n",
       "      <td>None</td>\n",
       "    </tr>\n",
       "    <tr>\n",
       "      <th>398855</th>\n",
       "      <td>581469</td>\n",
       "      <td>21704</td>\n",
       "      <td>1</td>\n",
       "      <td>2011-12-08 19:28:00</td>\n",
       "      <td>0.85</td>\n",
       "      <td>u14606</td>\n",
       "      <td>United Kingdom</td>\n",
       "      <td>None</td>\n",
       "    </tr>\n",
       "    <tr>\n",
       "      <th>398884</th>\n",
       "      <td>581516</td>\n",
       "      <td>21705</td>\n",
       "      <td>24</td>\n",
       "      <td>2011-12-09 11:26:00</td>\n",
       "      <td>0.39</td>\n",
       "      <td>u14422</td>\n",
       "      <td>United Kingdom</td>\n",
       "      <td>None</td>\n",
       "    </tr>\n",
       "    <tr>\n",
       "      <th>403625</th>\n",
       "      <td>580438</td>\n",
       "      <td>46000U</td>\n",
       "      <td>10</td>\n",
       "      <td>2011-12-04 12:17:00</td>\n",
       "      <td>1.25</td>\n",
       "      <td>u12827</td>\n",
       "      <td>United Kingdom</td>\n",
       "      <td>None</td>\n",
       "    </tr>\n",
       "    <tr>\n",
       "      <th>404710</th>\n",
       "      <td>581150</td>\n",
       "      <td>46000R</td>\n",
       "      <td>2</td>\n",
       "      <td>2011-12-07 14:12:00</td>\n",
       "      <td>1.45</td>\n",
       "      <td>u17266</td>\n",
       "      <td>United Kingdom</td>\n",
       "      <td>None</td>\n",
       "    </tr>\n",
       "  </tbody>\n",
       "</table>\n",
       "<p>1172 rows × 8 columns</p>\n",
       "</div>"
      ],
      "text/plain": [
       "       invoice stock_code  quantity        invoice_date  price customer_id   \n",
       "339     536500     46000M        10 2010-12-01 12:35:00   1.55      u17377  \\\n",
       "751     536557      22686         1 2010-12-01 14:41:00   1.25      u17841   \n",
       "942     536408      21705        12 2010-12-01 11:41:00   1.65      u14307   \n",
       "1040    536595      21705         5 2010-12-01 17:24:00   1.65      u13576   \n",
       "1136    536597      21703         4 2010-12-01 17:35:00   0.42      u18011   \n",
       "...        ...        ...       ...                 ...    ...         ...   \n",
       "398631  581514      21705        84 2011-12-09 11:20:00   0.39      u17754   \n",
       "398855  581469      21704         1 2011-12-08 19:28:00   0.85      u14606   \n",
       "398884  581516      21705        24 2011-12-09 11:26:00   0.39      u14422   \n",
       "403625  580438     46000U        10 2011-12-04 12:17:00   1.25      u12827   \n",
       "404710  581150     46000R         2 2011-12-07 14:12:00   1.45      u17266   \n",
       "\n",
       "               country description  \n",
       "339     United Kingdom        None  \n",
       "751     United Kingdom        None  \n",
       "942     United Kingdom        None  \n",
       "1040    United Kingdom        None  \n",
       "1136    United Kingdom        None  \n",
       "...                ...         ...  \n",
       "398631  United Kingdom        None  \n",
       "398855  United Kingdom        None  \n",
       "398884  United Kingdom        None  \n",
       "403625  United Kingdom        None  \n",
       "404710  United Kingdom        None  \n",
       "\n",
       "[1172 rows x 8 columns]"
      ]
     },
     "execution_count": 130,
     "metadata": {},
     "output_type": "execute_result"
    }
   ],
   "source": [
    "online_trans_cleaned[online_trans_cleaned.description.isnull()]"
   ]
  },
  {
   "cell_type": "code",
   "execution_count": 131,
   "id": "88c839f3",
   "metadata": {},
   "outputs": [],
   "source": [
    "# replace missing descriptions with Unknown\n",
    "\n",
    "online_trans_cleaned.description.fillna(\"Unknown\", inplace = True)"
   ]
  },
  {
   "cell_type": "code",
   "execution_count": 132,
   "id": "7de0fc82",
   "metadata": {},
   "outputs": [
    {
     "data": {
      "text/plain": [
       "invoice         0\n",
       "stock_code      0\n",
       "quantity        0\n",
       "invoice_date    0\n",
       "price           0\n",
       "customer_id     0\n",
       "country         0\n",
       "description     0\n",
       "dtype: int64"
      ]
     },
     "execution_count": 132,
     "metadata": {},
     "output_type": "execute_result"
    }
   ],
   "source": [
    "# check there are no missing descriptions\n",
    "\n",
    "online_trans_cleaned.isnull().sum()"
   ]
  },
  {
   "cell_type": "code",
   "execution_count": 133,
   "id": "d7009e90",
   "metadata": {},
   "outputs": [
    {
     "data": {
      "text/plain": [
       "(399841, 8)"
      ]
     },
     "execution_count": 133,
     "metadata": {},
     "output_type": "execute_result"
    }
   ],
   "source": [
    "# check the shape \n",
    "\n",
    "online_trans_cleaned.shape"
   ]
  },
  {
   "cell_type": "code",
   "execution_count": 134,
   "id": "91ca4e77",
   "metadata": {},
   "outputs": [
    {
     "name": "stdout",
     "output_type": "stream",
     "text": [
      "<class 'pandas.core.frame.DataFrame'>\n",
      "Index: 399841 entries, 0 to 405062\n",
      "Data columns (total 8 columns):\n",
      " #   Column        Non-Null Count   Dtype         \n",
      "---  ------        --------------   -----         \n",
      " 0   invoice       399841 non-null  object        \n",
      " 1   stock_code    399841 non-null  object        \n",
      " 2   quantity      399841 non-null  int64         \n",
      " 3   invoice_date  399841 non-null  datetime64[ns]\n",
      " 4   price         399841 non-null  float64       \n",
      " 5   customer_id   399841 non-null  object        \n",
      " 6   country       399841 non-null  object        \n",
      " 7   description   399841 non-null  object        \n",
      "dtypes: datetime64[ns](1), float64(1), int64(1), object(5)\n",
      "memory usage: 27.5+ MB\n"
     ]
    }
   ],
   "source": [
    "\n",
    "online_trans_cleaned.info()"
   ]
  },
  {
   "cell_type": "code",
   "execution_count": 135,
   "id": "4fdf6255",
   "metadata": {},
   "outputs": [
    {
     "name": "stdout",
     "output_type": "stream",
     "text": [
      "(407619, 8)\n"
     ]
    }
   ],
   "source": [
    "# check the shape - if you did not remove the stock descriptions with ?\n",
    "\n",
    "# fixes the data type of the invoice date\n",
    "online_trans_cleaned_1.invoice_date = pd.to_datetime(online_trans_cleaned_1.invoice_date)\n",
    "\n",
    "# replaces where description is unknown\n",
    "online_trans_cleaned_1.description.fillna(\"Unknown\", inplace = True)\n",
    "print(online_trans_cleaned_1.shape)"
   ]
  },
  {
   "cell_type": "code",
   "execution_count": 137,
   "id": "bb96d65e",
   "metadata": {},
   "outputs": [
    {
     "name": "stdout",
     "output_type": "stream",
     "text": [
      "<class 'pandas.core.frame.DataFrame'>\n",
      "Index: 407619 entries, 0 to 412921\n",
      "Data columns (total 8 columns):\n",
      " #   Column        Non-Null Count   Dtype         \n",
      "---  ------        --------------   -----         \n",
      " 0   invoice       407619 non-null  object        \n",
      " 1   stock_code    407619 non-null  object        \n",
      " 2   quantity      407619 non-null  int64         \n",
      " 3   invoice_date  407619 non-null  datetime64[ns]\n",
      " 4   price         407619 non-null  float64       \n",
      " 5   customer_id   407619 non-null  object        \n",
      " 6   country       407619 non-null  object        \n",
      " 7   description   407619 non-null  object        \n",
      "dtypes: datetime64[ns](1), float64(1), int64(1), object(5)\n",
      "memory usage: 28.0+ MB\n"
     ]
    }
   ],
   "source": [
    "online_trans_cleaned_1.info()"
   ]
  },
  {
   "cell_type": "markdown",
   "id": "ec43ce7d",
   "metadata": {},
   "source": [
    "## Loading Data to s3"
   ]
  },
  {
   "cell_type": "code",
   "execution_count": 138,
   "id": "d6660710",
   "metadata": {},
   "outputs": [],
   "source": [
    "AWS_ACCESS_KEY_ID = os.getenv(\"aws_access_key_id\")\n",
    "AWS_SECRET_ACCESS_KEY = os.getenv(\"aws_secret_access_key_id\")\n",
    "AWS_S3_BUCKET = 'july-bootcamp'"
   ]
  },
  {
   "cell_type": "code",
   "execution_count": 148,
   "id": "eb1ef433",
   "metadata": {},
   "outputs": [],
   "source": [
    "# i am using definitions to do this step, which i will introduce y'all to. Feel free to use the slides.\n",
    "\n",
    "import boto3\n",
    "from io import StringIO, BytesIO\n",
    "\n",
    "def connect_to_s3(aws_access_key_id, aws_secret_access_key):\n",
    "    \"\"\"Methods that connects to s3\"\"\"\n",
    "\n",
    "    s3_client = boto3.client(\n",
    "        \"s3\",\n",
    "        aws_access_key_id=aws_access_key_id,\n",
    "        aws_secret_access_key=aws_secret_access_key\n",
    "    )\n",
    "\n",
    "    print(\"Connection to s3 made\")\n",
    "    \n",
    "    return s3_client\n",
    "\n",
    "\n",
    "def df_to_s3(df, key, s3_bucket, aws_access_key_id, aws_secret_access_key):\n",
    "    \"\"\"Function that writes a data frame as a .csv or .pkl file to a s3 bucket\"\"\"\n",
    "    \n",
    "    file_type = key[-4:]\n",
    "    \n",
    "    if file_type == '.pkl':\n",
    "        buffer = BytesIO()  # create buffer to temporarily store the Data Frame\n",
    "        df.to_pickle(buffer)  # code to write the data frame as .pkl file\n",
    "    \n",
    "    if file_type == '.csv':\n",
    "        buffer = StringIO()  # create buffer to temporarily store the Data Frame\n",
    "        df.to_csv(buffer, index=False)  # code to write the data frame as .csv file\n",
    "\n",
    "    s3_client = connect_to_s3(aws_access_key_id, aws_secret_access_key)\n",
    "\n",
    "    s3_client.put_object(\n",
    "        Bucket=s3_bucket, Key=key, Body=buffer.getvalue()\n",
    "    )  # this code writes the temp stored file and writes to s3\n",
    "\n",
    "\n",
    "    print(f\"The transformed data is saved as {file_type} in the following location s3://{s3_bucket}/{key}\")"
   ]
  },
  {
   "cell_type": "code",
   "execution_count": 149,
   "id": "96f5f8c2",
   "metadata": {},
   "outputs": [
    {
     "name": "stdout",
     "output_type": "stream",
     "text": [
      "Connection to s3 made\n",
      "The transformed data is saved as .pkl in the following location s3://july-bootcamp/friday_transformations/sh_online_transactions_v2.pkl\n"
     ]
    }
   ],
   "source": [
    "key = 'friday_transformations/sh_online_transactions_v2.pkl'\n",
    "\n",
    "df_to_s3(online_trans_cleaned, key, AWS_S3_BUCKET, AWS_ACCESS_KEY_ID, AWS_SECRET_ACCESS_KEY)"
   ]
  },
  {
   "cell_type": "code",
   "execution_count": 150,
   "id": "ffff6517",
   "metadata": {},
   "outputs": [
    {
     "name": "stdout",
     "output_type": "stream",
     "text": [
      "Connection to s3 made\n",
      "The transformed data is saved as .csv in the following location s3://july-bootcamp/friday_transformations/sh_online_transactions_v2.csv\n"
     ]
    }
   ],
   "source": [
    "key = 'friday_transformations/sh_online_transactions_v2.csv'\n",
    "\n",
    "df_to_s3(online_trans_cleaned, key, AWS_S3_BUCKET, AWS_ACCESS_KEY_ID, AWS_SECRET_ACCESS_KEY)"
   ]
  },
  {
   "cell_type": "code",
   "execution_count": 154,
   "id": "69e4cb5b",
   "metadata": {},
   "outputs": [
    {
     "name": "stdout",
     "output_type": "stream",
     "text": [
      "Connection to s3 made\n"
     ]
    },
    {
     "data": {
      "text/html": [
       "<div>\n",
       "<style scoped>\n",
       "    .dataframe tbody tr th:only-of-type {\n",
       "        vertical-align: middle;\n",
       "    }\n",
       "\n",
       "    .dataframe tbody tr th {\n",
       "        vertical-align: top;\n",
       "    }\n",
       "\n",
       "    .dataframe thead th {\n",
       "        text-align: right;\n",
       "    }\n",
       "</style>\n",
       "<table border=\"1\" class=\"dataframe\">\n",
       "  <thead>\n",
       "    <tr style=\"text-align: right;\">\n",
       "      <th></th>\n",
       "      <th>invoice</th>\n",
       "      <th>stock_code</th>\n",
       "      <th>quantity</th>\n",
       "      <th>invoice_date</th>\n",
       "      <th>price</th>\n",
       "      <th>customer_id</th>\n",
       "      <th>country</th>\n",
       "      <th>description</th>\n",
       "    </tr>\n",
       "  </thead>\n",
       "  <tbody>\n",
       "    <tr>\n",
       "      <th>0</th>\n",
       "      <td>536365</td>\n",
       "      <td>85123A</td>\n",
       "      <td>6</td>\n",
       "      <td>2010-12-01 08:26:00</td>\n",
       "      <td>2.55</td>\n",
       "      <td>u1785</td>\n",
       "      <td>United Kingdom</td>\n",
       "      <td>CREAM HANGING HEART T-LIGHT HOLDER</td>\n",
       "    </tr>\n",
       "    <tr>\n",
       "      <th>1</th>\n",
       "      <td>536368</td>\n",
       "      <td>22914</td>\n",
       "      <td>3</td>\n",
       "      <td>2010-12-01 08:34:00</td>\n",
       "      <td>4.95</td>\n",
       "      <td>u13047</td>\n",
       "      <td>United Kingdom</td>\n",
       "      <td>BLUE COAT RACK PARIS FASHION</td>\n",
       "    </tr>\n",
       "    <tr>\n",
       "      <th>2</th>\n",
       "      <td>536367</td>\n",
       "      <td>48187</td>\n",
       "      <td>4</td>\n",
       "      <td>2010-12-01 08:34:00</td>\n",
       "      <td>7.95</td>\n",
       "      <td>u13047</td>\n",
       "      <td>United Kingdom</td>\n",
       "      <td>DOORMAT NEW ENGLAND</td>\n",
       "    </tr>\n",
       "    <tr>\n",
       "      <th>3</th>\n",
       "      <td>536370</td>\n",
       "      <td>22726</td>\n",
       "      <td>12</td>\n",
       "      <td>2010-12-01 08:45:00</td>\n",
       "      <td>3.75</td>\n",
       "      <td>u12583</td>\n",
       "      <td>France</td>\n",
       "      <td>ALARM CLOCK BAKELIKE GREEN</td>\n",
       "    </tr>\n",
       "    <tr>\n",
       "      <th>4</th>\n",
       "      <td>536375</td>\n",
       "      <td>82482</td>\n",
       "      <td>6</td>\n",
       "      <td>2010-12-01 09:32:00</td>\n",
       "      <td>2.10</td>\n",
       "      <td>u1785</td>\n",
       "      <td>United Kingdom</td>\n",
       "      <td>WOODEN PICTURE FRAME WHITE FINISH</td>\n",
       "    </tr>\n",
       "    <tr>\n",
       "      <th>...</th>\n",
       "      <td>...</td>\n",
       "      <td>...</td>\n",
       "      <td>...</td>\n",
       "      <td>...</td>\n",
       "      <td>...</td>\n",
       "      <td>...</td>\n",
       "      <td>...</td>\n",
       "      <td>...</td>\n",
       "    </tr>\n",
       "    <tr>\n",
       "      <th>405058</th>\n",
       "      <td>581579</td>\n",
       "      <td>20713</td>\n",
       "      <td>10</td>\n",
       "      <td>2011-12-09 12:19:00</td>\n",
       "      <td>1.79</td>\n",
       "      <td>u17581</td>\n",
       "      <td>United Kingdom</td>\n",
       "      <td>JUMBO BAG OWLS</td>\n",
       "    </tr>\n",
       "    <tr>\n",
       "      <th>405059</th>\n",
       "      <td>581579</td>\n",
       "      <td>23293</td>\n",
       "      <td>8</td>\n",
       "      <td>2011-12-09 12:19:00</td>\n",
       "      <td>0.83</td>\n",
       "      <td>u17581</td>\n",
       "      <td>United Kingdom</td>\n",
       "      <td>SET OF 12 FAIRY CAKE BAKING CASES</td>\n",
       "    </tr>\n",
       "    <tr>\n",
       "      <th>405060</th>\n",
       "      <td>581580</td>\n",
       "      <td>37500</td>\n",
       "      <td>1</td>\n",
       "      <td>2011-12-09 12:20:00</td>\n",
       "      <td>4.95</td>\n",
       "      <td>u12748</td>\n",
       "      <td>United Kingdom</td>\n",
       "      <td>TEA TIME TEAPOT IN GIFT BOX</td>\n",
       "    </tr>\n",
       "    <tr>\n",
       "      <th>405061</th>\n",
       "      <td>581585</td>\n",
       "      <td>22915</td>\n",
       "      <td>24</td>\n",
       "      <td>2011-12-09 12:31:00</td>\n",
       "      <td>0.19</td>\n",
       "      <td>u15804</td>\n",
       "      <td>United Kingdom</td>\n",
       "      <td>ASSORTED BOTTLE TOP  MAGNETS</td>\n",
       "    </tr>\n",
       "    <tr>\n",
       "      <th>405062</th>\n",
       "      <td>581587</td>\n",
       "      <td>22629</td>\n",
       "      <td>12</td>\n",
       "      <td>2011-12-09 12:50:00</td>\n",
       "      <td>1.95</td>\n",
       "      <td>u1268</td>\n",
       "      <td>France</td>\n",
       "      <td>SPACEBOY LUNCH BOX</td>\n",
       "    </tr>\n",
       "  </tbody>\n",
       "</table>\n",
       "<p>399841 rows × 8 columns</p>\n",
       "</div>"
      ],
      "text/plain": [
       "       invoice stock_code  quantity        invoice_date  price customer_id   \n",
       "0       536365     85123A         6 2010-12-01 08:26:00   2.55       u1785  \\\n",
       "1       536368      22914         3 2010-12-01 08:34:00   4.95      u13047   \n",
       "2       536367      48187         4 2010-12-01 08:34:00   7.95      u13047   \n",
       "3       536370      22726        12 2010-12-01 08:45:00   3.75      u12583   \n",
       "4       536375      82482         6 2010-12-01 09:32:00   2.10       u1785   \n",
       "...        ...        ...       ...                 ...    ...         ...   \n",
       "405058  581579      20713        10 2011-12-09 12:19:00   1.79      u17581   \n",
       "405059  581579      23293         8 2011-12-09 12:19:00   0.83      u17581   \n",
       "405060  581580      37500         1 2011-12-09 12:20:00   4.95      u12748   \n",
       "405061  581585      22915        24 2011-12-09 12:31:00   0.19      u15804   \n",
       "405062  581587      22629        12 2011-12-09 12:50:00   1.95       u1268   \n",
       "\n",
       "               country                         description  \n",
       "0       United Kingdom  CREAM HANGING HEART T-LIGHT HOLDER  \n",
       "1       United Kingdom        BLUE COAT RACK PARIS FASHION  \n",
       "2       United Kingdom                 DOORMAT NEW ENGLAND  \n",
       "3               France          ALARM CLOCK BAKELIKE GREEN  \n",
       "4       United Kingdom   WOODEN PICTURE FRAME WHITE FINISH  \n",
       "...                ...                                 ...  \n",
       "405058  United Kingdom                      JUMBO BAG OWLS  \n",
       "405059  United Kingdom   SET OF 12 FAIRY CAKE BAKING CASES  \n",
       "405060  United Kingdom         TEA TIME TEAPOT IN GIFT BOX  \n",
       "405061  United Kingdom       ASSORTED BOTTLE TOP  MAGNETS   \n",
       "405062          France                 SPACEBOY LUNCH BOX   \n",
       "\n",
       "[399841 rows x 8 columns]"
      ]
     },
     "execution_count": 154,
     "metadata": {},
     "output_type": "execute_result"
    }
   ],
   "source": [
    "# check - reading an s3 file\n",
    "\n",
    "key = 'friday_transformations/sh_online_transactions_v2.pkl'\n",
    "\n",
    "s3_client = connect_to_s3(AWS_ACCESS_KEY_ID, AWS_SECRET_ACCESS_KEY)\n",
    "\n",
    "response = s3_client.get_object(Bucket=AWS_S3_BUCKET, Key=key)\n",
    "\n",
    "# if you are reading a pickle file use read pickle, otherwise use read csv\n",
    "check = pd.read_pickle(response.get(\"Body\"))\n",
    "#check = pd.read_csv(response.get(\"Body\"))\n",
    "\n",
    "check"
   ]
  },
  {
   "cell_type": "code",
   "execution_count": 155,
   "id": "ec46c819",
   "metadata": {},
   "outputs": [
    {
     "name": "stdout",
     "output_type": "stream",
     "text": [
      "<class 'pandas.core.frame.DataFrame'>\n",
      "Index: 399841 entries, 0 to 405062\n",
      "Data columns (total 8 columns):\n",
      " #   Column        Non-Null Count   Dtype         \n",
      "---  ------        --------------   -----         \n",
      " 0   invoice       399841 non-null  object        \n",
      " 1   stock_code    399841 non-null  object        \n",
      " 2   quantity      399841 non-null  int64         \n",
      " 3   invoice_date  399841 non-null  datetime64[ns]\n",
      " 4   price         399841 non-null  float64       \n",
      " 5   customer_id   399841 non-null  object        \n",
      " 6   country       399841 non-null  object        \n",
      " 7   description   399841 non-null  object        \n",
      "dtypes: datetime64[ns](1), float64(1), int64(1), object(5)\n",
      "memory usage: 27.5+ MB\n"
     ]
    }
   ],
   "source": [
    "check.info()"
   ]
  },
  {
   "cell_type": "code",
   "execution_count": 157,
   "id": "33984a9d",
   "metadata": {},
   "outputs": [
    {
     "name": "stdout",
     "output_type": "stream",
     "text": [
      "Connection to s3 made\n",
      "<class 'pandas.core.frame.DataFrame'>\n",
      "RangeIndex: 399841 entries, 0 to 399840\n",
      "Data columns (total 8 columns):\n",
      " #   Column        Non-Null Count   Dtype  \n",
      "---  ------        --------------   -----  \n",
      " 0   invoice       399841 non-null  object \n",
      " 1   stock_code    399841 non-null  object \n",
      " 2   quantity      399841 non-null  int64  \n",
      " 3   invoice_date  399841 non-null  object \n",
      " 4   price         399841 non-null  float64\n",
      " 5   customer_id   399841 non-null  object \n",
      " 6   country       399841 non-null  object \n",
      " 7   description   399841 non-null  object \n",
      "dtypes: float64(1), int64(1), object(6)\n",
      "memory usage: 24.4+ MB\n"
     ]
    }
   ],
   "source": [
    "# check - reading an s3 file\n",
    "\n",
    "key = 'friday_transformations/sh_online_transactions_v2.csv'\n",
    "\n",
    "s3_client = connect_to_s3(AWS_ACCESS_KEY_ID, AWS_SECRET_ACCESS_KEY)\n",
    "\n",
    "response = s3_client.get_object(Bucket=AWS_S3_BUCKET, Key=key)\n",
    "\n",
    "# if you are reading a pickle file use read pickle, otherwise use read csv\n",
    "#check = pd.read_pickle(response.get(\"Body\"))\n",
    "check = pd.read_csv(response.get(\"Body\"))\n",
    "\n",
    "check.info()\n",
    "\n",
    "# the csv file loses the data type for the invoice_date"
   ]
  },
  {
   "cell_type": "markdown",
   "id": "5d23b7f8",
   "metadata": {},
   "source": [
    "## Loading Data to local data folder "
   ]
  },
  {
   "cell_type": "code",
   "execution_count": 24,
   "id": "3b3a0e02",
   "metadata": {},
   "outputs": [],
   "source": [
    "# make sure all transformations are in place\n",
    "# anything else?!\n",
    "\n",
    "online_trans_cleaned.to_pickle(\"../data/online_transactions_v2.pkl\")"
   ]
  }
 ],
 "metadata": {
  "kernelspec": {
   "display_name": "Python 3 (ipykernel)",
   "language": "python",
   "name": "python3"
  },
  "language_info": {
   "codemirror_mode": {
    "name": "ipython",
    "version": 3
   },
   "file_extension": ".py",
   "mimetype": "text/x-python",
   "name": "python",
   "nbconvert_exporter": "python",
   "pygments_lexer": "ipython3",
   "version": "3.11.3"
  }
 },
 "nbformat": 4,
 "nbformat_minor": 5
}
