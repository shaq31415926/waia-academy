{
 "cells": [
  {
   "cell_type": "markdown",
   "id": "e74ded95",
   "metadata": {},
   "source": [
    "We are going to extract data from redshift and carry out the following transformation tasks\n",
    "- remove all rows where customer id is missing - SQL \n",
    "- remove certain stock codes - SQL \n",
    "- add description to the online transactions table - SQL \n",
    "- remove all duplicate data - Python\n",
    "- replace missing stock description with Unknown  - SQL or Python\n",
    "- fix data type - Python\n"
   ]
  },
  {
   "cell_type": "code",
   "execution_count": 1,
   "id": "f0d863be",
   "metadata": {},
   "outputs": [],
   "source": [
    "# import the libraries we need\n",
    "\n",
    "import psycopg2\n",
    "import pandas as pd\n",
    "\n",
    "import boto3\n",
    "from io import StringIO\n",
    "\n",
    "import warnings\n",
    "warnings.filterwarnings(\"ignore\")\n"
   ]
  },
  {
   "cell_type": "markdown",
   "id": "2f2f43f4",
   "metadata": {},
   "source": [
    "## Extracting Data"
   ]
  },
  {
   "cell_type": "code",
   "execution_count": 2,
   "id": "2a1256c4",
   "metadata": {},
   "outputs": [],
   "source": [
    "# NEVER share passwords\n",
    "# this only works with a .env file, you can hardcode the values for now\n",
    "\n",
    "import os\n",
    "\n",
    "from dotenv import load_dotenv\n",
    "load_dotenv()  # only for local testing\n",
    "\n",
    "\n",
    "dbname = os.getenv(\"dbname\")\n",
    "host = os.getenv(\"host\")\n",
    "port = os.getenv(\"port\")\n",
    "user = os.getenv(\"user\")\n",
    "password = os.getenv(\"password\")"
   ]
  },
  {
   "cell_type": "code",
   "execution_count": 3,
   "id": "efeca610",
   "metadata": {},
   "outputs": [],
   "source": [
    "# connect to redshift\n",
    "\n",
    "def connect_to_redshift(dbname, host, port, user, password):\n",
    "    \"\"\"definition to connect to redshift\"\"\"\n",
    "\n",
    "    connect = psycopg2.connect(\n",
    "            dbname=dbname, host=host, port=port, user=user, password=password\n",
    "        )\n",
    "\n",
    "    cursor = connect.cursor()\n",
    "    \n",
    "    print(\"connection to redshift made\")\n",
    "    \n",
    "    return connect, cursor"
   ]
  },
  {
   "cell_type": "code",
   "execution_count": 4,
   "id": "cffb7d55",
   "metadata": {},
   "outputs": [
    {
     "name": "stdout",
     "output_type": "stream",
     "text": [
      "connection to redshift made\n"
     ]
    }
   ],
   "source": [
    "connect, cursor = connect_to_redshift(dbname, host, port, user, password)"
   ]
  },
  {
   "cell_type": "code",
   "execution_count": 5,
   "id": "043cc8ad",
   "metadata": {},
   "outputs": [
    {
     "data": {
      "text/html": [
       "<div>\n",
       "<style scoped>\n",
       "    .dataframe tbody tr th:only-of-type {\n",
       "        vertical-align: middle;\n",
       "    }\n",
       "\n",
       "    .dataframe tbody tr th {\n",
       "        vertical-align: top;\n",
       "    }\n",
       "\n",
       "    .dataframe thead th {\n",
       "        text-align: right;\n",
       "    }\n",
       "</style>\n",
       "<table border=\"1\" class=\"dataframe\">\n",
       "  <thead>\n",
       "    <tr style=\"text-align: right;\">\n",
       "      <th></th>\n",
       "      <th>stock_code</th>\n",
       "      <th>description</th>\n",
       "    </tr>\n",
       "  </thead>\n",
       "  <tbody>\n",
       "    <tr>\n",
       "      <th>0</th>\n",
       "      <td>10002</td>\n",
       "      <td>INFLATABLE POLITICAL GLOBE</td>\n",
       "    </tr>\n",
       "    <tr>\n",
       "      <th>1</th>\n",
       "      <td>10080</td>\n",
       "      <td>GROOVY CACTUS INFLATABLE</td>\n",
       "    </tr>\n",
       "    <tr>\n",
       "      <th>2</th>\n",
       "      <td>10120</td>\n",
       "      <td>DOGGY RUBBER</td>\n",
       "    </tr>\n",
       "    <tr>\n",
       "      <th>3</th>\n",
       "      <td>10123C</td>\n",
       "      <td>HEARTS WRAPPING TAPE</td>\n",
       "    </tr>\n",
       "    <tr>\n",
       "      <th>4</th>\n",
       "      <td>10124A</td>\n",
       "      <td>SPOTS ON RED BOOKCOVER TAPE</td>\n",
       "    </tr>\n",
       "    <tr>\n",
       "      <th>5</th>\n",
       "      <td>10124G</td>\n",
       "      <td>ARMY CAMO BOOKCOVER TAPE</td>\n",
       "    </tr>\n",
       "    <tr>\n",
       "      <th>6</th>\n",
       "      <td>10125</td>\n",
       "      <td>MINI FUNKY DESIGN TAPES</td>\n",
       "    </tr>\n",
       "    <tr>\n",
       "      <th>7</th>\n",
       "      <td>10133</td>\n",
       "      <td>COLOURING PENCILS BROWN TUBE</td>\n",
       "    </tr>\n",
       "    <tr>\n",
       "      <th>8</th>\n",
       "      <td>10135</td>\n",
       "      <td>COLOURING PENCILS BROWN TUBE</td>\n",
       "    </tr>\n",
       "    <tr>\n",
       "      <th>9</th>\n",
       "      <td>11001</td>\n",
       "      <td>ASSTD DESIGN RACING CAR PEN</td>\n",
       "    </tr>\n",
       "  </tbody>\n",
       "</table>\n",
       "</div>"
      ],
      "text/plain": [
       "  stock_code                   description\n",
       "0      10002   INFLATABLE POLITICAL GLOBE \n",
       "1      10080      GROOVY CACTUS INFLATABLE\n",
       "2      10120                  DOGGY RUBBER\n",
       "3     10123C         HEARTS WRAPPING TAPE \n",
       "4     10124A   SPOTS ON RED BOOKCOVER TAPE\n",
       "5     10124G      ARMY CAMO BOOKCOVER TAPE\n",
       "6      10125       MINI FUNKY DESIGN TAPES\n",
       "7      10133  COLOURING PENCILS BROWN TUBE\n",
       "8      10135  COLOURING PENCILS BROWN TUBE\n",
       "9      11001   ASSTD DESIGN RACING CAR PEN"
      ]
     },
     "execution_count": 5,
     "metadata": {},
     "output_type": "execute_result"
    }
   ],
   "source": [
    "# check everything is working\n",
    "\n",
    "query = \"\"\"select *\n",
    "from bootcamp.stock_description\n",
    "limit 10\n",
    "\"\"\"\n",
    "\n",
    "pd.read_sql(query, connect)"
   ]
  },
  {
   "cell_type": "code",
   "execution_count": 6,
   "id": "750a7391",
   "metadata": {},
   "outputs": [
    {
     "data": {
      "text/html": [
       "<div>\n",
       "<style scoped>\n",
       "    .dataframe tbody tr th:only-of-type {\n",
       "        vertical-align: middle;\n",
       "    }\n",
       "\n",
       "    .dataframe tbody tr th {\n",
       "        vertical-align: top;\n",
       "    }\n",
       "\n",
       "    .dataframe thead th {\n",
       "        text-align: right;\n",
       "    }\n",
       "</style>\n",
       "<table border=\"1\" class=\"dataframe\">\n",
       "  <thead>\n",
       "    <tr style=\"text-align: right;\">\n",
       "      <th></th>\n",
       "      <th>invoice</th>\n",
       "      <th>stock_code</th>\n",
       "      <th>quantity</th>\n",
       "      <th>invoice_date</th>\n",
       "      <th>price</th>\n",
       "      <th>customer_id</th>\n",
       "      <th>country</th>\n",
       "      <th>description</th>\n",
       "    </tr>\n",
       "  </thead>\n",
       "  <tbody>\n",
       "    <tr>\n",
       "      <th>0</th>\n",
       "      <td>536365</td>\n",
       "      <td>84029G</td>\n",
       "      <td>6</td>\n",
       "      <td>2010-12-01 08:26:00</td>\n",
       "      <td>3.39</td>\n",
       "      <td>u1785</td>\n",
       "      <td>United Kingdom</td>\n",
       "      <td>KNITTED UNION FLAG HOT WATER BOTTLE</td>\n",
       "    </tr>\n",
       "    <tr>\n",
       "      <th>1</th>\n",
       "      <td>536366</td>\n",
       "      <td>22633</td>\n",
       "      <td>6</td>\n",
       "      <td>2010-12-01 08:28:00</td>\n",
       "      <td>1.85</td>\n",
       "      <td>u1785</td>\n",
       "      <td>United Kingdom</td>\n",
       "      <td>HAND WARMER UNION JACK</td>\n",
       "    </tr>\n",
       "    <tr>\n",
       "      <th>2</th>\n",
       "      <td>536368</td>\n",
       "      <td>22912</td>\n",
       "      <td>3</td>\n",
       "      <td>2010-12-01 08:34:00</td>\n",
       "      <td>4.95</td>\n",
       "      <td>u13047</td>\n",
       "      <td>United Kingdom</td>\n",
       "      <td>YELLOW COAT RACK PARIS FASHION</td>\n",
       "    </tr>\n",
       "    <tr>\n",
       "      <th>3</th>\n",
       "      <td>536367</td>\n",
       "      <td>22748</td>\n",
       "      <td>6</td>\n",
       "      <td>2010-12-01 08:34:00</td>\n",
       "      <td>2.10</td>\n",
       "      <td>u13047</td>\n",
       "      <td>United Kingdom</td>\n",
       "      <td>POPPY'S PLAYHOUSE KITCHEN</td>\n",
       "    </tr>\n",
       "    <tr>\n",
       "      <th>4</th>\n",
       "      <td>536367</td>\n",
       "      <td>22623</td>\n",
       "      <td>3</td>\n",
       "      <td>2010-12-01 08:34:00</td>\n",
       "      <td>4.95</td>\n",
       "      <td>u13047</td>\n",
       "      <td>United Kingdom</td>\n",
       "      <td>BOX OF VINTAGE JIGSAW BLOCKS</td>\n",
       "    </tr>\n",
       "  </tbody>\n",
       "</table>\n",
       "</div>"
      ],
      "text/plain": [
       "  invoice stock_code  quantity         invoice_date  price customer_id   \n",
       "0  536365     84029G         6  2010-12-01 08:26:00   3.39       u1785  \\\n",
       "1  536366      22633         6  2010-12-01 08:28:00   1.85       u1785   \n",
       "2  536368      22912         3  2010-12-01 08:34:00   4.95      u13047   \n",
       "3  536367      22748         6  2010-12-01 08:34:00   2.10      u13047   \n",
       "4  536367      22623         3  2010-12-01 08:34:00   4.95      u13047   \n",
       "\n",
       "          country                          description  \n",
       "0  United Kingdom  KNITTED UNION FLAG HOT WATER BOTTLE  \n",
       "1  United Kingdom               HAND WARMER UNION JACK  \n",
       "2  United Kingdom       YELLOW COAT RACK PARIS FASHION  \n",
       "3  United Kingdom            POPPY'S PLAYHOUSE KITCHEN  \n",
       "4  United Kingdom        BOX OF VINTAGE JIGSAW BLOCKS   "
      ]
     },
     "execution_count": 6,
     "metadata": {},
     "output_type": "execute_result"
    }
   ],
   "source": [
    "# extracts data from redshift\n",
    "# joins the description field to the online transactions table\n",
    "# removes invoices where customer id is blank\n",
    "# removes invoices where stock code is in bank charges, postages etc...\n",
    "\n",
    "query = \"\"\"\n",
    "select o.*,\n",
    "       s.description\n",
    "from bootcamp.online_transactions o\n",
    "/*this is a sub query that removes question marks from the stock desc table*/\n",
    "left join (select *\n",
    "          from bootcamp.stock_description\n",
    "          where description <> '?') s on o.stock_code = s.stock_code\n",
    "where o.customer_id <> ''\n",
    "    and o.stock_code not in ('BANK CHARGES', 'POST', 'D', 'M', 'CRUK')\n",
    "\"\"\"\n",
    "\n",
    "online_trans_w_desc = pd.read_sql(query, connect)\n",
    "online_trans_w_desc.head()"
   ]
  },
  {
   "cell_type": "code",
   "execution_count": 7,
   "id": "a447d2ac",
   "metadata": {},
   "outputs": [
    {
     "data": {
      "text/html": [
       "<div>\n",
       "<style scoped>\n",
       "    .dataframe tbody tr th:only-of-type {\n",
       "        vertical-align: middle;\n",
       "    }\n",
       "\n",
       "    .dataframe tbody tr th {\n",
       "        vertical-align: top;\n",
       "    }\n",
       "\n",
       "    .dataframe thead th {\n",
       "        text-align: right;\n",
       "    }\n",
       "</style>\n",
       "<table border=\"1\" class=\"dataframe\">\n",
       "  <thead>\n",
       "    <tr style=\"text-align: right;\">\n",
       "      <th></th>\n",
       "      <th>invoice</th>\n",
       "      <th>stock_code</th>\n",
       "      <th>quantity</th>\n",
       "      <th>invoice_date</th>\n",
       "      <th>price</th>\n",
       "      <th>customer_id</th>\n",
       "      <th>country</th>\n",
       "      <th>description</th>\n",
       "    </tr>\n",
       "  </thead>\n",
       "  <tbody>\n",
       "  </tbody>\n",
       "</table>\n",
       "</div>"
      ],
      "text/plain": [
       "Empty DataFrame\n",
       "Columns: [invoice, stock_code, quantity, invoice_date, price, customer_id, country, description]\n",
       "Index: []"
      ]
     },
     "execution_count": 7,
     "metadata": {},
     "output_type": "execute_result"
    }
   ],
   "source": [
    "online_trans_w_desc[online_trans_w_desc.customer_id == '']\n",
    "\n",
    "# we have no cases of missing customer ids"
   ]
  },
  {
   "cell_type": "code",
   "execution_count": 8,
   "id": "5106d406",
   "metadata": {},
   "outputs": [
    {
     "data": {
      "text/plain": [
       "pandas.core.frame.DataFrame"
      ]
     },
     "execution_count": 8,
     "metadata": {},
     "output_type": "execute_result"
    }
   ],
   "source": [
    "type(online_trans_w_desc)"
   ]
  },
  {
   "cell_type": "code",
   "execution_count": 9,
   "id": "378ebb14",
   "metadata": {},
   "outputs": [
    {
     "data": {
      "text/plain": [
       "(405063, 8)"
      ]
     },
     "execution_count": 9,
     "metadata": {},
     "output_type": "execute_result"
    }
   ],
   "source": [
    "online_trans_w_desc.shape\n",
    "\n",
    "# dropped from 541k rows to 405k rows, and increased the number of columns by one"
   ]
  },
  {
   "cell_type": "markdown",
   "id": "fc2c6de4",
   "metadata": {},
   "source": [
    "## Transforming Data"
   ]
  },
  {
   "cell_type": "markdown",
   "id": "5afed3e7",
   "metadata": {},
   "source": [
    "### Removing duplicated data"
   ]
  },
  {
   "cell_type": "code",
   "execution_count": 10,
   "id": "0667cc82",
   "metadata": {},
   "outputs": [
    {
     "data": {
      "text/plain": [
       "5222"
      ]
     },
     "execution_count": 10,
     "metadata": {},
     "output_type": "execute_result"
    }
   ],
   "source": [
    "# task 1 - Remove duplicated data\n",
    "\n",
    "online_trans_w_desc.duplicated().sum()"
   ]
  },
  {
   "cell_type": "code",
   "execution_count": 11,
   "id": "818a3427",
   "metadata": {},
   "outputs": [
    {
     "data": {
      "text/html": [
       "<div>\n",
       "<style scoped>\n",
       "    .dataframe tbody tr th:only-of-type {\n",
       "        vertical-align: middle;\n",
       "    }\n",
       "\n",
       "    .dataframe tbody tr th {\n",
       "        vertical-align: top;\n",
       "    }\n",
       "\n",
       "    .dataframe thead th {\n",
       "        text-align: right;\n",
       "    }\n",
       "</style>\n",
       "<table border=\"1\" class=\"dataframe\">\n",
       "  <thead>\n",
       "    <tr style=\"text-align: right;\">\n",
       "      <th></th>\n",
       "      <th>invoice</th>\n",
       "      <th>stock_code</th>\n",
       "      <th>quantity</th>\n",
       "      <th>invoice_date</th>\n",
       "      <th>price</th>\n",
       "      <th>customer_id</th>\n",
       "      <th>country</th>\n",
       "      <th>description</th>\n",
       "    </tr>\n",
       "  </thead>\n",
       "  <tbody>\n",
       "    <tr>\n",
       "      <th>334</th>\n",
       "      <td>536464</td>\n",
       "      <td>21992</td>\n",
       "      <td>1</td>\n",
       "      <td>2010-12-01 12:23:00</td>\n",
       "      <td>2.95</td>\n",
       "      <td>u17968</td>\n",
       "      <td>United Kingdom</td>\n",
       "      <td>VINTAGE PAISLEY STATIONERY SET</td>\n",
       "    </tr>\n",
       "    <tr>\n",
       "      <th>379</th>\n",
       "      <td>536412</td>\n",
       "      <td>22327</td>\n",
       "      <td>1</td>\n",
       "      <td>2010-12-01 11:49:00</td>\n",
       "      <td>2.95</td>\n",
       "      <td>u1792</td>\n",
       "      <td>United Kingdom</td>\n",
       "      <td>ROUND SNACK BOXES SET OF 4 SKULLS</td>\n",
       "    </tr>\n",
       "    <tr>\n",
       "      <th>387</th>\n",
       "      <td>536412</td>\n",
       "      <td>22273</td>\n",
       "      <td>1</td>\n",
       "      <td>2010-12-01 11:49:00</td>\n",
       "      <td>2.95</td>\n",
       "      <td>u1792</td>\n",
       "      <td>United Kingdom</td>\n",
       "      <td>FELTCRAFT DOLL MOLLY</td>\n",
       "    </tr>\n",
       "    <tr>\n",
       "      <th>392</th>\n",
       "      <td>536412</td>\n",
       "      <td>21708</td>\n",
       "      <td>1</td>\n",
       "      <td>2010-12-01 11:49:00</td>\n",
       "      <td>4.95</td>\n",
       "      <td>u1792</td>\n",
       "      <td>United Kingdom</td>\n",
       "      <td>FOLDING UMBRELLA CREAM POLKADOT</td>\n",
       "    </tr>\n",
       "    <tr>\n",
       "      <th>394</th>\n",
       "      <td>536412</td>\n",
       "      <td>85184C</td>\n",
       "      <td>1</td>\n",
       "      <td>2010-12-01 11:49:00</td>\n",
       "      <td>2.95</td>\n",
       "      <td>u1792</td>\n",
       "      <td>United Kingdom</td>\n",
       "      <td>SET 4 VALENTINE DECOUPAGE HEART BOX</td>\n",
       "    </tr>\n",
       "    <tr>\n",
       "      <th>...</th>\n",
       "      <td>...</td>\n",
       "      <td>...</td>\n",
       "      <td>...</td>\n",
       "      <td>...</td>\n",
       "      <td>...</td>\n",
       "      <td>...</td>\n",
       "      <td>...</td>\n",
       "      <td>...</td>\n",
       "    </tr>\n",
       "    <tr>\n",
       "      <th>404885</th>\n",
       "      <td>581471</td>\n",
       "      <td>21411</td>\n",
       "      <td>2</td>\n",
       "      <td>2011-12-08 19:29:00</td>\n",
       "      <td>1.95</td>\n",
       "      <td>u14702</td>\n",
       "      <td>United Kingdom</td>\n",
       "      <td>GINGHAM HEART  DOORSTOP RED</td>\n",
       "    </tr>\n",
       "    <tr>\n",
       "      <th>404989</th>\n",
       "      <td>581514</td>\n",
       "      <td>22075</td>\n",
       "      <td>24</td>\n",
       "      <td>2011-12-09 11:20:00</td>\n",
       "      <td>0.39</td>\n",
       "      <td>u17754</td>\n",
       "      <td>United Kingdom</td>\n",
       "      <td>6 RIBBONS ELEGANT CHRISTMAS</td>\n",
       "    </tr>\n",
       "    <tr>\n",
       "      <th>405000</th>\n",
       "      <td>581538</td>\n",
       "      <td>23275</td>\n",
       "      <td>1</td>\n",
       "      <td>2011-12-09 11:34:00</td>\n",
       "      <td>1.25</td>\n",
       "      <td>u14446</td>\n",
       "      <td>United Kingdom</td>\n",
       "      <td>SET OF 3 HANGING OWLS OLLIE BEAK</td>\n",
       "    </tr>\n",
       "    <tr>\n",
       "      <th>405005</th>\n",
       "      <td>581538</td>\n",
       "      <td>22068</td>\n",
       "      <td>1</td>\n",
       "      <td>2011-12-09 11:34:00</td>\n",
       "      <td>0.39</td>\n",
       "      <td>u14446</td>\n",
       "      <td>United Kingdom</td>\n",
       "      <td>BLACK PIRATE TREASURE CHEST</td>\n",
       "    </tr>\n",
       "    <tr>\n",
       "      <th>405011</th>\n",
       "      <td>581538</td>\n",
       "      <td>22694</td>\n",
       "      <td>1</td>\n",
       "      <td>2011-12-09 11:34:00</td>\n",
       "      <td>2.10</td>\n",
       "      <td>u14446</td>\n",
       "      <td>United Kingdom</td>\n",
       "      <td>WICKER STAR</td>\n",
       "    </tr>\n",
       "  </tbody>\n",
       "</table>\n",
       "<p>5222 rows × 8 columns</p>\n",
       "</div>"
      ],
      "text/plain": [
       "       invoice stock_code  quantity         invoice_date  price customer_id   \n",
       "334     536464      21992         1  2010-12-01 12:23:00   2.95      u17968  \\\n",
       "379     536412      22327         1  2010-12-01 11:49:00   2.95       u1792   \n",
       "387     536412      22273         1  2010-12-01 11:49:00   2.95       u1792   \n",
       "392     536412      21708         1  2010-12-01 11:49:00   4.95       u1792   \n",
       "394     536412     85184C         1  2010-12-01 11:49:00   2.95       u1792   \n",
       "...        ...        ...       ...                  ...    ...         ...   \n",
       "404885  581471      21411         2  2011-12-08 19:29:00   1.95      u14702   \n",
       "404989  581514      22075        24  2011-12-09 11:20:00   0.39      u17754   \n",
       "405000  581538      23275         1  2011-12-09 11:34:00   1.25      u14446   \n",
       "405005  581538      22068         1  2011-12-09 11:34:00   0.39      u14446   \n",
       "405011  581538      22694         1  2011-12-09 11:34:00   2.10      u14446   \n",
       "\n",
       "               country                          description  \n",
       "334     United Kingdom       VINTAGE PAISLEY STATIONERY SET  \n",
       "379     United Kingdom    ROUND SNACK BOXES SET OF 4 SKULLS  \n",
       "387     United Kingdom                 FELTCRAFT DOLL MOLLY  \n",
       "392     United Kingdom      FOLDING UMBRELLA CREAM POLKADOT  \n",
       "394     United Kingdom  SET 4 VALENTINE DECOUPAGE HEART BOX  \n",
       "...                ...                                  ...  \n",
       "404885  United Kingdom          GINGHAM HEART  DOORSTOP RED  \n",
       "404989  United Kingdom         6 RIBBONS ELEGANT CHRISTMAS   \n",
       "405000  United Kingdom     SET OF 3 HANGING OWLS OLLIE BEAK  \n",
       "405005  United Kingdom          BLACK PIRATE TREASURE CHEST  \n",
       "405011  United Kingdom                         WICKER STAR   \n",
       "\n",
       "[5222 rows x 8 columns]"
      ]
     },
     "execution_count": 11,
     "metadata": {},
     "output_type": "execute_result"
    }
   ],
   "source": [
    "online_trans_w_desc[online_trans_w_desc.duplicated()]"
   ]
  },
  {
   "cell_type": "code",
   "execution_count": 12,
   "id": "eb90caef",
   "metadata": {},
   "outputs": [
    {
     "data": {
      "text/html": [
       "<div>\n",
       "<style scoped>\n",
       "    .dataframe tbody tr th:only-of-type {\n",
       "        vertical-align: middle;\n",
       "    }\n",
       "\n",
       "    .dataframe tbody tr th {\n",
       "        vertical-align: top;\n",
       "    }\n",
       "\n",
       "    .dataframe thead th {\n",
       "        text-align: right;\n",
       "    }\n",
       "</style>\n",
       "<table border=\"1\" class=\"dataframe\">\n",
       "  <thead>\n",
       "    <tr style=\"text-align: right;\">\n",
       "      <th></th>\n",
       "      <th>invoice</th>\n",
       "      <th>stock_code</th>\n",
       "      <th>quantity</th>\n",
       "      <th>invoice_date</th>\n",
       "      <th>price</th>\n",
       "      <th>customer_id</th>\n",
       "      <th>country</th>\n",
       "      <th>description</th>\n",
       "    </tr>\n",
       "  </thead>\n",
       "  <tbody>\n",
       "    <tr>\n",
       "      <th>0</th>\n",
       "      <td>536365</td>\n",
       "      <td>84029G</td>\n",
       "      <td>6</td>\n",
       "      <td>2010-12-01 08:26:00</td>\n",
       "      <td>3.39</td>\n",
       "      <td>u1785</td>\n",
       "      <td>United Kingdom</td>\n",
       "      <td>KNITTED UNION FLAG HOT WATER BOTTLE</td>\n",
       "    </tr>\n",
       "    <tr>\n",
       "      <th>1</th>\n",
       "      <td>536366</td>\n",
       "      <td>22633</td>\n",
       "      <td>6</td>\n",
       "      <td>2010-12-01 08:28:00</td>\n",
       "      <td>1.85</td>\n",
       "      <td>u1785</td>\n",
       "      <td>United Kingdom</td>\n",
       "      <td>HAND WARMER UNION JACK</td>\n",
       "    </tr>\n",
       "    <tr>\n",
       "      <th>2</th>\n",
       "      <td>536368</td>\n",
       "      <td>22912</td>\n",
       "      <td>3</td>\n",
       "      <td>2010-12-01 08:34:00</td>\n",
       "      <td>4.95</td>\n",
       "      <td>u13047</td>\n",
       "      <td>United Kingdom</td>\n",
       "      <td>YELLOW COAT RACK PARIS FASHION</td>\n",
       "    </tr>\n",
       "    <tr>\n",
       "      <th>3</th>\n",
       "      <td>536367</td>\n",
       "      <td>22748</td>\n",
       "      <td>6</td>\n",
       "      <td>2010-12-01 08:34:00</td>\n",
       "      <td>2.10</td>\n",
       "      <td>u13047</td>\n",
       "      <td>United Kingdom</td>\n",
       "      <td>POPPY'S PLAYHOUSE KITCHEN</td>\n",
       "    </tr>\n",
       "    <tr>\n",
       "      <th>4</th>\n",
       "      <td>536367</td>\n",
       "      <td>22623</td>\n",
       "      <td>3</td>\n",
       "      <td>2010-12-01 08:34:00</td>\n",
       "      <td>4.95</td>\n",
       "      <td>u13047</td>\n",
       "      <td>United Kingdom</td>\n",
       "      <td>BOX OF VINTAGE JIGSAW BLOCKS</td>\n",
       "    </tr>\n",
       "  </tbody>\n",
       "</table>\n",
       "</div>"
      ],
      "text/plain": [
       "  invoice stock_code  quantity         invoice_date  price customer_id   \n",
       "0  536365     84029G         6  2010-12-01 08:26:00   3.39       u1785  \\\n",
       "1  536366      22633         6  2010-12-01 08:28:00   1.85       u1785   \n",
       "2  536368      22912         3  2010-12-01 08:34:00   4.95      u13047   \n",
       "3  536367      22748         6  2010-12-01 08:34:00   2.10      u13047   \n",
       "4  536367      22623         3  2010-12-01 08:34:00   4.95      u13047   \n",
       "\n",
       "          country                          description  \n",
       "0  United Kingdom  KNITTED UNION FLAG HOT WATER BOTTLE  \n",
       "1  United Kingdom               HAND WARMER UNION JACK  \n",
       "2  United Kingdom       YELLOW COAT RACK PARIS FASHION  \n",
       "3  United Kingdom            POPPY'S PLAYHOUSE KITCHEN  \n",
       "4  United Kingdom        BOX OF VINTAGE JIGSAW BLOCKS   "
      ]
     },
     "execution_count": 12,
     "metadata": {},
     "output_type": "execute_result"
    }
   ],
   "source": [
    "# code to only keep the first appearance of a duplicated row\n",
    "\n",
    "online_trans_cleaned = online_trans_w_desc.drop_duplicates(keep = 'first')\n",
    "online_trans_cleaned.head()"
   ]
  },
  {
   "cell_type": "code",
   "execution_count": 13,
   "id": "d1d55b30",
   "metadata": {},
   "outputs": [
    {
     "data": {
      "text/plain": [
       "0"
      ]
     },
     "execution_count": 13,
     "metadata": {},
     "output_type": "execute_result"
    }
   ],
   "source": [
    "# no duplicated rows of data anymore\n",
    "\n",
    "online_trans_cleaned.duplicated().sum()"
   ]
  },
  {
   "cell_type": "code",
   "execution_count": 14,
   "id": "fdccd412",
   "metadata": {},
   "outputs": [
    {
     "name": "stdout",
     "output_type": "stream",
     "text": [
      "(405063, 8)\n",
      "(399841, 8)\n"
     ]
    }
   ],
   "source": [
    "print(online_trans_w_desc.shape)\n",
    "print(online_trans_cleaned.shape)"
   ]
  },
  {
   "cell_type": "markdown",
   "id": "b00d3d0f",
   "metadata": {},
   "source": [
    "### Fixing the invoice date data type"
   ]
  },
  {
   "cell_type": "code",
   "execution_count": 15,
   "id": "bba46e18",
   "metadata": {},
   "outputs": [
    {
     "name": "stdout",
     "output_type": "stream",
     "text": [
      "<class 'pandas.core.frame.DataFrame'>\n",
      "Index: 399841 entries, 0 to 405062\n",
      "Data columns (total 8 columns):\n",
      " #   Column        Non-Null Count   Dtype  \n",
      "---  ------        --------------   -----  \n",
      " 0   invoice       399841 non-null  object \n",
      " 1   stock_code    399841 non-null  object \n",
      " 2   quantity      399841 non-null  int64  \n",
      " 3   invoice_date  399841 non-null  object \n",
      " 4   price         399841 non-null  float64\n",
      " 5   customer_id   399841 non-null  object \n",
      " 6   country       399841 non-null  object \n",
      " 7   description   398669 non-null  object \n",
      "dtypes: float64(1), int64(1), object(6)\n",
      "memory usage: 27.5+ MB\n"
     ]
    }
   ],
   "source": [
    "online_trans_cleaned.info()"
   ]
  },
  {
   "cell_type": "code",
   "execution_count": 17,
   "id": "27470550",
   "metadata": {},
   "outputs": [
    {
     "data": {
      "text/plain": [
       "0        2010-12-01 08:26:00\n",
       "1        2010-12-01 08:28:00\n",
       "2        2010-12-01 08:34:00\n",
       "3        2010-12-01 08:34:00\n",
       "4        2010-12-01 08:34:00\n",
       "                 ...        \n",
       "405058   2011-12-09 12:49:00\n",
       "405059   2011-12-09 12:50:00\n",
       "405060   2011-12-09 12:50:00\n",
       "405061   2011-12-09 12:50:00\n",
       "405062   2011-12-09 12:50:00\n",
       "Name: invoice_date, Length: 399841, dtype: datetime64[ns]"
      ]
     },
     "execution_count": 17,
     "metadata": {},
     "output_type": "execute_result"
    }
   ],
   "source": [
    "# transformation task # 2 - fix the invoice data\n",
    "\n",
    "online_trans_cleaned.invoice_date = pd.to_datetime(online_trans_cleaned.invoice_date)\n",
    "online_trans_cleaned.invoice_date"
   ]
  },
  {
   "cell_type": "code",
   "execution_count": 18,
   "id": "d2f51fb4",
   "metadata": {},
   "outputs": [
    {
     "name": "stdout",
     "output_type": "stream",
     "text": [
      "<class 'pandas.core.frame.DataFrame'>\n",
      "Index: 399841 entries, 0 to 405062\n",
      "Data columns (total 8 columns):\n",
      " #   Column        Non-Null Count   Dtype         \n",
      "---  ------        --------------   -----         \n",
      " 0   invoice       399841 non-null  object        \n",
      " 1   stock_code    399841 non-null  object        \n",
      " 2   quantity      399841 non-null  int64         \n",
      " 3   invoice_date  399841 non-null  datetime64[ns]\n",
      " 4   price         399841 non-null  float64       \n",
      " 5   customer_id   399841 non-null  object        \n",
      " 6   country       399841 non-null  object        \n",
      " 7   description   398669 non-null  object        \n",
      "dtypes: datetime64[ns](1), float64(1), int64(1), object(5)\n",
      "memory usage: 27.5+ MB\n"
     ]
    }
   ],
   "source": [
    "online_trans_cleaned.info()\n",
    "\n",
    "# the invoice date is now a data type datetime64"
   ]
  },
  {
   "cell_type": "code",
   "execution_count": 19,
   "id": "8919dd76",
   "metadata": {},
   "outputs": [
    {
     "data": {
      "text/html": [
       "<div>\n",
       "<style scoped>\n",
       "    .dataframe tbody tr th:only-of-type {\n",
       "        vertical-align: middle;\n",
       "    }\n",
       "\n",
       "    .dataframe tbody tr th {\n",
       "        vertical-align: top;\n",
       "    }\n",
       "\n",
       "    .dataframe thead th {\n",
       "        text-align: right;\n",
       "    }\n",
       "</style>\n",
       "<table border=\"1\" class=\"dataframe\">\n",
       "  <thead>\n",
       "    <tr style=\"text-align: right;\">\n",
       "      <th></th>\n",
       "      <th>invoice</th>\n",
       "      <th>stock_code</th>\n",
       "      <th>quantity</th>\n",
       "      <th>invoice_date</th>\n",
       "      <th>price</th>\n",
       "      <th>customer_id</th>\n",
       "      <th>country</th>\n",
       "      <th>description</th>\n",
       "    </tr>\n",
       "  </thead>\n",
       "  <tbody>\n",
       "    <tr>\n",
       "      <th>0</th>\n",
       "      <td>536365</td>\n",
       "      <td>84029G</td>\n",
       "      <td>6</td>\n",
       "      <td>2010-12-01 08:26:00</td>\n",
       "      <td>3.39</td>\n",
       "      <td>u1785</td>\n",
       "      <td>United Kingdom</td>\n",
       "      <td>KNITTED UNION FLAG HOT WATER BOTTLE</td>\n",
       "    </tr>\n",
       "    <tr>\n",
       "      <th>1</th>\n",
       "      <td>536366</td>\n",
       "      <td>22633</td>\n",
       "      <td>6</td>\n",
       "      <td>2010-12-01 08:28:00</td>\n",
       "      <td>1.85</td>\n",
       "      <td>u1785</td>\n",
       "      <td>United Kingdom</td>\n",
       "      <td>HAND WARMER UNION JACK</td>\n",
       "    </tr>\n",
       "    <tr>\n",
       "      <th>2</th>\n",
       "      <td>536368</td>\n",
       "      <td>22912</td>\n",
       "      <td>3</td>\n",
       "      <td>2010-12-01 08:34:00</td>\n",
       "      <td>4.95</td>\n",
       "      <td>u13047</td>\n",
       "      <td>United Kingdom</td>\n",
       "      <td>YELLOW COAT RACK PARIS FASHION</td>\n",
       "    </tr>\n",
       "    <tr>\n",
       "      <th>3</th>\n",
       "      <td>536367</td>\n",
       "      <td>22748</td>\n",
       "      <td>6</td>\n",
       "      <td>2010-12-01 08:34:00</td>\n",
       "      <td>2.10</td>\n",
       "      <td>u13047</td>\n",
       "      <td>United Kingdom</td>\n",
       "      <td>POPPY'S PLAYHOUSE KITCHEN</td>\n",
       "    </tr>\n",
       "    <tr>\n",
       "      <th>4</th>\n",
       "      <td>536367</td>\n",
       "      <td>22623</td>\n",
       "      <td>3</td>\n",
       "      <td>2010-12-01 08:34:00</td>\n",
       "      <td>4.95</td>\n",
       "      <td>u13047</td>\n",
       "      <td>United Kingdom</td>\n",
       "      <td>BOX OF VINTAGE JIGSAW BLOCKS</td>\n",
       "    </tr>\n",
       "  </tbody>\n",
       "</table>\n",
       "</div>"
      ],
      "text/plain": [
       "  invoice stock_code  quantity        invoice_date  price customer_id   \n",
       "0  536365     84029G         6 2010-12-01 08:26:00   3.39       u1785  \\\n",
       "1  536366      22633         6 2010-12-01 08:28:00   1.85       u1785   \n",
       "2  536368      22912         3 2010-12-01 08:34:00   4.95      u13047   \n",
       "3  536367      22748         6 2010-12-01 08:34:00   2.10      u13047   \n",
       "4  536367      22623         3 2010-12-01 08:34:00   4.95      u13047   \n",
       "\n",
       "          country                          description  \n",
       "0  United Kingdom  KNITTED UNION FLAG HOT WATER BOTTLE  \n",
       "1  United Kingdom               HAND WARMER UNION JACK  \n",
       "2  United Kingdom       YELLOW COAT RACK PARIS FASHION  \n",
       "3  United Kingdom            POPPY'S PLAYHOUSE KITCHEN  \n",
       "4  United Kingdom        BOX OF VINTAGE JIGSAW BLOCKS   "
      ]
     },
     "execution_count": 19,
     "metadata": {},
     "output_type": "execute_result"
    }
   ],
   "source": [
    "online_trans_cleaned.head()"
   ]
  },
  {
   "cell_type": "markdown",
   "id": "a68848c7",
   "metadata": {},
   "source": [
    "### Replacing missing description values with Unknown "
   ]
  },
  {
   "cell_type": "code",
   "execution_count": 20,
   "id": "5dc57a70",
   "metadata": {},
   "outputs": [
    {
     "data": {
      "text/plain": [
       "invoice            0\n",
       "stock_code         0\n",
       "quantity           0\n",
       "invoice_date       0\n",
       "price              0\n",
       "customer_id        0\n",
       "country            0\n",
       "description     1172\n",
       "dtype: int64"
      ]
     },
     "execution_count": 20,
     "metadata": {},
     "output_type": "execute_result"
    }
   ],
   "source": [
    "online_trans_cleaned.isna().sum()"
   ]
  },
  {
   "cell_type": "code",
   "execution_count": 21,
   "id": "88c839f3",
   "metadata": {},
   "outputs": [],
   "source": [
    "# replace missing descriptions with Unknown\n",
    "\n",
    "online_trans_cleaned.description.fillna(\"Unknown\", inplace = True)"
   ]
  },
  {
   "cell_type": "code",
   "execution_count": 22,
   "id": "7de0fc82",
   "metadata": {},
   "outputs": [
    {
     "data": {
      "text/plain": [
       "invoice         0\n",
       "stock_code      0\n",
       "quantity        0\n",
       "invoice_date    0\n",
       "price           0\n",
       "customer_id     0\n",
       "country         0\n",
       "description     0\n",
       "dtype: int64"
      ]
     },
     "execution_count": 22,
     "metadata": {},
     "output_type": "execute_result"
    }
   ],
   "source": [
    "# check there are no missing descriptions\n",
    "\n",
    "online_trans_cleaned.isnull().sum()"
   ]
  },
  {
   "cell_type": "code",
   "execution_count": 29,
   "id": "55495254",
   "metadata": {},
   "outputs": [
    {
     "name": "stdout",
     "output_type": "stream",
     "text": [
      "<class 'pandas.core.frame.DataFrame'>\n",
      "Index: 399841 entries, 0 to 405062\n",
      "Data columns (total 8 columns):\n",
      " #   Column        Non-Null Count   Dtype         \n",
      "---  ------        --------------   -----         \n",
      " 0   invoice       399841 non-null  object        \n",
      " 1   stock_code    399841 non-null  object        \n",
      " 2   quantity      399841 non-null  int64         \n",
      " 3   invoice_date  399841 non-null  datetime64[ns]\n",
      " 4   price         399841 non-null  float64       \n",
      " 5   customer_id   399841 non-null  object        \n",
      " 6   country       399841 non-null  object        \n",
      " 7   description   399841 non-null  object        \n",
      "dtypes: datetime64[ns](1), float64(1), int64(1), object(5)\n",
      "memory usage: 27.5+ MB\n"
     ]
    }
   ],
   "source": [
    "online_trans_cleaned.info()"
   ]
  },
  {
   "cell_type": "code",
   "execution_count": 30,
   "id": "d7009e90",
   "metadata": {},
   "outputs": [
    {
     "data": {
      "text/plain": [
       "(399841, 8)"
      ]
     },
     "execution_count": 30,
     "metadata": {},
     "output_type": "execute_result"
    }
   ],
   "source": [
    "online_trans_cleaned.shape"
   ]
  },
  {
   "cell_type": "markdown",
   "id": "5d23b7f8",
   "metadata": {},
   "source": [
    "## Loading Data to local data folder "
   ]
  },
  {
   "cell_type": "code",
   "execution_count": 28,
   "id": "3b3a0e02",
   "metadata": {},
   "outputs": [],
   "source": [
    "# make sure all transformations are in place\n",
    "# anything else?!\n",
    "\n",
    "online_trans_cleaned.to_pickle(\"../data/online_transactions_cleaned.pkl\")"
   ]
  },
  {
   "cell_type": "code",
   "execution_count": null,
   "id": "d6660710",
   "metadata": {},
   "outputs": [],
   "source": []
  }
 ],
 "metadata": {
  "kernelspec": {
   "display_name": "Python 3 (ipykernel)",
   "language": "python",
   "name": "python3"
  },
  "language_info": {
   "codemirror_mode": {
    "name": "ipython",
    "version": 3
   },
   "file_extension": ".py",
   "mimetype": "text/x-python",
   "name": "python",
   "nbconvert_exporter": "python",
   "pygments_lexer": "ipython3",
   "version": "3.11.3"
  }
 },
 "nbformat": 4,
 "nbformat_minor": 5
}
