{
 "cells": [
  {
   "cell_type": "markdown",
   "id": "e74ded95",
   "metadata": {},
   "source": [
    "We are going to extract data from redshift and carry out the following transformation tasks\n",
    "- remove all rows where customer id is missing - SQL \n",
    "- remove certain stock codes - SQL \n",
    "- add description to the online transactions table - SQL \n",
    "- remove all duplicate data - Python\n",
    "- replace missing stock description with Unknown  - SQL \n",
    "- fix data type - SQL\n"
   ]
  },
  {
   "cell_type": "code",
   "execution_count": 1,
   "id": "f0d863be",
   "metadata": {},
   "outputs": [],
   "source": [
    "# import the libraries we need\n",
    "\n",
    "import psycopg2\n",
    "import pandas as pd\n",
    "\n",
    "#import boto3\n",
    "#from io import StringIO\n",
    "\n",
    "import warnings\n",
    "warnings.filterwarnings(\"ignore\")\n"
   ]
  },
  {
   "cell_type": "markdown",
   "id": "2f2f43f4",
   "metadata": {},
   "source": [
    "## Extracting Data"
   ]
  },
  {
   "cell_type": "code",
   "execution_count": 4,
   "id": "2a1256c4",
   "metadata": {},
   "outputs": [],
   "source": [
    "# NEVER share passwords\n",
    "# please dont copy this code\n",
    "import os\n",
    "\n",
    "from dotenv import load_dotenv\n",
    "load_dotenv()  # only for local testing\n",
    "\n",
    "dbname = os.getenv(\"dbname\")\n",
    "host = os.getenv(\"host\")\n",
    "port = os.getenv(\"port\")\n",
    "user = os.getenv(\"user\")\n",
    "password = os.getenv(\"password\")"
   ]
  },
  {
   "cell_type": "code",
   "execution_count": 5,
   "id": "efeca610",
   "metadata": {},
   "outputs": [],
   "source": [
    "# connect to redshift\n",
    "\n",
    "def connect_to_redshift(dbname, host, port, user, password):\n",
    "    \"\"\"Method that connects to redshift. This gives a warning so will look for another solution\"\"\"\n",
    "\n",
    "    connect = psycopg2.connect(\n",
    "        dbname=dbname, host=host, port=port, user=user, password=password\n",
    "    )\n",
    "\n",
    "    print(\"Wahoo! connection to redshift made\")\n",
    "\n",
    "    return connect"
   ]
  },
  {
   "cell_type": "code",
   "execution_count": 6,
   "id": "cffb7d55",
   "metadata": {},
   "outputs": [
    {
     "name": "stdout",
     "output_type": "stream",
     "text": [
      "Wahoo! connection to redshift made\n"
     ]
    }
   ],
   "source": [
    "connect = connect_to_redshift(dbname, host, port, user, password)"
   ]
  },
  {
   "cell_type": "code",
   "execution_count": 7,
   "id": "043cc8ad",
   "metadata": {},
   "outputs": [
    {
     "data": {
      "text/html": [
       "<div>\n",
       "<style scoped>\n",
       "    .dataframe tbody tr th:only-of-type {\n",
       "        vertical-align: middle;\n",
       "    }\n",
       "\n",
       "    .dataframe tbody tr th {\n",
       "        vertical-align: top;\n",
       "    }\n",
       "\n",
       "    .dataframe thead th {\n",
       "        text-align: right;\n",
       "    }\n",
       "</style>\n",
       "<table border=\"1\" class=\"dataframe\">\n",
       "  <thead>\n",
       "    <tr style=\"text-align: right;\">\n",
       "      <th></th>\n",
       "      <th>stock_code</th>\n",
       "      <th>description</th>\n",
       "    </tr>\n",
       "  </thead>\n",
       "  <tbody>\n",
       "    <tr>\n",
       "      <th>0</th>\n",
       "      <td>10002</td>\n",
       "      <td>INFLATABLE POLITICAL GLOBE</td>\n",
       "    </tr>\n",
       "    <tr>\n",
       "      <th>1</th>\n",
       "      <td>10080</td>\n",
       "      <td>GROOVY CACTUS INFLATABLE</td>\n",
       "    </tr>\n",
       "    <tr>\n",
       "      <th>2</th>\n",
       "      <td>10120</td>\n",
       "      <td>DOGGY RUBBER</td>\n",
       "    </tr>\n",
       "    <tr>\n",
       "      <th>3</th>\n",
       "      <td>10123C</td>\n",
       "      <td>HEARTS WRAPPING TAPE</td>\n",
       "    </tr>\n",
       "    <tr>\n",
       "      <th>4</th>\n",
       "      <td>10124A</td>\n",
       "      <td>SPOTS ON RED BOOKCOVER TAPE</td>\n",
       "    </tr>\n",
       "    <tr>\n",
       "      <th>5</th>\n",
       "      <td>10124G</td>\n",
       "      <td>ARMY CAMO BOOKCOVER TAPE</td>\n",
       "    </tr>\n",
       "    <tr>\n",
       "      <th>6</th>\n",
       "      <td>10125</td>\n",
       "      <td>MINI FUNKY DESIGN TAPES</td>\n",
       "    </tr>\n",
       "    <tr>\n",
       "      <th>7</th>\n",
       "      <td>10133</td>\n",
       "      <td>COLOURING PENCILS BROWN TUBE</td>\n",
       "    </tr>\n",
       "    <tr>\n",
       "      <th>8</th>\n",
       "      <td>10135</td>\n",
       "      <td>COLOURING PENCILS BROWN TUBE</td>\n",
       "    </tr>\n",
       "    <tr>\n",
       "      <th>9</th>\n",
       "      <td>11001</td>\n",
       "      <td>ASSTD DESIGN RACING CAR PEN</td>\n",
       "    </tr>\n",
       "  </tbody>\n",
       "</table>\n",
       "</div>"
      ],
      "text/plain": [
       "  stock_code                   description\n",
       "0      10002   INFLATABLE POLITICAL GLOBE \n",
       "1      10080      GROOVY CACTUS INFLATABLE\n",
       "2      10120                  DOGGY RUBBER\n",
       "3     10123C         HEARTS WRAPPING TAPE \n",
       "4     10124A   SPOTS ON RED BOOKCOVER TAPE\n",
       "5     10124G      ARMY CAMO BOOKCOVER TAPE\n",
       "6      10125       MINI FUNKY DESIGN TAPES\n",
       "7      10133  COLOURING PENCILS BROWN TUBE\n",
       "8      10135  COLOURING PENCILS BROWN TUBE\n",
       "9      11001   ASSTD DESIGN RACING CAR PEN"
      ]
     },
     "execution_count": 7,
     "metadata": {},
     "output_type": "execute_result"
    }
   ],
   "source": [
    "# check everything is working\n",
    "\n",
    "query = \"\"\"select *\n",
    "from bootcamp.stock_description\n",
    "limit 10\n",
    "\"\"\"\n",
    "\n",
    "pd.read_sql(query, connect)"
   ]
  },
  {
   "cell_type": "code",
   "execution_count": 10,
   "id": "8a1f87a7",
   "metadata": {},
   "outputs": [
    {
     "data": {
      "text/plain": [
       "(541910, 8)"
      ]
     },
     "execution_count": 10,
     "metadata": {},
     "output_type": "execute_result"
    }
   ],
   "source": [
    "query = \"\"\"\n",
    "select o.*,\n",
    "       s.description\n",
    "from bootcamp.online_transactions o\n",
    "left join (select *\n",
    "           from bootcamp.stock_description\n",
    "           where description <> '?') s on o.stock_code = s.stock_code\n",
    "\"\"\"\n",
    "\n",
    "online_trans_w_desc = pd.read_sql(query, connect)\n",
    "online_trans_w_desc.shape"
   ]
  },
  {
   "cell_type": "code",
   "execution_count": 9,
   "id": "a99a6cea",
   "metadata": {},
   "outputs": [
    {
     "data": {
      "text/html": [
       "<div>\n",
       "<style scoped>\n",
       "    .dataframe tbody tr th:only-of-type {\n",
       "        vertical-align: middle;\n",
       "    }\n",
       "\n",
       "    .dataframe tbody tr th {\n",
       "        vertical-align: top;\n",
       "    }\n",
       "\n",
       "    .dataframe thead th {\n",
       "        text-align: right;\n",
       "    }\n",
       "</style>\n",
       "<table border=\"1\" class=\"dataframe\">\n",
       "  <thead>\n",
       "    <tr style=\"text-align: right;\">\n",
       "      <th></th>\n",
       "      <th>number_rows</th>\n",
       "    </tr>\n",
       "  </thead>\n",
       "  <tbody>\n",
       "    <tr>\n",
       "      <th>0</th>\n",
       "      <td>541910</td>\n",
       "    </tr>\n",
       "  </tbody>\n",
       "</table>\n",
       "</div>"
      ],
      "text/plain": [
       "   number_rows\n",
       "0       541910"
      ]
     },
     "execution_count": 9,
     "metadata": {},
     "output_type": "execute_result"
    }
   ],
   "source": [
    "query = \"\"\"\n",
    "select count(*) as number_rows\n",
    "from bootcamp.online_transactions o\n",
    "\"\"\"\n",
    "\n",
    "pd.read_sql(query, connect)\n"
   ]
  },
  {
   "cell_type": "code",
   "execution_count": 88,
   "id": "604e374a",
   "metadata": {},
   "outputs": [
    {
     "data": {
      "text/plain": [
       "(405063, 9)"
      ]
     },
     "execution_count": 88,
     "metadata": {},
     "output_type": "execute_result"
    }
   ],
   "source": [
    "# extracts data from redshift\n",
    "# joins the description field to the online transactions table\n",
    "# removes invoices where customer id is blank\n",
    "# removes invoices where stock code is in bank charges, post etc...\n",
    "# converts the invoice date to a datetime field\n",
    "# creates a variable called total order value\n",
    "# replaces missing descriptions with unknown\n",
    "\n",
    "query = \"\"\"\n",
    "SELECT ot.invoice, \n",
    "       ot.stock_code,\n",
    "       CASE WHEN s.description IS NULL THEN 'Unknown'\n",
    "            ELSE s.description END AS description,\n",
    "       ot.price,\n",
    "       ot.quantity,\n",
    "       /*add a variable that gives the total order value*/\n",
    "       ot.price*ot.quantity as total_order_value,\n",
    "       CAST(invoice_date As DateTime) AS invoice_date,\n",
    "       ot.customer_id,\n",
    "       ot.country\n",
    "FROM bootcamp.online_transactions ot\n",
    "/* this is a subquery that removes '?' from the stock_description table */\n",
    "LEFT JOIN (SELECT *\n",
    "           FROM bootcamp.stock_description\n",
    "           WHERE description <> '?') AS s ON ot.stock_code = s.stock_code\n",
    "WHERE ot.customer_id <> ''\n",
    "  AND ot.stock_code NOT IN ('BANK CHARGES', 'POST', 'D', 'M', 'CRUK')\n",
    "\"\"\"\n",
    "\n",
    "online_trans_w_desc = pd.read_sql(query, connect)\n",
    "online_trans_w_desc.shape"
   ]
  },
  {
   "cell_type": "code",
   "execution_count": 89,
   "id": "b83e8f9f",
   "metadata": {},
   "outputs": [
    {
     "data": {
      "text/html": [
       "<div>\n",
       "<style scoped>\n",
       "    .dataframe tbody tr th:only-of-type {\n",
       "        vertical-align: middle;\n",
       "    }\n",
       "\n",
       "    .dataframe tbody tr th {\n",
       "        vertical-align: top;\n",
       "    }\n",
       "\n",
       "    .dataframe thead th {\n",
       "        text-align: right;\n",
       "    }\n",
       "</style>\n",
       "<table border=\"1\" class=\"dataframe\">\n",
       "  <thead>\n",
       "    <tr style=\"text-align: right;\">\n",
       "      <th></th>\n",
       "      <th>invoice</th>\n",
       "      <th>stock_code</th>\n",
       "      <th>description</th>\n",
       "      <th>price</th>\n",
       "      <th>quantity</th>\n",
       "      <th>total_order_value</th>\n",
       "      <th>invoice_date</th>\n",
       "      <th>customer_id</th>\n",
       "      <th>country</th>\n",
       "    </tr>\n",
       "  </thead>\n",
       "  <tbody>\n",
       "    <tr>\n",
       "      <th>0</th>\n",
       "      <td>536365</td>\n",
       "      <td>85123A</td>\n",
       "      <td>CREAM HANGING HEART T-LIGHT HOLDER</td>\n",
       "      <td>2.55</td>\n",
       "      <td>6</td>\n",
       "      <td>15.30</td>\n",
       "      <td>2010-12-01 08:26:00</td>\n",
       "      <td>u1785</td>\n",
       "      <td>United Kingdom</td>\n",
       "    </tr>\n",
       "    <tr>\n",
       "      <th>1</th>\n",
       "      <td>536365</td>\n",
       "      <td>84029E</td>\n",
       "      <td>RED WOOLLY HOTTIE WHITE HEART.</td>\n",
       "      <td>3.39</td>\n",
       "      <td>6</td>\n",
       "      <td>20.34</td>\n",
       "      <td>2010-12-01 08:26:00</td>\n",
       "      <td>u1785</td>\n",
       "      <td>United Kingdom</td>\n",
       "    </tr>\n",
       "    <tr>\n",
       "      <th>2</th>\n",
       "      <td>536366</td>\n",
       "      <td>22632</td>\n",
       "      <td>HAND WARMER RED POLKA DOT</td>\n",
       "      <td>1.85</td>\n",
       "      <td>6</td>\n",
       "      <td>11.10</td>\n",
       "      <td>2010-12-01 08:28:00</td>\n",
       "      <td>u1785</td>\n",
       "      <td>United Kingdom</td>\n",
       "    </tr>\n",
       "    <tr>\n",
       "      <th>3</th>\n",
       "      <td>536368</td>\n",
       "      <td>22914</td>\n",
       "      <td>BLUE COAT RACK PARIS FASHION</td>\n",
       "      <td>4.95</td>\n",
       "      <td>3</td>\n",
       "      <td>14.85</td>\n",
       "      <td>2010-12-01 08:34:00</td>\n",
       "      <td>u13047</td>\n",
       "      <td>United Kingdom</td>\n",
       "    </tr>\n",
       "    <tr>\n",
       "      <th>4</th>\n",
       "      <td>536367</td>\n",
       "      <td>22749</td>\n",
       "      <td>FELTCRAFT PRINCESS CHARLOTTE DOLL</td>\n",
       "      <td>3.75</td>\n",
       "      <td>8</td>\n",
       "      <td>30.00</td>\n",
       "      <td>2010-12-01 08:34:00</td>\n",
       "      <td>u13047</td>\n",
       "      <td>United Kingdom</td>\n",
       "    </tr>\n",
       "  </tbody>\n",
       "</table>\n",
       "</div>"
      ],
      "text/plain": [
       "  invoice stock_code                         description  price  quantity   \n",
       "0  536365     85123A  CREAM HANGING HEART T-LIGHT HOLDER   2.55         6  \\\n",
       "1  536365     84029E      RED WOOLLY HOTTIE WHITE HEART.   3.39         6   \n",
       "2  536366      22632           HAND WARMER RED POLKA DOT   1.85         6   \n",
       "3  536368      22914        BLUE COAT RACK PARIS FASHION   4.95         3   \n",
       "4  536367      22749   FELTCRAFT PRINCESS CHARLOTTE DOLL   3.75         8   \n",
       "\n",
       "   total_order_value        invoice_date customer_id         country  \n",
       "0              15.30 2010-12-01 08:26:00       u1785  United Kingdom  \n",
       "1              20.34 2010-12-01 08:26:00       u1785  United Kingdom  \n",
       "2              11.10 2010-12-01 08:28:00       u1785  United Kingdom  \n",
       "3              14.85 2010-12-01 08:34:00      u13047  United Kingdom  \n",
       "4              30.00 2010-12-01 08:34:00      u13047  United Kingdom  "
      ]
     },
     "execution_count": 89,
     "metadata": {},
     "output_type": "execute_result"
    }
   ],
   "source": [
    "online_trans_w_desc.head()"
   ]
  },
  {
   "cell_type": "code",
   "execution_count": 90,
   "id": "a8752cb0",
   "metadata": {},
   "outputs": [
    {
     "name": "stdout",
     "output_type": "stream",
     "text": [
      "<class 'pandas.core.frame.DataFrame'>\n",
      "RangeIndex: 405063 entries, 0 to 405062\n",
      "Data columns (total 9 columns):\n",
      " #   Column             Non-Null Count   Dtype         \n",
      "---  ------             --------------   -----         \n",
      " 0   invoice            405063 non-null  object        \n",
      " 1   stock_code         405063 non-null  object        \n",
      " 2   description        405063 non-null  object        \n",
      " 3   price              405063 non-null  float64       \n",
      " 4   quantity           405063 non-null  int64         \n",
      " 5   total_order_value  405063 non-null  float64       \n",
      " 6   invoice_date       405063 non-null  datetime64[ns]\n",
      " 7   customer_id        405063 non-null  object        \n",
      " 8   country            405063 non-null  object        \n",
      "dtypes: datetime64[ns](1), float64(2), int64(1), object(5)\n",
      "memory usage: 27.8+ MB\n"
     ]
    }
   ],
   "source": [
    "online_trans_w_desc.info()"
   ]
  },
  {
   "cell_type": "code",
   "execution_count": 91,
   "id": "a447d2ac",
   "metadata": {},
   "outputs": [
    {
     "data": {
      "text/html": [
       "<div>\n",
       "<style scoped>\n",
       "    .dataframe tbody tr th:only-of-type {\n",
       "        vertical-align: middle;\n",
       "    }\n",
       "\n",
       "    .dataframe tbody tr th {\n",
       "        vertical-align: top;\n",
       "    }\n",
       "\n",
       "    .dataframe thead th {\n",
       "        text-align: right;\n",
       "    }\n",
       "</style>\n",
       "<table border=\"1\" class=\"dataframe\">\n",
       "  <thead>\n",
       "    <tr style=\"text-align: right;\">\n",
       "      <th></th>\n",
       "      <th>invoice</th>\n",
       "      <th>stock_code</th>\n",
       "      <th>description</th>\n",
       "      <th>price</th>\n",
       "      <th>quantity</th>\n",
       "      <th>total_order_value</th>\n",
       "      <th>invoice_date</th>\n",
       "      <th>customer_id</th>\n",
       "      <th>country</th>\n",
       "    </tr>\n",
       "  </thead>\n",
       "  <tbody>\n",
       "  </tbody>\n",
       "</table>\n",
       "</div>"
      ],
      "text/plain": [
       "Empty DataFrame\n",
       "Columns: [invoice, stock_code, description, price, quantity, total_order_value, invoice_date, customer_id, country]\n",
       "Index: []"
      ]
     },
     "execution_count": 91,
     "metadata": {},
     "output_type": "execute_result"
    }
   ],
   "source": [
    "online_trans_w_desc[online_trans_w_desc.customer_id == '']\n",
    "\n",
    "# we have no cases of missing customer ids"
   ]
  },
  {
   "cell_type": "code",
   "execution_count": 92,
   "id": "4981dba9",
   "metadata": {},
   "outputs": [
    {
     "data": {
      "text/html": [
       "<div>\n",
       "<style scoped>\n",
       "    .dataframe tbody tr th:only-of-type {\n",
       "        vertical-align: middle;\n",
       "    }\n",
       "\n",
       "    .dataframe tbody tr th {\n",
       "        vertical-align: top;\n",
       "    }\n",
       "\n",
       "    .dataframe thead th {\n",
       "        text-align: right;\n",
       "    }\n",
       "</style>\n",
       "<table border=\"1\" class=\"dataframe\">\n",
       "  <thead>\n",
       "    <tr style=\"text-align: right;\">\n",
       "      <th></th>\n",
       "      <th>invoice</th>\n",
       "      <th>stock_code</th>\n",
       "      <th>description</th>\n",
       "      <th>price</th>\n",
       "      <th>quantity</th>\n",
       "      <th>total_order_value</th>\n",
       "      <th>invoice_date</th>\n",
       "      <th>customer_id</th>\n",
       "      <th>country</th>\n",
       "    </tr>\n",
       "  </thead>\n",
       "  <tbody>\n",
       "    <tr>\n",
       "      <th>515</th>\n",
       "      <td>536557</td>\n",
       "      <td>22686</td>\n",
       "      <td>Unknown</td>\n",
       "      <td>1.25</td>\n",
       "      <td>1</td>\n",
       "      <td>1.25</td>\n",
       "      <td>2010-12-01 14:41:00</td>\n",
       "      <td>u17841</td>\n",
       "      <td>United Kingdom</td>\n",
       "    </tr>\n",
       "    <tr>\n",
       "      <th>910</th>\n",
       "      <td>536408</td>\n",
       "      <td>21705</td>\n",
       "      <td>Unknown</td>\n",
       "      <td>1.65</td>\n",
       "      <td>12</td>\n",
       "      <td>19.80</td>\n",
       "      <td>2010-12-01 11:41:00</td>\n",
       "      <td>u14307</td>\n",
       "      <td>United Kingdom</td>\n",
       "    </tr>\n",
       "    <tr>\n",
       "      <th>1011</th>\n",
       "      <td>536595</td>\n",
       "      <td>21705</td>\n",
       "      <td>Unknown</td>\n",
       "      <td>1.65</td>\n",
       "      <td>5</td>\n",
       "      <td>8.25</td>\n",
       "      <td>2010-12-01 17:24:00</td>\n",
       "      <td>u13576</td>\n",
       "      <td>United Kingdom</td>\n",
       "    </tr>\n",
       "    <tr>\n",
       "      <th>1804</th>\n",
       "      <td>536597</td>\n",
       "      <td>21704</td>\n",
       "      <td>Unknown</td>\n",
       "      <td>0.85</td>\n",
       "      <td>1</td>\n",
       "      <td>0.85</td>\n",
       "      <td>2010-12-01 17:35:00</td>\n",
       "      <td>u18011</td>\n",
       "      <td>United Kingdom</td>\n",
       "    </tr>\n",
       "    <tr>\n",
       "      <th>2337</th>\n",
       "      <td>536500</td>\n",
       "      <td>46000M</td>\n",
       "      <td>Unknown</td>\n",
       "      <td>1.55</td>\n",
       "      <td>10</td>\n",
       "      <td>15.50</td>\n",
       "      <td>2010-12-01 12:35:00</td>\n",
       "      <td>u17377</td>\n",
       "      <td>United Kingdom</td>\n",
       "    </tr>\n",
       "    <tr>\n",
       "      <th>...</th>\n",
       "      <td>...</td>\n",
       "      <td>...</td>\n",
       "      <td>...</td>\n",
       "      <td>...</td>\n",
       "      <td>...</td>\n",
       "      <td>...</td>\n",
       "      <td>...</td>\n",
       "      <td>...</td>\n",
       "      <td>...</td>\n",
       "    </tr>\n",
       "    <tr>\n",
       "      <th>403956</th>\n",
       "      <td>581133</td>\n",
       "      <td>21705</td>\n",
       "      <td>Unknown</td>\n",
       "      <td>0.39</td>\n",
       "      <td>24</td>\n",
       "      <td>9.36</td>\n",
       "      <td>2011-12-07 12:55:00</td>\n",
       "      <td>u14904</td>\n",
       "      <td>United Kingdom</td>\n",
       "    </tr>\n",
       "    <tr>\n",
       "      <th>404283</th>\n",
       "      <td>581221</td>\n",
       "      <td>23444</td>\n",
       "      <td>Unknown</td>\n",
       "      <td>15.00</td>\n",
       "      <td>1</td>\n",
       "      <td>15.00</td>\n",
       "      <td>2011-12-08 09:40:00</td>\n",
       "      <td>u17856</td>\n",
       "      <td>United Kingdom</td>\n",
       "    </tr>\n",
       "    <tr>\n",
       "      <th>404361</th>\n",
       "      <td>581266</td>\n",
       "      <td>21703</td>\n",
       "      <td>Unknown</td>\n",
       "      <td>0.42</td>\n",
       "      <td>12</td>\n",
       "      <td>5.04</td>\n",
       "      <td>2011-12-08 11:25:00</td>\n",
       "      <td>u12621</td>\n",
       "      <td>Germany</td>\n",
       "    </tr>\n",
       "    <tr>\n",
       "      <th>404878</th>\n",
       "      <td>581469</td>\n",
       "      <td>21704</td>\n",
       "      <td>Unknown</td>\n",
       "      <td>0.85</td>\n",
       "      <td>1</td>\n",
       "      <td>0.85</td>\n",
       "      <td>2011-12-08 19:28:00</td>\n",
       "      <td>u14606</td>\n",
       "      <td>United Kingdom</td>\n",
       "    </tr>\n",
       "    <tr>\n",
       "      <th>404990</th>\n",
       "      <td>581516</td>\n",
       "      <td>21705</td>\n",
       "      <td>Unknown</td>\n",
       "      <td>0.39</td>\n",
       "      <td>24</td>\n",
       "      <td>9.36</td>\n",
       "      <td>2011-12-09 11:26:00</td>\n",
       "      <td>u14422</td>\n",
       "      <td>United Kingdom</td>\n",
       "    </tr>\n",
       "  </tbody>\n",
       "</table>\n",
       "<p>1175 rows × 9 columns</p>\n",
       "</div>"
      ],
      "text/plain": [
       "       invoice stock_code description  price  quantity  total_order_value   \n",
       "515     536557      22686     Unknown   1.25         1               1.25  \\\n",
       "910     536408      21705     Unknown   1.65        12              19.80   \n",
       "1011    536595      21705     Unknown   1.65         5               8.25   \n",
       "1804    536597      21704     Unknown   0.85         1               0.85   \n",
       "2337    536500     46000M     Unknown   1.55        10              15.50   \n",
       "...        ...        ...         ...    ...       ...                ...   \n",
       "403956  581133      21705     Unknown   0.39        24               9.36   \n",
       "404283  581221      23444     Unknown  15.00         1              15.00   \n",
       "404361  581266      21703     Unknown   0.42        12               5.04   \n",
       "404878  581469      21704     Unknown   0.85         1               0.85   \n",
       "404990  581516      21705     Unknown   0.39        24               9.36   \n",
       "\n",
       "              invoice_date customer_id         country  \n",
       "515    2010-12-01 14:41:00      u17841  United Kingdom  \n",
       "910    2010-12-01 11:41:00      u14307  United Kingdom  \n",
       "1011   2010-12-01 17:24:00      u13576  United Kingdom  \n",
       "1804   2010-12-01 17:35:00      u18011  United Kingdom  \n",
       "2337   2010-12-01 12:35:00      u17377  United Kingdom  \n",
       "...                    ...         ...             ...  \n",
       "403956 2011-12-07 12:55:00      u14904  United Kingdom  \n",
       "404283 2011-12-08 09:40:00      u17856  United Kingdom  \n",
       "404361 2011-12-08 11:25:00      u12621         Germany  \n",
       "404878 2011-12-08 19:28:00      u14606  United Kingdom  \n",
       "404990 2011-12-09 11:26:00      u14422  United Kingdom  \n",
       "\n",
       "[1175 rows x 9 columns]"
      ]
     },
     "execution_count": 92,
     "metadata": {},
     "output_type": "execute_result"
    }
   ],
   "source": [
    "online_trans_w_desc[online_trans_w_desc.description == \"Unknown\"]"
   ]
  },
  {
   "cell_type": "code",
   "execution_count": 93,
   "id": "5106d406",
   "metadata": {},
   "outputs": [
    {
     "data": {
      "text/plain": [
       "pandas.core.frame.DataFrame"
      ]
     },
     "execution_count": 93,
     "metadata": {},
     "output_type": "execute_result"
    }
   ],
   "source": [
    "type(online_trans_w_desc)"
   ]
  },
  {
   "cell_type": "code",
   "execution_count": 94,
   "id": "378ebb14",
   "metadata": {},
   "outputs": [
    {
     "data": {
      "text/plain": [
       "(405063, 9)"
      ]
     },
     "execution_count": 94,
     "metadata": {},
     "output_type": "execute_result"
    }
   ],
   "source": [
    "online_trans_w_desc.shape\n",
    "\n",
    "# dropped from 541k rows to 405k rows, and increased the number of columns by one"
   ]
  },
  {
   "cell_type": "markdown",
   "id": "fc2c6de4",
   "metadata": {},
   "source": [
    "## Transforming Data"
   ]
  },
  {
   "cell_type": "markdown",
   "id": "5afed3e7",
   "metadata": {},
   "source": [
    "### Removing duplicated data"
   ]
  },
  {
   "cell_type": "code",
   "execution_count": 95,
   "id": "0667cc82",
   "metadata": {},
   "outputs": [
    {
     "data": {
      "text/plain": [
       "5222"
      ]
     },
     "execution_count": 95,
     "metadata": {},
     "output_type": "execute_result"
    }
   ],
   "source": [
    "# task 1 - Remove duplicated data\n",
    "\n",
    "online_trans_w_desc.duplicated().sum()"
   ]
  },
  {
   "cell_type": "code",
   "execution_count": 96,
   "id": "818a3427",
   "metadata": {},
   "outputs": [
    {
     "data": {
      "text/html": [
       "<div>\n",
       "<style scoped>\n",
       "    .dataframe tbody tr th:only-of-type {\n",
       "        vertical-align: middle;\n",
       "    }\n",
       "\n",
       "    .dataframe tbody tr th {\n",
       "        vertical-align: top;\n",
       "    }\n",
       "\n",
       "    .dataframe thead th {\n",
       "        text-align: right;\n",
       "    }\n",
       "</style>\n",
       "<table border=\"1\" class=\"dataframe\">\n",
       "  <thead>\n",
       "    <tr style=\"text-align: right;\">\n",
       "      <th></th>\n",
       "      <th>invoice</th>\n",
       "      <th>stock_code</th>\n",
       "      <th>description</th>\n",
       "      <th>price</th>\n",
       "      <th>quantity</th>\n",
       "      <th>total_order_value</th>\n",
       "      <th>invoice_date</th>\n",
       "      <th>customer_id</th>\n",
       "      <th>country</th>\n",
       "    </tr>\n",
       "  </thead>\n",
       "  <tbody>\n",
       "    <tr>\n",
       "      <th>279</th>\n",
       "      <td>536464</td>\n",
       "      <td>21992</td>\n",
       "      <td>VINTAGE PAISLEY STATIONERY SET</td>\n",
       "      <td>2.95</td>\n",
       "      <td>1</td>\n",
       "      <td>2.95</td>\n",
       "      <td>2010-12-01 12:23:00</td>\n",
       "      <td>u17968</td>\n",
       "      <td>United Kingdom</td>\n",
       "    </tr>\n",
       "    <tr>\n",
       "      <th>359</th>\n",
       "      <td>536528</td>\n",
       "      <td>84985A</td>\n",
       "      <td>SET OF 72 GREEN PAPER DOILIES</td>\n",
       "      <td>1.45</td>\n",
       "      <td>1</td>\n",
       "      <td>1.45</td>\n",
       "      <td>2010-12-01 13:17:00</td>\n",
       "      <td>u15525</td>\n",
       "      <td>United Kingdom</td>\n",
       "    </tr>\n",
       "    <tr>\n",
       "      <th>716</th>\n",
       "      <td>536409</td>\n",
       "      <td>22866</td>\n",
       "      <td>HAND WARMER SCOTTY DOG DESIGN</td>\n",
       "      <td>2.10</td>\n",
       "      <td>1</td>\n",
       "      <td>2.10</td>\n",
       "      <td>2010-12-01 11:45:00</td>\n",
       "      <td>u17908</td>\n",
       "      <td>United Kingdom</td>\n",
       "    </tr>\n",
       "    <tr>\n",
       "      <th>794</th>\n",
       "      <td>536409</td>\n",
       "      <td>22111</td>\n",
       "      <td>SCOTTIE DOG HOT WATER BOTTLE</td>\n",
       "      <td>4.95</td>\n",
       "      <td>1</td>\n",
       "      <td>4.95</td>\n",
       "      <td>2010-12-01 11:45:00</td>\n",
       "      <td>u17908</td>\n",
       "      <td>United Kingdom</td>\n",
       "    </tr>\n",
       "    <tr>\n",
       "      <th>798</th>\n",
       "      <td>536412</td>\n",
       "      <td>22327</td>\n",
       "      <td>ROUND SNACK BOXES SET OF 4 SKULLS</td>\n",
       "      <td>2.95</td>\n",
       "      <td>1</td>\n",
       "      <td>2.95</td>\n",
       "      <td>2010-12-01 11:49:00</td>\n",
       "      <td>u1792</td>\n",
       "      <td>United Kingdom</td>\n",
       "    </tr>\n",
       "    <tr>\n",
       "      <th>...</th>\n",
       "      <td>...</td>\n",
       "      <td>...</td>\n",
       "      <td>...</td>\n",
       "      <td>...</td>\n",
       "      <td>...</td>\n",
       "      <td>...</td>\n",
       "      <td>...</td>\n",
       "      <td>...</td>\n",
       "      <td>...</td>\n",
       "    </tr>\n",
       "    <tr>\n",
       "      <th>404885</th>\n",
       "      <td>581471</td>\n",
       "      <td>21411</td>\n",
       "      <td>GINGHAM HEART  DOORSTOP RED</td>\n",
       "      <td>1.95</td>\n",
       "      <td>2</td>\n",
       "      <td>3.90</td>\n",
       "      <td>2011-12-08 19:29:00</td>\n",
       "      <td>u14702</td>\n",
       "      <td>United Kingdom</td>\n",
       "    </tr>\n",
       "    <tr>\n",
       "      <th>404989</th>\n",
       "      <td>581514</td>\n",
       "      <td>22075</td>\n",
       "      <td>6 RIBBONS ELEGANT CHRISTMAS</td>\n",
       "      <td>0.39</td>\n",
       "      <td>24</td>\n",
       "      <td>9.36</td>\n",
       "      <td>2011-12-09 11:20:00</td>\n",
       "      <td>u17754</td>\n",
       "      <td>United Kingdom</td>\n",
       "    </tr>\n",
       "    <tr>\n",
       "      <th>405000</th>\n",
       "      <td>581538</td>\n",
       "      <td>23275</td>\n",
       "      <td>SET OF 3 HANGING OWLS OLLIE BEAK</td>\n",
       "      <td>1.25</td>\n",
       "      <td>1</td>\n",
       "      <td>1.25</td>\n",
       "      <td>2011-12-09 11:34:00</td>\n",
       "      <td>u14446</td>\n",
       "      <td>United Kingdom</td>\n",
       "    </tr>\n",
       "    <tr>\n",
       "      <th>405005</th>\n",
       "      <td>581538</td>\n",
       "      <td>22068</td>\n",
       "      <td>BLACK PIRATE TREASURE CHEST</td>\n",
       "      <td>0.39</td>\n",
       "      <td>1</td>\n",
       "      <td>0.39</td>\n",
       "      <td>2011-12-09 11:34:00</td>\n",
       "      <td>u14446</td>\n",
       "      <td>United Kingdom</td>\n",
       "    </tr>\n",
       "    <tr>\n",
       "      <th>405011</th>\n",
       "      <td>581538</td>\n",
       "      <td>22694</td>\n",
       "      <td>WICKER STAR</td>\n",
       "      <td>2.10</td>\n",
       "      <td>1</td>\n",
       "      <td>2.10</td>\n",
       "      <td>2011-12-09 11:34:00</td>\n",
       "      <td>u14446</td>\n",
       "      <td>United Kingdom</td>\n",
       "    </tr>\n",
       "  </tbody>\n",
       "</table>\n",
       "<p>5222 rows × 9 columns</p>\n",
       "</div>"
      ],
      "text/plain": [
       "       invoice stock_code                        description  price  quantity   \n",
       "279     536464      21992     VINTAGE PAISLEY STATIONERY SET   2.95         1  \\\n",
       "359     536528     84985A      SET OF 72 GREEN PAPER DOILIES   1.45         1   \n",
       "716     536409      22866      HAND WARMER SCOTTY DOG DESIGN   2.10         1   \n",
       "794     536409      22111       SCOTTIE DOG HOT WATER BOTTLE   4.95         1   \n",
       "798     536412      22327  ROUND SNACK BOXES SET OF 4 SKULLS   2.95         1   \n",
       "...        ...        ...                                ...    ...       ...   \n",
       "404885  581471      21411        GINGHAM HEART  DOORSTOP RED   1.95         2   \n",
       "404989  581514      22075       6 RIBBONS ELEGANT CHRISTMAS    0.39        24   \n",
       "405000  581538      23275   SET OF 3 HANGING OWLS OLLIE BEAK   1.25         1   \n",
       "405005  581538      22068        BLACK PIRATE TREASURE CHEST   0.39         1   \n",
       "405011  581538      22694                       WICKER STAR    2.10         1   \n",
       "\n",
       "        total_order_value        invoice_date customer_id         country  \n",
       "279                  2.95 2010-12-01 12:23:00      u17968  United Kingdom  \n",
       "359                  1.45 2010-12-01 13:17:00      u15525  United Kingdom  \n",
       "716                  2.10 2010-12-01 11:45:00      u17908  United Kingdom  \n",
       "794                  4.95 2010-12-01 11:45:00      u17908  United Kingdom  \n",
       "798                  2.95 2010-12-01 11:49:00       u1792  United Kingdom  \n",
       "...                   ...                 ...         ...             ...  \n",
       "404885               3.90 2011-12-08 19:29:00      u14702  United Kingdom  \n",
       "404989               9.36 2011-12-09 11:20:00      u17754  United Kingdom  \n",
       "405000               1.25 2011-12-09 11:34:00      u14446  United Kingdom  \n",
       "405005               0.39 2011-12-09 11:34:00      u14446  United Kingdom  \n",
       "405011               2.10 2011-12-09 11:34:00      u14446  United Kingdom  \n",
       "\n",
       "[5222 rows x 9 columns]"
      ]
     },
     "execution_count": 96,
     "metadata": {},
     "output_type": "execute_result"
    }
   ],
   "source": [
    "online_trans_w_desc[online_trans_w_desc.duplicated()]"
   ]
  },
  {
   "cell_type": "code",
   "execution_count": 102,
   "id": "731429b1",
   "metadata": {},
   "outputs": [
    {
     "data": {
      "text/html": [
       "<div>\n",
       "<style scoped>\n",
       "    .dataframe tbody tr th:only-of-type {\n",
       "        vertical-align: middle;\n",
       "    }\n",
       "\n",
       "    .dataframe tbody tr th {\n",
       "        vertical-align: top;\n",
       "    }\n",
       "\n",
       "    .dataframe thead th {\n",
       "        text-align: right;\n",
       "    }\n",
       "</style>\n",
       "<table border=\"1\" class=\"dataframe\">\n",
       "  <thead>\n",
       "    <tr style=\"text-align: right;\">\n",
       "      <th></th>\n",
       "      <th>invoice</th>\n",
       "      <th>stock_code</th>\n",
       "      <th>description</th>\n",
       "      <th>price</th>\n",
       "      <th>quantity</th>\n",
       "      <th>total_order_value</th>\n",
       "      <th>invoice_date</th>\n",
       "      <th>customer_id</th>\n",
       "      <th>country</th>\n",
       "    </tr>\n",
       "  </thead>\n",
       "  <tbody>\n",
       "    <tr>\n",
       "      <th>348</th>\n",
       "      <td>536528</td>\n",
       "      <td>84985A</td>\n",
       "      <td>SET OF 72 GREEN PAPER DOILIES</td>\n",
       "      <td>1.45</td>\n",
       "      <td>1</td>\n",
       "      <td>1.45</td>\n",
       "      <td>2010-12-01 13:17:00</td>\n",
       "      <td>u15525</td>\n",
       "      <td>United Kingdom</td>\n",
       "    </tr>\n",
       "    <tr>\n",
       "      <th>359</th>\n",
       "      <td>536528</td>\n",
       "      <td>84985A</td>\n",
       "      <td>SET OF 72 GREEN PAPER DOILIES</td>\n",
       "      <td>1.45</td>\n",
       "      <td>1</td>\n",
       "      <td>1.45</td>\n",
       "      <td>2010-12-01 13:17:00</td>\n",
       "      <td>u15525</td>\n",
       "      <td>United Kingdom</td>\n",
       "    </tr>\n",
       "  </tbody>\n",
       "</table>\n",
       "</div>"
      ],
      "text/plain": [
       "    invoice stock_code                    description  price  quantity   \n",
       "348  536528     84985A  SET OF 72 GREEN PAPER DOILIES   1.45         1  \\\n",
       "359  536528     84985A  SET OF 72 GREEN PAPER DOILIES   1.45         1   \n",
       "\n",
       "     total_order_value        invoice_date customer_id         country  \n",
       "348               1.45 2010-12-01 13:17:00      u15525  United Kingdom  \n",
       "359               1.45 2010-12-01 13:17:00      u15525  United Kingdom  "
      ]
     },
     "execution_count": 102,
     "metadata": {},
     "output_type": "execute_result"
    }
   ],
   "source": [
    "online_trans_w_desc[(online_trans_w_desc.stock_code == \"84985A\") & \n",
    "                    (online_trans_w_desc.invoice == \"536528\")]"
   ]
  },
  {
   "cell_type": "code",
   "execution_count": 98,
   "id": "eb90caef",
   "metadata": {},
   "outputs": [
    {
     "data": {
      "text/html": [
       "<div>\n",
       "<style scoped>\n",
       "    .dataframe tbody tr th:only-of-type {\n",
       "        vertical-align: middle;\n",
       "    }\n",
       "\n",
       "    .dataframe tbody tr th {\n",
       "        vertical-align: top;\n",
       "    }\n",
       "\n",
       "    .dataframe thead th {\n",
       "        text-align: right;\n",
       "    }\n",
       "</style>\n",
       "<table border=\"1\" class=\"dataframe\">\n",
       "  <thead>\n",
       "    <tr style=\"text-align: right;\">\n",
       "      <th></th>\n",
       "      <th>invoice</th>\n",
       "      <th>stock_code</th>\n",
       "      <th>description</th>\n",
       "      <th>price</th>\n",
       "      <th>quantity</th>\n",
       "      <th>total_order_value</th>\n",
       "      <th>invoice_date</th>\n",
       "      <th>customer_id</th>\n",
       "      <th>country</th>\n",
       "    </tr>\n",
       "  </thead>\n",
       "  <tbody>\n",
       "    <tr>\n",
       "      <th>0</th>\n",
       "      <td>536365</td>\n",
       "      <td>85123A</td>\n",
       "      <td>CREAM HANGING HEART T-LIGHT HOLDER</td>\n",
       "      <td>2.55</td>\n",
       "      <td>6</td>\n",
       "      <td>15.30</td>\n",
       "      <td>2010-12-01 08:26:00</td>\n",
       "      <td>u1785</td>\n",
       "      <td>United Kingdom</td>\n",
       "    </tr>\n",
       "    <tr>\n",
       "      <th>1</th>\n",
       "      <td>536365</td>\n",
       "      <td>84029E</td>\n",
       "      <td>RED WOOLLY HOTTIE WHITE HEART.</td>\n",
       "      <td>3.39</td>\n",
       "      <td>6</td>\n",
       "      <td>20.34</td>\n",
       "      <td>2010-12-01 08:26:00</td>\n",
       "      <td>u1785</td>\n",
       "      <td>United Kingdom</td>\n",
       "    </tr>\n",
       "    <tr>\n",
       "      <th>2</th>\n",
       "      <td>536366</td>\n",
       "      <td>22632</td>\n",
       "      <td>HAND WARMER RED POLKA DOT</td>\n",
       "      <td>1.85</td>\n",
       "      <td>6</td>\n",
       "      <td>11.10</td>\n",
       "      <td>2010-12-01 08:28:00</td>\n",
       "      <td>u1785</td>\n",
       "      <td>United Kingdom</td>\n",
       "    </tr>\n",
       "    <tr>\n",
       "      <th>3</th>\n",
       "      <td>536368</td>\n",
       "      <td>22914</td>\n",
       "      <td>BLUE COAT RACK PARIS FASHION</td>\n",
       "      <td>4.95</td>\n",
       "      <td>3</td>\n",
       "      <td>14.85</td>\n",
       "      <td>2010-12-01 08:34:00</td>\n",
       "      <td>u13047</td>\n",
       "      <td>United Kingdom</td>\n",
       "    </tr>\n",
       "    <tr>\n",
       "      <th>4</th>\n",
       "      <td>536367</td>\n",
       "      <td>22749</td>\n",
       "      <td>FELTCRAFT PRINCESS CHARLOTTE DOLL</td>\n",
       "      <td>3.75</td>\n",
       "      <td>8</td>\n",
       "      <td>30.00</td>\n",
       "      <td>2010-12-01 08:34:00</td>\n",
       "      <td>u13047</td>\n",
       "      <td>United Kingdom</td>\n",
       "    </tr>\n",
       "  </tbody>\n",
       "</table>\n",
       "</div>"
      ],
      "text/plain": [
       "  invoice stock_code                         description  price  quantity   \n",
       "0  536365     85123A  CREAM HANGING HEART T-LIGHT HOLDER   2.55         6  \\\n",
       "1  536365     84029E      RED WOOLLY HOTTIE WHITE HEART.   3.39         6   \n",
       "2  536366      22632           HAND WARMER RED POLKA DOT   1.85         6   \n",
       "3  536368      22914        BLUE COAT RACK PARIS FASHION   4.95         3   \n",
       "4  536367      22749   FELTCRAFT PRINCESS CHARLOTTE DOLL   3.75         8   \n",
       "\n",
       "   total_order_value        invoice_date customer_id         country  \n",
       "0              15.30 2010-12-01 08:26:00       u1785  United Kingdom  \n",
       "1              20.34 2010-12-01 08:26:00       u1785  United Kingdom  \n",
       "2              11.10 2010-12-01 08:28:00       u1785  United Kingdom  \n",
       "3              14.85 2010-12-01 08:34:00      u13047  United Kingdom  \n",
       "4              30.00 2010-12-01 08:34:00      u13047  United Kingdom  "
      ]
     },
     "execution_count": 98,
     "metadata": {},
     "output_type": "execute_result"
    }
   ],
   "source": [
    "# code to only keep the first appearance of a duplicated row\n",
    "\n",
    "online_trans_cleaned = online_trans_w_desc.drop_duplicates(keep = 'first')\n",
    "online_trans_cleaned.head()"
   ]
  },
  {
   "cell_type": "code",
   "execution_count": 103,
   "id": "f86ff650",
   "metadata": {},
   "outputs": [
    {
     "data": {
      "text/html": [
       "<div>\n",
       "<style scoped>\n",
       "    .dataframe tbody tr th:only-of-type {\n",
       "        vertical-align: middle;\n",
       "    }\n",
       "\n",
       "    .dataframe tbody tr th {\n",
       "        vertical-align: top;\n",
       "    }\n",
       "\n",
       "    .dataframe thead th {\n",
       "        text-align: right;\n",
       "    }\n",
       "</style>\n",
       "<table border=\"1\" class=\"dataframe\">\n",
       "  <thead>\n",
       "    <tr style=\"text-align: right;\">\n",
       "      <th></th>\n",
       "      <th>invoice</th>\n",
       "      <th>stock_code</th>\n",
       "      <th>description</th>\n",
       "      <th>price</th>\n",
       "      <th>quantity</th>\n",
       "      <th>total_order_value</th>\n",
       "      <th>invoice_date</th>\n",
       "      <th>customer_id</th>\n",
       "      <th>country</th>\n",
       "    </tr>\n",
       "  </thead>\n",
       "  <tbody>\n",
       "    <tr>\n",
       "      <th>348</th>\n",
       "      <td>536528</td>\n",
       "      <td>84985A</td>\n",
       "      <td>SET OF 72 GREEN PAPER DOILIES</td>\n",
       "      <td>1.45</td>\n",
       "      <td>1</td>\n",
       "      <td>1.45</td>\n",
       "      <td>2010-12-01 13:17:00</td>\n",
       "      <td>u15525</td>\n",
       "      <td>United Kingdom</td>\n",
       "    </tr>\n",
       "  </tbody>\n",
       "</table>\n",
       "</div>"
      ],
      "text/plain": [
       "    invoice stock_code                    description  price  quantity   \n",
       "348  536528     84985A  SET OF 72 GREEN PAPER DOILIES   1.45         1  \\\n",
       "\n",
       "     total_order_value        invoice_date customer_id         country  \n",
       "348               1.45 2010-12-01 13:17:00      u15525  United Kingdom  "
      ]
     },
     "execution_count": 103,
     "metadata": {},
     "output_type": "execute_result"
    }
   ],
   "source": [
    "online_trans_cleaned[(online_trans_cleaned.stock_code == \"84985A\")&\n",
    "                     (online_trans_cleaned.invoice == \"536528\")]"
   ]
  },
  {
   "cell_type": "code",
   "execution_count": 104,
   "id": "d1d55b30",
   "metadata": {},
   "outputs": [
    {
     "data": {
      "text/plain": [
       "0"
      ]
     },
     "execution_count": 104,
     "metadata": {},
     "output_type": "execute_result"
    }
   ],
   "source": [
    "# no duplicated rows of data anymore\n",
    "\n",
    "online_trans_cleaned.duplicated().sum()"
   ]
  },
  {
   "cell_type": "code",
   "execution_count": 105,
   "id": "fdccd412",
   "metadata": {},
   "outputs": [
    {
     "name": "stdout",
     "output_type": "stream",
     "text": [
      "(405063, 9)\n",
      "(399841, 9)\n"
     ]
    }
   ],
   "source": [
    "print(online_trans_w_desc.shape)\n",
    "print(online_trans_cleaned.shape)"
   ]
  },
  {
   "cell_type": "code",
   "execution_count": 74,
   "id": "a936149b",
   "metadata": {},
   "outputs": [
    {
     "data": {
      "text/plain": [
       "5222"
      ]
     },
     "execution_count": 74,
     "metadata": {},
     "output_type": "execute_result"
    }
   ],
   "source": [
    "online_trans_w_desc.shape[0] - online_trans_cleaned.shape[0]"
   ]
  },
  {
   "cell_type": "code",
   "execution_count": 125,
   "id": "208fcf04",
   "metadata": {},
   "outputs": [],
   "source": [
    "def identify_and_remove_duplicated_data(df):\n",
    "    \"\"\"Function that removes identifies and removes duplicates\"\"\"\n",
    "    \n",
    "    if df.duplicated().sum() > 0:\n",
    "        # identify duplicated data\n",
    "        print(\"# of duplicated rows:\", df.duplicated().sum())\n",
    "\n",
    "        # drop the duplicated rows, and only keep first apperance\n",
    "        df_cleaned = df.drop_duplicates(keep = 'first')\n",
    "        \n",
    "        print(\"-\"*60)\n",
    "        print(\"shape of data before removing duplicated data\", df.shape)\n",
    "        print(\"shape of data after removing duplicated data\", df_cleaned.shape)\n",
    "        print(\"-\"*60)\n",
    "    else:\n",
    "        print(\"No duplicated data found\")\n",
    "        df_cleaned = df\n",
    "        \n",
    "    \n",
    "    return df_cleaned"
   ]
  },
  {
   "cell_type": "code",
   "execution_count": 126,
   "id": "99b3a1d4",
   "metadata": {},
   "outputs": [
    {
     "name": "stdout",
     "output_type": "stream",
     "text": [
      "# of duplicated rows: 5222\n",
      "------------------------------------------------------------\n",
      "shape of data before removing duplicated data (405063, 9)\n",
      "shape of data after removing duplicated data (399841, 9)\n",
      "------------------------------------------------------------\n"
     ]
    }
   ],
   "source": [
    "online_trans_cleaned = identify_and_remove_duplicated_data(online_trans_w_desc)"
   ]
  },
  {
   "cell_type": "code",
   "execution_count": 127,
   "id": "e3e56724",
   "metadata": {},
   "outputs": [
    {
     "data": {
      "text/html": [
       "<div>\n",
       "<style scoped>\n",
       "    .dataframe tbody tr th:only-of-type {\n",
       "        vertical-align: middle;\n",
       "    }\n",
       "\n",
       "    .dataframe tbody tr th {\n",
       "        vertical-align: top;\n",
       "    }\n",
       "\n",
       "    .dataframe thead th {\n",
       "        text-align: right;\n",
       "    }\n",
       "</style>\n",
       "<table border=\"1\" class=\"dataframe\">\n",
       "  <thead>\n",
       "    <tr style=\"text-align: right;\">\n",
       "      <th></th>\n",
       "      <th>invoice</th>\n",
       "      <th>stock_code</th>\n",
       "      <th>description</th>\n",
       "      <th>price</th>\n",
       "      <th>quantity</th>\n",
       "      <th>total_order_value</th>\n",
       "      <th>invoice_date</th>\n",
       "      <th>customer_id</th>\n",
       "      <th>country</th>\n",
       "    </tr>\n",
       "  </thead>\n",
       "  <tbody>\n",
       "    <tr>\n",
       "      <th>0</th>\n",
       "      <td>536365</td>\n",
       "      <td>85123A</td>\n",
       "      <td>CREAM HANGING HEART T-LIGHT HOLDER</td>\n",
       "      <td>2.55</td>\n",
       "      <td>6</td>\n",
       "      <td>15.30</td>\n",
       "      <td>2010-12-01 08:26:00</td>\n",
       "      <td>u1785</td>\n",
       "      <td>United Kingdom</td>\n",
       "    </tr>\n",
       "    <tr>\n",
       "      <th>1</th>\n",
       "      <td>536365</td>\n",
       "      <td>84029E</td>\n",
       "      <td>RED WOOLLY HOTTIE WHITE HEART.</td>\n",
       "      <td>3.39</td>\n",
       "      <td>6</td>\n",
       "      <td>20.34</td>\n",
       "      <td>2010-12-01 08:26:00</td>\n",
       "      <td>u1785</td>\n",
       "      <td>United Kingdom</td>\n",
       "    </tr>\n",
       "    <tr>\n",
       "      <th>2</th>\n",
       "      <td>536366</td>\n",
       "      <td>22632</td>\n",
       "      <td>HAND WARMER RED POLKA DOT</td>\n",
       "      <td>1.85</td>\n",
       "      <td>6</td>\n",
       "      <td>11.10</td>\n",
       "      <td>2010-12-01 08:28:00</td>\n",
       "      <td>u1785</td>\n",
       "      <td>United Kingdom</td>\n",
       "    </tr>\n",
       "    <tr>\n",
       "      <th>3</th>\n",
       "      <td>536368</td>\n",
       "      <td>22914</td>\n",
       "      <td>BLUE COAT RACK PARIS FASHION</td>\n",
       "      <td>4.95</td>\n",
       "      <td>3</td>\n",
       "      <td>14.85</td>\n",
       "      <td>2010-12-01 08:34:00</td>\n",
       "      <td>u13047</td>\n",
       "      <td>United Kingdom</td>\n",
       "    </tr>\n",
       "    <tr>\n",
       "      <th>4</th>\n",
       "      <td>536367</td>\n",
       "      <td>22749</td>\n",
       "      <td>FELTCRAFT PRINCESS CHARLOTTE DOLL</td>\n",
       "      <td>3.75</td>\n",
       "      <td>8</td>\n",
       "      <td>30.00</td>\n",
       "      <td>2010-12-01 08:34:00</td>\n",
       "      <td>u13047</td>\n",
       "      <td>United Kingdom</td>\n",
       "    </tr>\n",
       "  </tbody>\n",
       "</table>\n",
       "</div>"
      ],
      "text/plain": [
       "  invoice stock_code                         description  price  quantity   \n",
       "0  536365     85123A  CREAM HANGING HEART T-LIGHT HOLDER   2.55         6  \\\n",
       "1  536365     84029E      RED WOOLLY HOTTIE WHITE HEART.   3.39         6   \n",
       "2  536366      22632           HAND WARMER RED POLKA DOT   1.85         6   \n",
       "3  536368      22914        BLUE COAT RACK PARIS FASHION   4.95         3   \n",
       "4  536367      22749   FELTCRAFT PRINCESS CHARLOTTE DOLL   3.75         8   \n",
       "\n",
       "   total_order_value        invoice_date customer_id         country  \n",
       "0              15.30 2010-12-01 08:26:00       u1785  United Kingdom  \n",
       "1              20.34 2010-12-01 08:26:00       u1785  United Kingdom  \n",
       "2              11.10 2010-12-01 08:28:00       u1785  United Kingdom  \n",
       "3              14.85 2010-12-01 08:34:00      u13047  United Kingdom  \n",
       "4              30.00 2010-12-01 08:34:00      u13047  United Kingdom  "
      ]
     },
     "execution_count": 127,
     "metadata": {},
     "output_type": "execute_result"
    }
   ],
   "source": [
    "online_trans_cleaned.head()"
   ]
  },
  {
   "cell_type": "code",
   "execution_count": 129,
   "id": "ebf8a984",
   "metadata": {
    "scrolled": true
   },
   "outputs": [
    {
     "name": "stdout",
     "output_type": "stream",
     "text": [
      "No duplicated data found\n"
     ]
    }
   ],
   "source": [
    "online_trans_cleaned = identify_and_remove_duplicated_data(online_trans_cleaned)"
   ]
  },
  {
   "cell_type": "markdown",
   "id": "5d23b7f8",
   "metadata": {},
   "source": [
    "## Loading Data to local data folder "
   ]
  },
  {
   "cell_type": "code",
   "execution_count": 135,
   "id": "3b3a0e02",
   "metadata": {},
   "outputs": [],
   "source": [
    "# make sure all transformations are in place\n",
    "# anything else?!\n",
    "\n",
    "online_trans_cleaned.to_pickle(\"../data/online_transactions_cleaned.pkl\")"
   ]
  },
  {
   "cell_type": "code",
   "execution_count": 136,
   "id": "bb10aa5e",
   "metadata": {},
   "outputs": [
    {
     "name": "stdout",
     "output_type": "stream",
     "text": [
      "<class 'pandas.core.frame.DataFrame'>\n",
      "Index: 399841 entries, 0 to 405062\n",
      "Data columns (total 9 columns):\n",
      " #   Column             Non-Null Count   Dtype         \n",
      "---  ------             --------------   -----         \n",
      " 0   invoice            399841 non-null  object        \n",
      " 1   stock_code         399841 non-null  object        \n",
      " 2   description        399841 non-null  object        \n",
      " 3   price              399841 non-null  float64       \n",
      " 4   quantity           399841 non-null  int64         \n",
      " 5   total_order_value  399841 non-null  float64       \n",
      " 6   invoice_date       399841 non-null  datetime64[ns]\n",
      " 7   customer_id        399841 non-null  object        \n",
      " 8   country            399841 non-null  object        \n",
      "dtypes: datetime64[ns](1), float64(2), int64(1), object(5)\n",
      "memory usage: 30.5+ MB\n"
     ]
    }
   ],
   "source": [
    "test = pd.read_pickle(\"../data/online_transactions_cleaned.pkl\")\n",
    "test.info()"
   ]
  },
  {
   "cell_type": "code",
   "execution_count": 140,
   "id": "a4f0d55d",
   "metadata": {},
   "outputs": [
    {
     "data": {
      "text/html": [
       "<div>\n",
       "<style scoped>\n",
       "    .dataframe tbody tr th:only-of-type {\n",
       "        vertical-align: middle;\n",
       "    }\n",
       "\n",
       "    .dataframe tbody tr th {\n",
       "        vertical-align: top;\n",
       "    }\n",
       "\n",
       "    .dataframe thead th {\n",
       "        text-align: right;\n",
       "    }\n",
       "</style>\n",
       "<table border=\"1\" class=\"dataframe\">\n",
       "  <thead>\n",
       "    <tr style=\"text-align: right;\">\n",
       "      <th></th>\n",
       "      <th>invoice</th>\n",
       "      <th>stock_code</th>\n",
       "      <th>description</th>\n",
       "      <th>price</th>\n",
       "      <th>quantity</th>\n",
       "      <th>total_order_value</th>\n",
       "      <th>invoice_date</th>\n",
       "      <th>customer_id</th>\n",
       "      <th>country</th>\n",
       "    </tr>\n",
       "  </thead>\n",
       "  <tbody>\n",
       "    <tr>\n",
       "      <th>0</th>\n",
       "      <td>536365</td>\n",
       "      <td>85123A</td>\n",
       "      <td>CREAM HANGING HEART T-LIGHT HOLDER</td>\n",
       "      <td>2.55</td>\n",
       "      <td>6</td>\n",
       "      <td>15.30</td>\n",
       "      <td>2010-12-01 08:26:00</td>\n",
       "      <td>u1785</td>\n",
       "      <td>United Kingdom</td>\n",
       "    </tr>\n",
       "    <tr>\n",
       "      <th>1</th>\n",
       "      <td>536365</td>\n",
       "      <td>84029E</td>\n",
       "      <td>RED WOOLLY HOTTIE WHITE HEART.</td>\n",
       "      <td>3.39</td>\n",
       "      <td>6</td>\n",
       "      <td>20.34</td>\n",
       "      <td>2010-12-01 08:26:00</td>\n",
       "      <td>u1785</td>\n",
       "      <td>United Kingdom</td>\n",
       "    </tr>\n",
       "    <tr>\n",
       "      <th>2</th>\n",
       "      <td>536366</td>\n",
       "      <td>22632</td>\n",
       "      <td>HAND WARMER RED POLKA DOT</td>\n",
       "      <td>1.85</td>\n",
       "      <td>6</td>\n",
       "      <td>11.10</td>\n",
       "      <td>2010-12-01 08:28:00</td>\n",
       "      <td>u1785</td>\n",
       "      <td>United Kingdom</td>\n",
       "    </tr>\n",
       "    <tr>\n",
       "      <th>3</th>\n",
       "      <td>536368</td>\n",
       "      <td>22914</td>\n",
       "      <td>BLUE COAT RACK PARIS FASHION</td>\n",
       "      <td>4.95</td>\n",
       "      <td>3</td>\n",
       "      <td>14.85</td>\n",
       "      <td>2010-12-01 08:34:00</td>\n",
       "      <td>u13047</td>\n",
       "      <td>United Kingdom</td>\n",
       "    </tr>\n",
       "    <tr>\n",
       "      <th>4</th>\n",
       "      <td>536367</td>\n",
       "      <td>22749</td>\n",
       "      <td>FELTCRAFT PRINCESS CHARLOTTE DOLL</td>\n",
       "      <td>3.75</td>\n",
       "      <td>8</td>\n",
       "      <td>30.00</td>\n",
       "      <td>2010-12-01 08:34:00</td>\n",
       "      <td>u13047</td>\n",
       "      <td>United Kingdom</td>\n",
       "    </tr>\n",
       "  </tbody>\n",
       "</table>\n",
       "</div>"
      ],
      "text/plain": [
       "  invoice stock_code                         description  price  quantity   \n",
       "0  536365     85123A  CREAM HANGING HEART T-LIGHT HOLDER   2.55         6  \\\n",
       "1  536365     84029E      RED WOOLLY HOTTIE WHITE HEART.   3.39         6   \n",
       "2  536366      22632           HAND WARMER RED POLKA DOT   1.85         6   \n",
       "3  536368      22914        BLUE COAT RACK PARIS FASHION   4.95         3   \n",
       "4  536367      22749   FELTCRAFT PRINCESS CHARLOTTE DOLL   3.75         8   \n",
       "\n",
       "   total_order_value         invoice_date customer_id         country  \n",
       "0              15.30  2010-12-01 08:26:00       u1785  United Kingdom  \n",
       "1              20.34  2010-12-01 08:26:00       u1785  United Kingdom  \n",
       "2              11.10  2010-12-01 08:28:00       u1785  United Kingdom  \n",
       "3              14.85  2010-12-01 08:34:00      u13047  United Kingdom  \n",
       "4              30.00  2010-12-01 08:34:00      u13047  United Kingdom  "
      ]
     },
     "execution_count": 140,
     "metadata": {},
     "output_type": "execute_result"
    }
   ],
   "source": [
    "test.head()"
   ]
  },
  {
   "cell_type": "code",
   "execution_count": 137,
   "id": "c5643eb5",
   "metadata": {},
   "outputs": [
    {
     "data": {
      "text/plain": [
       "(399841, 9)"
      ]
     },
     "execution_count": 137,
     "metadata": {},
     "output_type": "execute_result"
    }
   ],
   "source": [
    "test.shape"
   ]
  },
  {
   "cell_type": "code",
   "execution_count": 138,
   "id": "fe8f9474",
   "metadata": {},
   "outputs": [],
   "source": [
    "demo = online_trans_cleaned.to_csv(\"../data/online_transactions_cleaned.csv\", index = False)\n",
    "test = pd.read_csv(\"../data/online_transactions_cleaned.csv\")"
   ]
  },
  {
   "cell_type": "code",
   "execution_count": 139,
   "id": "be31b9a9",
   "metadata": {},
   "outputs": [
    {
     "name": "stdout",
     "output_type": "stream",
     "text": [
      "<class 'pandas.core.frame.DataFrame'>\n",
      "RangeIndex: 399841 entries, 0 to 399840\n",
      "Data columns (total 9 columns):\n",
      " #   Column             Non-Null Count   Dtype  \n",
      "---  ------             --------------   -----  \n",
      " 0   invoice            399841 non-null  object \n",
      " 1   stock_code         399841 non-null  object \n",
      " 2   description        399841 non-null  object \n",
      " 3   price              399841 non-null  float64\n",
      " 4   quantity           399841 non-null  int64  \n",
      " 5   total_order_value  399841 non-null  float64\n",
      " 6   invoice_date       399841 non-null  object \n",
      " 7   customer_id        399841 non-null  object \n",
      " 8   country            399841 non-null  object \n",
      "dtypes: float64(2), int64(1), object(6)\n",
      "memory usage: 27.5+ MB\n"
     ]
    }
   ],
   "source": [
    "test.info()"
   ]
  },
  {
   "cell_type": "markdown",
   "id": "b9b5eec5",
   "metadata": {},
   "source": [
    "## Loading Data to s3 - we ll pick up on Friday"
   ]
  },
  {
   "cell_type": "code",
   "execution_count": 143,
   "id": "26ec9613",
   "metadata": {},
   "outputs": [
    {
     "data": {
      "text/plain": [
       "<botocore.client.S3 at 0x185b11390>"
      ]
     },
     "execution_count": 143,
     "metadata": {},
     "output_type": "execute_result"
    }
   ],
   "source": [
    "# load the online_transactions_final data frame to s3\n",
    "\n",
    "# connect to s3\n",
    "\n",
    "AWS_ACCESS_KEY_ID = \n",
    "AWS_SECRET_ACCESS_KEY = \n",
    "AWS_S3_BUCKET = \"waia-data-dump\"\n"
   ]
  },
  {
   "cell_type": "code",
   "execution_count": 147,
   "id": "7dadda9b",
   "metadata": {},
   "outputs": [],
   "source": [
    "import boto3\n",
    "from io import StringIO\n",
    "\n",
    "def connect_to_s3(aws_access_key_id, aws_secret_access_key):\n",
    "    \"\"\"Methods that connects to s3\"\"\"\n",
    "\n",
    "    s3_client = boto3.client(\n",
    "        \"s3\",\n",
    "        aws_access_key_id=aws_access_key_id,\n",
    "        aws_secret_access_key=aws_secret_access_key\n",
    "    )\n",
    "\n",
    "    print(\"Connection to s3 made\")\n",
    "    \n",
    "    return s3_client\n",
    "\n",
    "\n",
    "def df_to_s3(df, key, s3_bucket, aws_access_key_id, aws_secret_access_key):\n",
    "    \"\"\"Function that writes a data frame as a .csv file to a s3 bucket\"\"\"\n",
    "\n",
    "    csv_buffer = StringIO()  # create buffer to temporarily store the Data Frame\n",
    "\n",
    "    df.to_csv(csv_buffer, index=False)  # code to write the data frame as csv file\n",
    "\n",
    "    s3_client = connect_to_s3(aws_access_key_id, aws_secret_access_key)\n",
    "\n",
    "    s3_client.put_object(\n",
    "        Bucket=s3_bucket, Key=key, Body=csv_buffer.getvalue()\n",
    "    )  # this code writes the temp stored csv file and writes to s3\n",
    "\n",
    "    print(f\"The transformed data is saved as CSV in the following location s3://{s3_bucket}/{key}\")"
   ]
  },
  {
   "cell_type": "code",
   "execution_count": 148,
   "id": "b846da69",
   "metadata": {},
   "outputs": [
    {
     "name": "stdout",
     "output_type": "stream",
     "text": [
      "Connection to s3 made\n"
     ]
    },
    {
     "data": {
      "text/plain": [
       "<botocore.client.S3 at 0x190cbc6d0>"
      ]
     },
     "execution_count": 148,
     "metadata": {},
     "output_type": "execute_result"
    }
   ],
   "source": [
    "connect_to_s3(AWS_ACCESS_KEY_ID, AWS_SECRET_ACCESS_KEY)"
   ]
  },
  {
   "cell_type": "code",
   "execution_count": 149,
   "id": "bb34f4e7",
   "metadata": {},
   "outputs": [
    {
     "name": "stdout",
     "output_type": "stream",
     "text": [
      "Connection to s3 made\n",
      "The transformed data is saved as CSV in the following location s3://waia-data-dump/bootcamp2/transformations/sh_online_trans_cleaned.csv\n"
     ]
    }
   ],
   "source": [
    "key = \"bootcamp2/transformations/sh_online_trans_cleaned.csv\"\n",
    "\n",
    "df_to_s3(online_trans_cleaned, key, AWS_S3_BUCKET, AWS_ACCESS_KEY_ID, AWS_SECRET_ACCESS_KEY)"
   ]
  }
 ],
 "metadata": {
  "kernelspec": {
   "display_name": "Python 3 (ipykernel)",
   "language": "python",
   "name": "python3"
  },
  "language_info": {
   "codemirror_mode": {
    "name": "ipython",
    "version": 3
   },
   "file_extension": ".py",
   "mimetype": "text/x-python",
   "name": "python",
   "nbconvert_exporter": "python",
   "pygments_lexer": "ipython3",
   "version": "3.11.3"
  }
 },
 "nbformat": 4,
 "nbformat_minor": 5
}
