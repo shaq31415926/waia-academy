{
 "cells": [
  {
   "cell_type": "code",
   "execution_count": 2,
   "id": "bcf038b9",
   "metadata": {},
   "outputs": [
    {
     "name": "stdout",
     "output_type": "stream",
     "text": [
      "Hello World\n"
     ]
    }
   ],
   "source": [
    "# if else statement\n",
    "# where a > b print hello world\n",
    "\n",
    "a = 100\n",
    "b = 50\n",
    "\n",
    "if a > b:\n",
    "    # if a is greater than b print hello world\n",
    "    print(\"Hello World\")\n",
    "elif a == b:\n",
    "    # if a equals b than print a is equal to b\n",
    "    print(\"a is equal to b\")\n",
    "else:\n",
    "    # else print a has to be greater than b\n",
    "    print(\"a has to be greater than b\")"
   ]
  },
  {
   "cell_type": "code",
   "execution_count": null,
   "id": "1f12b4d2",
   "metadata": {},
   "outputs": [],
   "source": [
    "# if a > b and c > a then print hello world\n",
    "\n",
    "a = 200\n",
    "b = 33\n",
    "c = 500\n",
    "\n",
    "if a > b and c > a:\n",
    "    print(\"Hello World!\")"
   ]
  },
  {
   "cell_type": "code",
   "execution_count": 12,
   "id": "3a6617d2",
   "metadata": {},
   "outputs": [],
   "source": [
    "# if b > a ignore the condition and return nothing\n",
    "\n",
    "a = 33\n",
    "b = 200\n",
    "\n",
    "if b > a:\n",
    "    pass"
   ]
  },
  {
   "cell_type": "code",
   "execution_count": 11,
   "id": "0a9fa5ba",
   "metadata": {},
   "outputs": [
    {
     "name": "stdout",
     "output_type": "stream",
     "text": [
      "x is less than 10\n"
     ]
    }
   ],
   "source": [
    "# nested if statements\n",
    "\n",
    "x = 41\n",
    "\n",
    "if x > 10:\n",
    "    print(\"The variable is above ten\")\n",
    "    if x > 20:\n",
    "        print(\"The variable is also above 20!\")\n",
    "    else:\n",
    "        print(\"The variable is not above 20!\")"
   ]
  },
  {
   "cell_type": "code",
   "execution_count": 13,
   "id": "8fc2e413",
   "metadata": {},
   "outputs": [
    {
     "name": "stdout",
     "output_type": "stream",
     "text": [
      "The variable is above ten\n",
      "The variable is not above 20!\n"
     ]
    }
   ],
   "source": [
    "x = 11\n",
    "\n",
    "if x > 10:\n",
    "    print(\"The variable is above ten\")\n",
    "    if x > 20:\n",
    "        print(\"The variable is also above 20!\")\n",
    "    else:\n",
    "        print(\"The variable is not above 20!\")"
   ]
  },
  {
   "cell_type": "code",
   "execution_count": 15,
   "id": "7cf195f1",
   "metadata": {},
   "outputs": [
    {
     "name": "stdout",
     "output_type": "stream",
     "text": [
      "The variable is ten or below\n"
     ]
    }
   ],
   "source": [
    "x = 10\n",
    "\n",
    "if x > 10:\n",
    "    print(\"The variable is above ten\")\n",
    "    if x > 20:\n",
    "        print(\"The variable is also above 20!\")\n",
    "    else:\n",
    "        print(\"The variable is not above 20!\")\n",
    "else:\n",
    "    print(\"The variable is ten or below\")"
   ]
  }
 ],
 "metadata": {
  "kernelspec": {
   "display_name": "Python 3 (ipykernel)",
   "language": "python",
   "name": "python3"
  },
  "language_info": {
   "codemirror_mode": {
    "name": "ipython",
    "version": 3
   },
   "file_extension": ".py",
   "mimetype": "text/x-python",
   "name": "python",
   "nbconvert_exporter": "python",
   "pygments_lexer": "ipython3",
   "version": "3.11.3"
  }
 },
 "nbformat": 4,
 "nbformat_minor": 5
}
