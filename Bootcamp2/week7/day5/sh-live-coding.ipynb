{
 "cells": [
  {
   "cell_type": "code",
   "execution_count": null,
   "id": "0080725d",
   "metadata": {},
   "outputs": [
    {
     "name": "stdout",
     "output_type": "stream",
     "text": [
      "1\n",
      "2\n"
     ]
    }
   ],
   "source": [
    "i = 1\n",
    "\n",
    "while i < 6:\n",
    "    if i == 3:\n",
    "        continue\n",
    "    print(i)\n",
    "    i += 1"
   ]
  },
  {
   "cell_type": "code",
   "execution_count": null,
   "id": "ee5c0714",
   "metadata": {},
   "outputs": [],
   "source": [
    "for letter in \"banana\":\n",
    "    if letter == \"n\":\n",
    "        continue\n",
    "    print(letter)"
   ]
  },
  {
   "cell_type": "code",
   "execution_count": null,
   "id": "0bb0469c",
   "metadata": {},
   "outputs": [],
   "source": [
    "range(6)"
   ]
  },
  {
   "cell_type": "code",
   "execution_count": null,
   "id": "0a739b83",
   "metadata": {},
   "outputs": [],
   "source": [
    "for numbers in range(1):\n",
    "    print(numbers)"
   ]
  },
  {
   "cell_type": "code",
   "execution_count": null,
   "id": "7ed63122",
   "metadata": {
    "scrolled": true
   },
   "outputs": [],
   "source": [
    "adj = [\"red\", \"big\", \"tasty\"]\n",
    "fruits = [\"apple\", \"banana\", \"cherry\"] \n",
    "\n",
    "for word in adj:\n",
    "    for f in fruits:\n",
    "        print(word, f)\n",
    "    print(\"---\")"
   ]
  },
  {
   "cell_type": "code",
   "execution_count": null,
   "id": "3f63ddb4",
   "metadata": {},
   "outputs": [],
   "source": [
    "# calculate the bmi for every person in the bmi list\n",
    "\n",
    "bmi_list = [18, 45, 23]\n",
    "\n",
    "for bmi in bmi_list:\n",
    "    print(f\"The BMI is {bmi}\")\n",
    "    if bmi < 18.5:\n",
    "        print(\"The person is underweight\")\n",
    "    elif bmi >= 18.5 and bmi < 25:\n",
    "        print(\"The person is considered healthy\")\n",
    "    elif bmi >= 25 and bmi < 30:\n",
    "        print(\"The person is considered overweight\")\n",
    "    else:\n",
    "        print(\"The person should consider visiting a doctor\")\n",
    "    print(\"---\")"
   ]
  },
  {
   "cell_type": "code",
   "execution_count": null,
   "id": "df21d6dd",
   "metadata": {},
   "outputs": [],
   "source": [
    "# calculate the bmi for every person in the height and weight lust\n",
    "\n",
    "height = [1.21, 1.68, 1.71, 1.89, 1.79]\n",
    "weight = [65.4, 49.2, 103.6, 55.4, 188.7]\n",
    "\n",
    "for h, w in zip(height, weight):\n",
    "    print(f\"The height of the person is {h} and the weight is {w}\")\n",
    "    bmi = w/h**2\n",
    "    print(f\"The BMI is {bmi}\")\n",
    "    if bmi < 18.5:\n",
    "        print(\"The person is underweight\")\n",
    "    elif bmi >= 18.5 and bmi < 25:\n",
    "        print(\"The person is considered healthy\")\n",
    "    elif bmi >= 25 and bmi < 30:\n",
    "        print(\"The person is considered overweight\")\n",
    "    else:\n",
    "        print(\"The person should consider visiting a doctor\")\n",
    "    print(\"---\")"
   ]
  },
  {
   "cell_type": "code",
   "execution_count": null,
   "id": "7496d748",
   "metadata": {},
   "outputs": [],
   "source": [
    "def bmi_cal(bmi):\n",
    "    if bmi < 18.5:\n",
    "        print(\"The person is underweight\")\n",
    "    elif bmi >= 18.5 and bmi < 25:\n",
    "        print(\"The person is considered healthy\")\n",
    "    elif bmi >= 25 and bmi < 30:\n",
    "        print(\"The person is considered overweight\")\n",
    "    else:\n",
    "        print(\"The person should consider visiting a doctor\")"
   ]
  },
  {
   "cell_type": "code",
   "execution_count": null,
   "id": "f0701d40",
   "metadata": {},
   "outputs": [],
   "source": [
    "for bmi in bmi_list:\n",
    "    print(f\"The BMI is {bmi}\")\n",
    "    bmi_cal(bmi)\n",
    "    print(\"---\")"
   ]
  },
  {
   "cell_type": "code",
   "execution_count": null,
   "id": "e3e10165",
   "metadata": {},
   "outputs": [],
   "source": [
    "test_list_orig = [0]\n",
    "test_list = test_list_orig\n",
    "\n",
    "for i in test_list_orig:\n",
    "    new = test_list[-1] + 1 \n",
    "    test_list.append(new)"
   ]
  },
  {
   "cell_type": "code",
   "execution_count": null,
   "id": "f0907718",
   "metadata": {},
   "outputs": [],
   "source": [
    "test_list"
   ]
  },
  {
   "cell_type": "code",
   "execution_count": null,
   "id": "61b2358d",
   "metadata": {},
   "outputs": [],
   "source": [
    "test_list"
   ]
  },
  {
   "cell_type": "code",
   "execution_count": null,
   "id": "a0934c05",
   "metadata": {},
   "outputs": [],
   "source": []
  }
 ],
 "metadata": {
  "kernelspec": {
   "display_name": "Python 3 (ipykernel)",
   "language": "python",
   "name": "python3"
  },
  "language_info": {
   "codemirror_mode": {
    "name": "ipython",
    "version": 3
   },
   "file_extension": ".py",
   "mimetype": "text/x-python",
   "name": "python",
   "nbconvert_exporter": "python",
   "pygments_lexer": "ipython3",
   "version": "3.11.3"
  }
 },
 "nbformat": 4,
 "nbformat_minor": 5
}
