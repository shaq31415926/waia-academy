{
 "cells": [
  {
   "cell_type": "markdown",
   "id": "c5ec7f17",
   "metadata": {},
   "source": [
    "Transformation Tasks\n",
    "- Identifying and handling duplicated data\n",
    "- Identifying and handling missing values\n",
    "- Identifying and handling outliers\n",
    "\n",
    "Loading Taks\n",
    "- Load data locally"
   ]
  },
  {
   "cell_type": "code",
   "execution_count": 1,
   "id": "66ccdb4c",
   "metadata": {},
   "outputs": [],
   "source": [
    "# libraries we need for today\n",
    "\n",
    "import pandas as pd\n",
    "import numpy as np\n",
    "\n",
    "import seaborn as sns\n",
    "import matplotlib.pyplot as plt\n",
    "\n",
    "import boto3\n",
    "from io import StringIO, BytesIO"
   ]
  },
  {
   "cell_type": "code",
   "execution_count": 2,
   "id": "ed9df5ef",
   "metadata": {},
   "outputs": [
    {
     "data": {
      "text/html": [
       "<div>\n",
       "<style scoped>\n",
       "    .dataframe tbody tr th:only-of-type {\n",
       "        vertical-align: middle;\n",
       "    }\n",
       "\n",
       "    .dataframe tbody tr th {\n",
       "        vertical-align: top;\n",
       "    }\n",
       "\n",
       "    .dataframe thead th {\n",
       "        text-align: right;\n",
       "    }\n",
       "</style>\n",
       "<table border=\"1\" class=\"dataframe\">\n",
       "  <thead>\n",
       "    <tr style=\"text-align: right;\">\n",
       "      <th></th>\n",
       "      <th>user_id</th>\n",
       "      <th>number_transactions</th>\n",
       "      <th>total_amount_usd</th>\n",
       "      <th>age</th>\n",
       "      <th>job</th>\n",
       "      <th>marital</th>\n",
       "      <th>education</th>\n",
       "      <th>default</th>\n",
       "      <th>housing</th>\n",
       "      <th>loan</th>\n",
       "      <th>contact</th>\n",
       "      <th>duration</th>\n",
       "      <th>campaign</th>\n",
       "      <th>pdays</th>\n",
       "      <th>previous</th>\n",
       "      <th>poutcome</th>\n",
       "      <th>term_deposit</th>\n",
       "      <th>date_joined</th>\n",
       "      <th>device</th>\n",
       "    </tr>\n",
       "  </thead>\n",
       "  <tbody>\n",
       "    <tr>\n",
       "      <th>0</th>\n",
       "      <td>9231c446-cb16-4b2b-a7f7-ddfc8b25aaf6</td>\n",
       "      <td>3.0</td>\n",
       "      <td>2143.0</td>\n",
       "      <td>58</td>\n",
       "      <td>management</td>\n",
       "      <td>married</td>\n",
       "      <td>tertiary</td>\n",
       "      <td>False</td>\n",
       "      <td>True</td>\n",
       "      <td>False</td>\n",
       "      <td>None</td>\n",
       "      <td>261</td>\n",
       "      <td>1</td>\n",
       "      <td>-1</td>\n",
       "      <td>0</td>\n",
       "      <td>None</td>\n",
       "      <td>False</td>\n",
       "      <td>1998-08-23</td>\n",
       "      <td>mobile</td>\n",
       "    </tr>\n",
       "    <tr>\n",
       "      <th>1</th>\n",
       "      <td>bb92765a-08de-4963-b432-496524b39157</td>\n",
       "      <td>NaN</td>\n",
       "      <td>NaN</td>\n",
       "      <td>44</td>\n",
       "      <td>technician</td>\n",
       "      <td>single</td>\n",
       "      <td>secondary</td>\n",
       "      <td>False</td>\n",
       "      <td>True</td>\n",
       "      <td>False</td>\n",
       "      <td>None</td>\n",
       "      <td>151</td>\n",
       "      <td>1</td>\n",
       "      <td>-1</td>\n",
       "      <td>0</td>\n",
       "      <td>None</td>\n",
       "      <td>False</td>\n",
       "      <td>2008-07-15</td>\n",
       "      <td>desktop</td>\n",
       "    </tr>\n",
       "    <tr>\n",
       "      <th>2</th>\n",
       "      <td>573de577-49ef-42b9-83da-d3cfb817b5c1</td>\n",
       "      <td>2.0</td>\n",
       "      <td>2.0</td>\n",
       "      <td>33</td>\n",
       "      <td>entrepreneur</td>\n",
       "      <td>married</td>\n",
       "      <td>secondary</td>\n",
       "      <td>False</td>\n",
       "      <td>True</td>\n",
       "      <td>True</td>\n",
       "      <td>None</td>\n",
       "      <td>76</td>\n",
       "      <td>1</td>\n",
       "      <td>-1</td>\n",
       "      <td>0</td>\n",
       "      <td>None</td>\n",
       "      <td>False</td>\n",
       "      <td>2002-06-04</td>\n",
       "      <td>mobile</td>\n",
       "    </tr>\n",
       "    <tr>\n",
       "      <th>3</th>\n",
       "      <td>d6b66b9d-7c8f-4257-a682-e136f640b7e3</td>\n",
       "      <td>NaN</td>\n",
       "      <td>NaN</td>\n",
       "      <td>47</td>\n",
       "      <td>blue-collar</td>\n",
       "      <td>married</td>\n",
       "      <td>None</td>\n",
       "      <td>False</td>\n",
       "      <td>True</td>\n",
       "      <td>False</td>\n",
       "      <td>None</td>\n",
       "      <td>92</td>\n",
       "      <td>1</td>\n",
       "      <td>-1</td>\n",
       "      <td>0</td>\n",
       "      <td>None</td>\n",
       "      <td>False</td>\n",
       "      <td>1995-06-29</td>\n",
       "      <td>tablet</td>\n",
       "    </tr>\n",
       "    <tr>\n",
       "      <th>4</th>\n",
       "      <td>fade0b20-7594-4d9a-84cd-c02f79b1b526</td>\n",
       "      <td>1.0</td>\n",
       "      <td>1.0</td>\n",
       "      <td>33</td>\n",
       "      <td>None</td>\n",
       "      <td>single</td>\n",
       "      <td>None</td>\n",
       "      <td>False</td>\n",
       "      <td>False</td>\n",
       "      <td>False</td>\n",
       "      <td>None</td>\n",
       "      <td>198</td>\n",
       "      <td>1</td>\n",
       "      <td>-1</td>\n",
       "      <td>0</td>\n",
       "      <td>None</td>\n",
       "      <td>False</td>\n",
       "      <td>1995-08-01</td>\n",
       "      <td>mobile</td>\n",
       "    </tr>\n",
       "  </tbody>\n",
       "</table>\n",
       "</div>"
      ],
      "text/plain": [
       "                                user_id  number_transactions  \\\n",
       "0  9231c446-cb16-4b2b-a7f7-ddfc8b25aaf6                  3.0   \n",
       "1  bb92765a-08de-4963-b432-496524b39157                  NaN   \n",
       "2  573de577-49ef-42b9-83da-d3cfb817b5c1                  2.0   \n",
       "3  d6b66b9d-7c8f-4257-a682-e136f640b7e3                  NaN   \n",
       "4  fade0b20-7594-4d9a-84cd-c02f79b1b526                  1.0   \n",
       "\n",
       "   total_amount_usd  age           job  marital  education  default  housing  \\\n",
       "0            2143.0   58    management  married   tertiary    False     True   \n",
       "1               NaN   44    technician   single  secondary    False     True   \n",
       "2               2.0   33  entrepreneur  married  secondary    False     True   \n",
       "3               NaN   47   blue-collar  married       None    False     True   \n",
       "4               1.0   33          None   single       None    False    False   \n",
       "\n",
       "    loan contact  duration  campaign  pdays  previous poutcome  term_deposit  \\\n",
       "0  False    None       261         1     -1         0     None         False   \n",
       "1  False    None       151         1     -1         0     None         False   \n",
       "2   True    None        76         1     -1         0     None         False   \n",
       "3  False    None        92         1     -1         0     None         False   \n",
       "4  False    None       198         1     -1         0     None         False   \n",
       "\n",
       "  date_joined   device  \n",
       "0  1998-08-23   mobile  \n",
       "1  2008-07-15  desktop  \n",
       "2  2002-06-04   mobile  \n",
       "3  1995-06-29   tablet  \n",
       "4  1995-08-01   mobile  "
      ]
     },
     "execution_count": 2,
     "metadata": {},
     "output_type": "execute_result"
    }
   ],
   "source": [
    "# read the data\n",
    "\n",
    "users_data = pd.read_pickle(\"../data/users_data_final.pkl\")\n",
    "users_data.head()"
   ]
  },
  {
   "cell_type": "code",
   "execution_count": 3,
   "id": "dd80c68f",
   "metadata": {},
   "outputs": [
    {
     "name": "stdout",
     "output_type": "stream",
     "text": [
      "<class 'pandas.core.frame.DataFrame'>\n",
      "Int64Index: 45209 entries, 0 to 45215\n",
      "Data columns (total 19 columns):\n",
      " #   Column               Non-Null Count  Dtype         \n",
      "---  ------               --------------  -----         \n",
      " 0   user_id              45209 non-null  object        \n",
      " 1   number_transactions  35210 non-null  float64       \n",
      " 2   total_amount_usd     35210 non-null  float64       \n",
      " 3   age                  45209 non-null  int64         \n",
      " 4   job                  44921 non-null  object        \n",
      " 5   marital              45209 non-null  object        \n",
      " 6   education            43352 non-null  object        \n",
      " 7   default              45209 non-null  bool          \n",
      " 8   housing              45209 non-null  bool          \n",
      " 9   loan                 45209 non-null  bool          \n",
      " 10  contact              32191 non-null  object        \n",
      " 11  duration             45209 non-null  int64         \n",
      " 12  campaign             45209 non-null  int64         \n",
      " 13  pdays                45209 non-null  int64         \n",
      " 14  previous             45209 non-null  int64         \n",
      " 15  poutcome             8252 non-null   object        \n",
      " 16  term_deposit         45209 non-null  bool          \n",
      " 17  date_joined          45179 non-null  datetime64[ns]\n",
      " 18  device               45115 non-null  object        \n",
      "dtypes: bool(4), datetime64[ns](1), float64(2), int64(5), object(7)\n",
      "memory usage: 5.7+ MB\n"
     ]
    }
   ],
   "source": [
    "# summary of the data\n",
    "\n",
    "users_data.info()"
   ]
  },
  {
   "cell_type": "code",
   "execution_count": 4,
   "id": "80aa5352",
   "metadata": {},
   "outputs": [
    {
     "name": "stdout",
     "output_type": "stream",
     "text": [
      "# of numerical variables: 11\n"
     ]
    }
   ],
   "source": [
    "# number of numerical variables\n",
    "print(\"# of numerical variables:\",\n",
    "      len(users_data.select_dtypes(['float64', 'int64', 'bool']).columns))\n"
   ]
  },
  {
   "cell_type": "code",
   "execution_count": 5,
   "id": "5e4ff576",
   "metadata": {},
   "outputs": [
    {
     "name": "stdout",
     "output_type": "stream",
     "text": [
      "# of variables with data type object: 7\n"
     ]
    }
   ],
   "source": [
    "# number of variables with data type object\n",
    "\n",
    "print(\"# of variables with data type object:\",\n",
    "      len(users_data.select_dtypes(['object']).columns))\n"
   ]
  },
  {
   "cell_type": "markdown",
   "id": "801b3622",
   "metadata": {},
   "source": [
    "### Identifying and Removing duplicate rows"
   ]
  },
  {
   "cell_type": "code",
   "execution_count": 6,
   "id": "8b0751d2",
   "metadata": {},
   "outputs": [
    {
     "data": {
      "text/html": [
       "<div>\n",
       "<style scoped>\n",
       "    .dataframe tbody tr th:only-of-type {\n",
       "        vertical-align: middle;\n",
       "    }\n",
       "\n",
       "    .dataframe tbody tr th {\n",
       "        vertical-align: top;\n",
       "    }\n",
       "\n",
       "    .dataframe thead th {\n",
       "        text-align: right;\n",
       "    }\n",
       "</style>\n",
       "<table border=\"1\" class=\"dataframe\">\n",
       "  <thead>\n",
       "    <tr style=\"text-align: right;\">\n",
       "      <th></th>\n",
       "      <th>user_id</th>\n",
       "      <th>number_transactions</th>\n",
       "      <th>total_amount_usd</th>\n",
       "      <th>age</th>\n",
       "      <th>job</th>\n",
       "      <th>marital</th>\n",
       "      <th>education</th>\n",
       "      <th>default</th>\n",
       "      <th>housing</th>\n",
       "      <th>loan</th>\n",
       "      <th>contact</th>\n",
       "      <th>duration</th>\n",
       "      <th>campaign</th>\n",
       "      <th>pdays</th>\n",
       "      <th>previous</th>\n",
       "      <th>poutcome</th>\n",
       "      <th>term_deposit</th>\n",
       "      <th>date_joined</th>\n",
       "      <th>device</th>\n",
       "    </tr>\n",
       "  </thead>\n",
       "  <tbody>\n",
       "  </tbody>\n",
       "</table>\n",
       "</div>"
      ],
      "text/plain": [
       "Empty DataFrame\n",
       "Columns: [user_id, number_transactions, total_amount_usd, age, job, marital, education, default, housing, loan, contact, duration, campaign, pdays, previous, poutcome, term_deposit, date_joined, device]\n",
       "Index: []"
      ]
     },
     "execution_count": 6,
     "metadata": {},
     "output_type": "execute_result"
    }
   ],
   "source": [
    "# Code to identify duplicated rows of data\n",
    "\n",
    "users_data[users_data.duplicated()]\n",
    "\n",
    "# empty data frame, so currently there is no duplicated data"
   ]
  },
  {
   "cell_type": "code",
   "execution_count": 7,
   "id": "6cd7cd88",
   "metadata": {},
   "outputs": [
    {
     "data": {
      "text/plain": [
       "0"
      ]
     },
     "execution_count": 7,
     "metadata": {},
     "output_type": "execute_result"
    }
   ],
   "source": [
    "users_data.duplicated().sum()"
   ]
  },
  {
   "cell_type": "markdown",
   "id": "b10f488a",
   "metadata": {},
   "source": [
    "### Identifying and Handling Missing Data"
   ]
  },
  {
   "cell_type": "code",
   "execution_count": 8,
   "id": "e6285c3a",
   "metadata": {},
   "outputs": [
    {
     "data": {
      "text/plain": [
       "user_id                    0\n",
       "number_transactions     9999\n",
       "total_amount_usd        9999\n",
       "age                        0\n",
       "job                      288\n",
       "marital                    0\n",
       "education               1857\n",
       "default                    0\n",
       "housing                    0\n",
       "loan                       0\n",
       "contact                13018\n",
       "duration                   0\n",
       "campaign                   0\n",
       "pdays                      0\n",
       "previous                   0\n",
       "poutcome               36957\n",
       "term_deposit               0\n",
       "date_joined               30\n",
       "device                    94\n",
       "dtype: int64"
      ]
     },
     "execution_count": 8,
     "metadata": {},
     "output_type": "execute_result"
    }
   ],
   "source": [
    "# lets take this code up a level\n",
    "\n",
    "users_data.isnull().sum()"
   ]
  },
  {
   "cell_type": "code",
   "execution_count": 9,
   "id": "0373235e",
   "metadata": {},
   "outputs": [],
   "source": [
    "def identify_missing_data(df):\n",
    "    \"\"\"\n",
    "    This function is used to identify missing data\n",
    "    \n",
    "    @param df pandas DataFrame\n",
    "    \n",
    "    @return a DataFrame with the percentage of missing data for every feature and the data types\n",
    "    \"\"\"\n",
    "    \n",
    "    percent_missing = df.isnull().mean()\n",
    "    \n",
    "    missing_value_df = pd.DataFrame(percent_missing).reset_index() # convert to DataFrame\n",
    "    missing_value_df = missing_value_df.rename(columns = {\"index\" : \"variable\",\n",
    "                                                                0 : \"percent_missing\"}) # rename columns\n",
    "\n",
    "    missing_value_df = missing_value_df.sort_values(by = ['percent_missing'], ascending = False) # sort the values\n",
    "    \n",
    "    data_types_df = pd.DataFrame(df.dtypes).reset_index().rename(columns = {\"index\" : \"variable\",\n",
    "                                                                0 : \"data_type\"}) # rename columns\n",
    "    \n",
    "    missing_value_df = missing_value_df.merge(data_types_df, on = \"variable\") # join the dataframe with datatype\n",
    "    \n",
    "    missing_value_df.percent_missing = round(missing_value_df.percent_missing*100, 2) # format the percent_missing\n",
    "    \n",
    "    return missing_value_df[missing_value_df.percent_missing > 0]"
   ]
  },
  {
   "cell_type": "code",
   "execution_count": 10,
   "id": "9c651de4",
   "metadata": {},
   "outputs": [
    {
     "data": {
      "text/html": [
       "<div>\n",
       "<style scoped>\n",
       "    .dataframe tbody tr th:only-of-type {\n",
       "        vertical-align: middle;\n",
       "    }\n",
       "\n",
       "    .dataframe tbody tr th {\n",
       "        vertical-align: top;\n",
       "    }\n",
       "\n",
       "    .dataframe thead th {\n",
       "        text-align: right;\n",
       "    }\n",
       "</style>\n",
       "<table border=\"1\" class=\"dataframe\">\n",
       "  <thead>\n",
       "    <tr style=\"text-align: right;\">\n",
       "      <th></th>\n",
       "      <th>variable</th>\n",
       "      <th>percent_missing</th>\n",
       "      <th>data_type</th>\n",
       "    </tr>\n",
       "  </thead>\n",
       "  <tbody>\n",
       "    <tr>\n",
       "      <th>0</th>\n",
       "      <td>poutcome</td>\n",
       "      <td>81.75</td>\n",
       "      <td>object</td>\n",
       "    </tr>\n",
       "    <tr>\n",
       "      <th>1</th>\n",
       "      <td>contact</td>\n",
       "      <td>28.80</td>\n",
       "      <td>object</td>\n",
       "    </tr>\n",
       "    <tr>\n",
       "      <th>2</th>\n",
       "      <td>total_amount_usd</td>\n",
       "      <td>22.12</td>\n",
       "      <td>float64</td>\n",
       "    </tr>\n",
       "    <tr>\n",
       "      <th>3</th>\n",
       "      <td>number_transactions</td>\n",
       "      <td>22.12</td>\n",
       "      <td>float64</td>\n",
       "    </tr>\n",
       "    <tr>\n",
       "      <th>4</th>\n",
       "      <td>education</td>\n",
       "      <td>4.11</td>\n",
       "      <td>object</td>\n",
       "    </tr>\n",
       "    <tr>\n",
       "      <th>5</th>\n",
       "      <td>job</td>\n",
       "      <td>0.64</td>\n",
       "      <td>object</td>\n",
       "    </tr>\n",
       "    <tr>\n",
       "      <th>6</th>\n",
       "      <td>device</td>\n",
       "      <td>0.21</td>\n",
       "      <td>object</td>\n",
       "    </tr>\n",
       "    <tr>\n",
       "      <th>7</th>\n",
       "      <td>date_joined</td>\n",
       "      <td>0.07</td>\n",
       "      <td>datetime64[ns]</td>\n",
       "    </tr>\n",
       "  </tbody>\n",
       "</table>\n",
       "</div>"
      ],
      "text/plain": [
       "              variable  percent_missing       data_type\n",
       "0             poutcome            81.75          object\n",
       "1              contact            28.80          object\n",
       "2     total_amount_usd            22.12         float64\n",
       "3  number_transactions            22.12         float64\n",
       "4            education             4.11          object\n",
       "5                  job             0.64          object\n",
       "6               device             0.21          object\n",
       "7          date_joined             0.07  datetime64[ns]"
      ]
     },
     "execution_count": 10,
     "metadata": {},
     "output_type": "execute_result"
    }
   ],
   "source": [
    "# the function gives all variables with missing values , the data type and how much data is missing \n",
    "\n",
    "missing_df = identify_missing_data(users_data)\n",
    "missing_df"
   ]
  },
  {
   "cell_type": "code",
   "execution_count": 11,
   "id": "cbf4036a",
   "metadata": {},
   "outputs": [
    {
     "name": "stdout",
     "output_type": "stream",
     "text": [
      "# of variables with missing values 8\n"
     ]
    }
   ],
   "source": [
    "print(\"# of variables with missing values\", len(missing_df.variable))"
   ]
  },
  {
   "cell_type": "code",
   "execution_count": 12,
   "id": "b438e17b",
   "metadata": {},
   "outputs": [
    {
     "name": "stdout",
     "output_type": "stream",
     "text": [
      "number of variables with more than 70% missing data: 1\n"
     ]
    }
   ],
   "source": [
    "# number of variables with more than 70% missing data\n",
    "\n",
    "print(\"number of variables with more than 70% missing data:\",\n",
    "      len(missing_df[missing_df.percent_missing > 70].variable))\n"
   ]
  },
  {
   "cell_type": "code",
   "execution_count": 13,
   "id": "cb5c6001",
   "metadata": {},
   "outputs": [
    {
     "name": "stdout",
     "output_type": "stream",
     "text": [
      "# of numerical variables with missing values: 2\n"
     ]
    }
   ],
   "source": [
    "print(\"# of numerical variables with missing values:\", \n",
    "      len(missing_df[(missing_df.data_type == \"float64\")].variable))\n"
   ]
  },
  {
   "cell_type": "code",
   "execution_count": 14,
   "id": "95693a40",
   "metadata": {},
   "outputs": [
    {
     "name": "stdout",
     "output_type": "stream",
     "text": [
      "# of non numerical variables with missing values: 6\n"
     ]
    }
   ],
   "source": [
    "print(\"# of non numerical variables with missing values:\", \n",
    "      len(missing_df[(missing_df.data_type == \"object\") | \n",
    "         (missing_df.data_type == \"datetime64[ns]\")].variable))\n"
   ]
  },
  {
   "cell_type": "code",
   "execution_count": 15,
   "id": "395b873d",
   "metadata": {},
   "outputs": [],
   "source": [
    "# drop columns that have more than 70% missing data\n",
    "\n",
    "col_to_drop = list(missing_df[missing_df.percent_missing > 70].variable)\n",
    "users_data_cleaned = users_data.drop(col_to_drop, axis = 1)"
   ]
  },
  {
   "cell_type": "code",
   "execution_count": 16,
   "id": "e7e84e50",
   "metadata": {},
   "outputs": [
    {
     "data": {
      "text/html": [
       "<div>\n",
       "<style scoped>\n",
       "    .dataframe tbody tr th:only-of-type {\n",
       "        vertical-align: middle;\n",
       "    }\n",
       "\n",
       "    .dataframe tbody tr th {\n",
       "        vertical-align: top;\n",
       "    }\n",
       "\n",
       "    .dataframe thead th {\n",
       "        text-align: right;\n",
       "    }\n",
       "</style>\n",
       "<table border=\"1\" class=\"dataframe\">\n",
       "  <thead>\n",
       "    <tr style=\"text-align: right;\">\n",
       "      <th></th>\n",
       "      <th>variable</th>\n",
       "      <th>percent_missing</th>\n",
       "      <th>data_type</th>\n",
       "    </tr>\n",
       "  </thead>\n",
       "  <tbody>\n",
       "    <tr>\n",
       "      <th>0</th>\n",
       "      <td>contact</td>\n",
       "      <td>28.80</td>\n",
       "      <td>object</td>\n",
       "    </tr>\n",
       "    <tr>\n",
       "      <th>1</th>\n",
       "      <td>total_amount_usd</td>\n",
       "      <td>22.12</td>\n",
       "      <td>float64</td>\n",
       "    </tr>\n",
       "    <tr>\n",
       "      <th>2</th>\n",
       "      <td>number_transactions</td>\n",
       "      <td>22.12</td>\n",
       "      <td>float64</td>\n",
       "    </tr>\n",
       "    <tr>\n",
       "      <th>3</th>\n",
       "      <td>education</td>\n",
       "      <td>4.11</td>\n",
       "      <td>object</td>\n",
       "    </tr>\n",
       "    <tr>\n",
       "      <th>4</th>\n",
       "      <td>job</td>\n",
       "      <td>0.64</td>\n",
       "      <td>object</td>\n",
       "    </tr>\n",
       "    <tr>\n",
       "      <th>5</th>\n",
       "      <td>device</td>\n",
       "      <td>0.21</td>\n",
       "      <td>object</td>\n",
       "    </tr>\n",
       "    <tr>\n",
       "      <th>6</th>\n",
       "      <td>date_joined</td>\n",
       "      <td>0.07</td>\n",
       "      <td>datetime64[ns]</td>\n",
       "    </tr>\n",
       "  </tbody>\n",
       "</table>\n",
       "</div>"
      ],
      "text/plain": [
       "              variable  percent_missing       data_type\n",
       "0              contact            28.80          object\n",
       "1     total_amount_usd            22.12         float64\n",
       "2  number_transactions            22.12         float64\n",
       "3            education             4.11          object\n",
       "4                  job             0.64          object\n",
       "5               device             0.21          object\n",
       "6          date_joined             0.07  datetime64[ns]"
      ]
     },
     "execution_count": 16,
     "metadata": {},
     "output_type": "execute_result"
    }
   ],
   "source": [
    "# check what else needs handling or dropping\n",
    "missing_df = identify_missing_data(users_data_cleaned)\n",
    "missing_df"
   ]
  },
  {
   "cell_type": "code",
   "execution_count": 17,
   "id": "9cb10ee4",
   "metadata": {},
   "outputs": [
    {
     "name": "stdout",
     "output_type": "stream",
     "text": [
      "['contact', 'education', 'job', 'device']\n"
     ]
    }
   ],
   "source": [
    "# identify all non numerical variables and replace with Unknown\n",
    "\n",
    "non_numerical_var = list(missing_df[(missing_df.data_type == \"object\")].variable)\n",
    "print(non_numerical_var)\n",
    "\n",
    "for var in non_numerical_var:\n",
    "    users_data_cleaned[var].fillna(\"Unknown\", inplace = True)"
   ]
  },
  {
   "cell_type": "code",
   "execution_count": 18,
   "id": "d2c1473a",
   "metadata": {},
   "outputs": [
    {
     "data": {
      "text/plain": [
       "cellular     29285\n",
       "Unknown      13018\n",
       "telephone     2906\n",
       "Name: contact, dtype: int64"
      ]
     },
     "execution_count": 18,
     "metadata": {},
     "output_type": "execute_result"
    }
   ],
   "source": [
    "# na is replaced with Unknown\n",
    "\n",
    "users_data_cleaned.contact.value_counts()"
   ]
  },
  {
   "cell_type": "code",
   "execution_count": 19,
   "id": "276c7c14",
   "metadata": {},
   "outputs": [
    {
     "data": {
      "text/html": [
       "<div>\n",
       "<style scoped>\n",
       "    .dataframe tbody tr th:only-of-type {\n",
       "        vertical-align: middle;\n",
       "    }\n",
       "\n",
       "    .dataframe tbody tr th {\n",
       "        vertical-align: top;\n",
       "    }\n",
       "\n",
       "    .dataframe thead th {\n",
       "        text-align: right;\n",
       "    }\n",
       "</style>\n",
       "<table border=\"1\" class=\"dataframe\">\n",
       "  <thead>\n",
       "    <tr style=\"text-align: right;\">\n",
       "      <th></th>\n",
       "      <th>variable</th>\n",
       "      <th>percent_missing</th>\n",
       "      <th>data_type</th>\n",
       "    </tr>\n",
       "  </thead>\n",
       "  <tbody>\n",
       "    <tr>\n",
       "      <th>0</th>\n",
       "      <td>total_amount_usd</td>\n",
       "      <td>22.12</td>\n",
       "      <td>float64</td>\n",
       "    </tr>\n",
       "    <tr>\n",
       "      <th>1</th>\n",
       "      <td>number_transactions</td>\n",
       "      <td>22.12</td>\n",
       "      <td>float64</td>\n",
       "    </tr>\n",
       "    <tr>\n",
       "      <th>2</th>\n",
       "      <td>date_joined</td>\n",
       "      <td>0.07</td>\n",
       "      <td>datetime64[ns]</td>\n",
       "    </tr>\n",
       "  </tbody>\n",
       "</table>\n",
       "</div>"
      ],
      "text/plain": [
       "              variable  percent_missing       data_type\n",
       "0     total_amount_usd            22.12         float64\n",
       "1  number_transactions            22.12         float64\n",
       "2          date_joined             0.07  datetime64[ns]"
      ]
     },
     "execution_count": 19,
     "metadata": {},
     "output_type": "execute_result"
    }
   ],
   "source": [
    "# check we replaced the missing values\n",
    "\n",
    "missing_df = identify_missing_data(users_data_cleaned)\n",
    "missing_df\n"
   ]
  },
  {
   "cell_type": "code",
   "execution_count": 20,
   "id": "74303151",
   "metadata": {},
   "outputs": [
    {
     "name": "stdout",
     "output_type": "stream",
     "text": [
      "['total_amount_usd', 'number_transactions']\n"
     ]
    }
   ],
   "source": [
    "# which features have data type object\n",
    "\n",
    "numerical_var = list(missing_df[(missing_df.data_type == \"float64\")].variable)\n",
    "print(numerical_var)\n",
    "\n",
    "for var in numerical_var:\n",
    "    users_data_cleaned[var].fillna(0, inplace = True)"
   ]
  },
  {
   "cell_type": "code",
   "execution_count": 21,
   "id": "0de4be85",
   "metadata": {},
   "outputs": [
    {
     "data": {
      "text/html": [
       "<div>\n",
       "<style scoped>\n",
       "    .dataframe tbody tr th:only-of-type {\n",
       "        vertical-align: middle;\n",
       "    }\n",
       "\n",
       "    .dataframe tbody tr th {\n",
       "        vertical-align: top;\n",
       "    }\n",
       "\n",
       "    .dataframe thead th {\n",
       "        text-align: right;\n",
       "    }\n",
       "</style>\n",
       "<table border=\"1\" class=\"dataframe\">\n",
       "  <thead>\n",
       "    <tr style=\"text-align: right;\">\n",
       "      <th></th>\n",
       "      <th>variable</th>\n",
       "      <th>percent_missing</th>\n",
       "      <th>data_type</th>\n",
       "    </tr>\n",
       "  </thead>\n",
       "  <tbody>\n",
       "    <tr>\n",
       "      <th>0</th>\n",
       "      <td>date_joined</td>\n",
       "      <td>0.07</td>\n",
       "      <td>datetime64[ns]</td>\n",
       "    </tr>\n",
       "  </tbody>\n",
       "</table>\n",
       "</div>"
      ],
      "text/plain": [
       "      variable  percent_missing       data_type\n",
       "0  date_joined             0.07  datetime64[ns]"
      ]
     },
     "execution_count": 21,
     "metadata": {},
     "output_type": "execute_result"
    }
   ],
   "source": [
    "identify_missing_data(users_data_cleaned)"
   ]
  },
  {
   "cell_type": "code",
   "execution_count": 22,
   "id": "ae16f7fa",
   "metadata": {},
   "outputs": [
    {
     "name": "stdout",
     "output_type": "stream",
     "text": [
      "<class 'pandas.core.frame.DataFrame'>\n",
      "Int64Index: 45209 entries, 0 to 45215\n",
      "Data columns (total 18 columns):\n",
      " #   Column               Non-Null Count  Dtype         \n",
      "---  ------               --------------  -----         \n",
      " 0   user_id              45209 non-null  object        \n",
      " 1   number_transactions  45209 non-null  float64       \n",
      " 2   total_amount_usd     45209 non-null  float64       \n",
      " 3   age                  45209 non-null  int64         \n",
      " 4   job                  45209 non-null  object        \n",
      " 5   marital              45209 non-null  object        \n",
      " 6   education            45209 non-null  object        \n",
      " 7   default              45209 non-null  bool          \n",
      " 8   housing              45209 non-null  bool          \n",
      " 9   loan                 45209 non-null  bool          \n",
      " 10  contact              45209 non-null  object        \n",
      " 11  duration             45209 non-null  int64         \n",
      " 12  campaign             45209 non-null  int64         \n",
      " 13  pdays                45209 non-null  int64         \n",
      " 14  previous             45209 non-null  int64         \n",
      " 15  term_deposit         45209 non-null  bool          \n",
      " 16  date_joined          45179 non-null  datetime64[ns]\n",
      " 17  device               45209 non-null  object        \n",
      "dtypes: bool(4), datetime64[ns](1), float64(2), int64(5), object(6)\n",
      "memory usage: 5.3+ MB\n"
     ]
    }
   ],
   "source": [
    "# check the summary of the data to make sure none of the variables were corrupted\n",
    "\n",
    "users_data_cleaned.info()"
   ]
  },
  {
   "cell_type": "markdown",
   "id": "701e1541",
   "metadata": {},
   "source": [
    "### Identify and Remove Outliers"
   ]
  },
  {
   "cell_type": "code",
   "execution_count": 23,
   "id": "7aa12bad",
   "metadata": {},
   "outputs": [
    {
     "data": {
      "text/html": [
       "<div>\n",
       "<style scoped>\n",
       "    .dataframe tbody tr th:only-of-type {\n",
       "        vertical-align: middle;\n",
       "    }\n",
       "\n",
       "    .dataframe tbody tr th {\n",
       "        vertical-align: top;\n",
       "    }\n",
       "\n",
       "    .dataframe thead th {\n",
       "        text-align: right;\n",
       "    }\n",
       "</style>\n",
       "<table border=\"1\" class=\"dataframe\">\n",
       "  <thead>\n",
       "    <tr style=\"text-align: right;\">\n",
       "      <th></th>\n",
       "      <th>number_transactions</th>\n",
       "      <th>total_amount_usd</th>\n",
       "      <th>age</th>\n",
       "      <th>duration</th>\n",
       "      <th>campaign</th>\n",
       "      <th>pdays</th>\n",
       "      <th>previous</th>\n",
       "    </tr>\n",
       "  </thead>\n",
       "  <tbody>\n",
       "    <tr>\n",
       "      <th>count</th>\n",
       "      <td>45209.000000</td>\n",
       "      <td>45209.000000</td>\n",
       "      <td>45209.000000</td>\n",
       "      <td>45209.000000</td>\n",
       "      <td>45209.000000</td>\n",
       "      <td>45209.000000</td>\n",
       "      <td>45209.000000</td>\n",
       "    </tr>\n",
       "    <tr>\n",
       "      <th>mean</th>\n",
       "      <td>3.097436</td>\n",
       "      <td>1066.539826</td>\n",
       "      <td>40.935853</td>\n",
       "      <td>258.153067</td>\n",
       "      <td>2.763897</td>\n",
       "      <td>40.199651</td>\n",
       "      <td>0.580349</td>\n",
       "    </tr>\n",
       "    <tr>\n",
       "      <th>std</th>\n",
       "      <td>3.749104</td>\n",
       "      <td>2762.588385</td>\n",
       "      <td>10.618653</td>\n",
       "      <td>257.525446</td>\n",
       "      <td>3.098076</td>\n",
       "      <td>100.130586</td>\n",
       "      <td>2.303489</td>\n",
       "    </tr>\n",
       "    <tr>\n",
       "      <th>min</th>\n",
       "      <td>0.000000</td>\n",
       "      <td>-8019.000000</td>\n",
       "      <td>18.000000</td>\n",
       "      <td>0.000000</td>\n",
       "      <td>1.000000</td>\n",
       "      <td>-1.000000</td>\n",
       "      <td>0.000000</td>\n",
       "    </tr>\n",
       "    <tr>\n",
       "      <th>25%</th>\n",
       "      <td>2.000000</td>\n",
       "      <td>0.000000</td>\n",
       "      <td>33.000000</td>\n",
       "      <td>103.000000</td>\n",
       "      <td>1.000000</td>\n",
       "      <td>-1.000000</td>\n",
       "      <td>0.000000</td>\n",
       "    </tr>\n",
       "    <tr>\n",
       "      <th>50%</th>\n",
       "      <td>2.000000</td>\n",
       "      <td>211.000000</td>\n",
       "      <td>39.000000</td>\n",
       "      <td>180.000000</td>\n",
       "      <td>2.000000</td>\n",
       "      <td>-1.000000</td>\n",
       "      <td>0.000000</td>\n",
       "    </tr>\n",
       "    <tr>\n",
       "      <th>75%</th>\n",
       "      <td>3.000000</td>\n",
       "      <td>1022.000000</td>\n",
       "      <td>48.000000</td>\n",
       "      <td>319.000000</td>\n",
       "      <td>3.000000</td>\n",
       "      <td>-1.000000</td>\n",
       "      <td>0.000000</td>\n",
       "    </tr>\n",
       "    <tr>\n",
       "      <th>max</th>\n",
       "      <td>20.000000</td>\n",
       "      <td>102127.000000</td>\n",
       "      <td>95.000000</td>\n",
       "      <td>4918.000000</td>\n",
       "      <td>63.000000</td>\n",
       "      <td>871.000000</td>\n",
       "      <td>275.000000</td>\n",
       "    </tr>\n",
       "  </tbody>\n",
       "</table>\n",
       "</div>"
      ],
      "text/plain": [
       "       number_transactions  total_amount_usd           age      duration  \\\n",
       "count         45209.000000      45209.000000  45209.000000  45209.000000   \n",
       "mean              3.097436       1066.539826     40.935853    258.153067   \n",
       "std               3.749104       2762.588385     10.618653    257.525446   \n",
       "min               0.000000      -8019.000000     18.000000      0.000000   \n",
       "25%               2.000000          0.000000     33.000000    103.000000   \n",
       "50%               2.000000        211.000000     39.000000    180.000000   \n",
       "75%               3.000000       1022.000000     48.000000    319.000000   \n",
       "max              20.000000     102127.000000     95.000000   4918.000000   \n",
       "\n",
       "           campaign         pdays      previous  \n",
       "count  45209.000000  45209.000000  45209.000000  \n",
       "mean       2.763897     40.199651      0.580349  \n",
       "std        3.098076    100.130586      2.303489  \n",
       "min        1.000000     -1.000000      0.000000  \n",
       "25%        1.000000     -1.000000      0.000000  \n",
       "50%        2.000000     -1.000000      0.000000  \n",
       "75%        3.000000     -1.000000      0.000000  \n",
       "max       63.000000    871.000000    275.000000  "
      ]
     },
     "execution_count": 23,
     "metadata": {},
     "output_type": "execute_result"
    }
   ],
   "source": [
    "users_data_cleaned.describe()"
   ]
  },
  {
   "cell_type": "code",
   "execution_count": 24,
   "id": "a43c1349",
   "metadata": {},
   "outputs": [
    {
     "data": {
      "text/plain": [
       "2.0"
      ]
     },
     "execution_count": 24,
     "metadata": {},
     "output_type": "execute_result"
    }
   ],
   "source": [
    "# calculates the 25th percentile\n",
    "\n",
    "q1 = np.percentile(users_data_cleaned.number_transactions, 25)\n",
    "q1"
   ]
  },
  {
   "cell_type": "code",
   "execution_count": 25,
   "id": "ebd074c6",
   "metadata": {},
   "outputs": [
    {
     "data": {
      "text/plain": [
       "3.0"
      ]
     },
     "execution_count": 25,
     "metadata": {},
     "output_type": "execute_result"
    }
   ],
   "source": [
    "# calculates the 75th percentile\n",
    "\n",
    "q3 = np.percentile(users_data_cleaned.number_transactions, 75)\n",
    "q3"
   ]
  },
  {
   "cell_type": "code",
   "execution_count": 26,
   "id": "4d35f4cf",
   "metadata": {},
   "outputs": [
    {
     "data": {
      "text/plain": [
       "1.0"
      ]
     },
     "execution_count": 26,
     "metadata": {},
     "output_type": "execute_result"
    }
   ],
   "source": [
    "# calculates the iqr\n",
    "\n",
    "iqr = q3 - q1\n",
    "iqr"
   ]
  },
  {
   "cell_type": "code",
   "execution_count": 27,
   "id": "26568c19",
   "metadata": {},
   "outputs": [
    {
     "name": "stdout",
     "output_type": "stream",
     "text": [
      "The lower bound is: 0.5\n",
      "The upper bound is: 4.5\n"
     ]
    }
   ],
   "source": [
    "# calculates the lower bound and upper bound\n",
    "\n",
    "lb = q1 - 1.5*iqr\n",
    "ub = q3 + 1.5*iqr\n",
    "\n",
    "print(\"The lower bound is:\",lb)\n",
    "print(\"The upper bound is:\",ub)"
   ]
  },
  {
   "cell_type": "code",
   "execution_count": 28,
   "id": "d01cbb26",
   "metadata": {},
   "outputs": [],
   "source": [
    "def identify_upper_and_lower_bound(df, var):\n",
    "    \"\"\"This definition calculates the outliers of a variable using iqr\n",
    "    \n",
    "    @param df pandas DataFrame\n",
    "    @param var str \n",
    "    \n",
    "    \"\"\"\n",
    "    \n",
    "    q1 = np.percentile(df[var], 25)\n",
    "    q3 = np.percentile(df[var], 75)\n",
    "    iqr = q3 - q1\n",
    "    \n",
    "    ub = q3 + 1.5*iqr\n",
    "    lb = q1 - 1.5*iqr\n",
    "    \n",
    "    print(f\"The upper bound for {var} is:\", ub)\n",
    "    print(f\"The lower bound for {var} is:\", lb)\n",
    "    \n",
    "    return ub, lb"
   ]
  },
  {
   "cell_type": "code",
   "execution_count": 29,
   "id": "00c64716",
   "metadata": {},
   "outputs": [],
   "source": [
    "# TO DO: Check this function works correctly"
   ]
  },
  {
   "cell_type": "code",
   "execution_count": 30,
   "id": "3c5c155d",
   "metadata": {},
   "outputs": [
    {
     "name": "stdout",
     "output_type": "stream",
     "text": [
      "The upper bound for number_transactions is: 4.5\n",
      "The lower bound for number_transactions is: 0.5\n"
     ]
    }
   ],
   "source": [
    "ub, lb = identify_upper_and_lower_bound(users_data_cleaned, \"number_transactions\")"
   ]
  },
  {
   "cell_type": "code",
   "execution_count": 31,
   "id": "572708f0",
   "metadata": {},
   "outputs": [
    {
     "data": {
      "image/png": "[encoded data removed]",
      "text/plain": [
       "<Figure size 432x288 with 1 Axes>"
      ]
     },
     "metadata": {
      "needs_background": "light"
     },
     "output_type": "display_data"
    }
   ],
   "source": [
    "sns.boxplot(x = users_data_cleaned.number_transactions)\n",
    "plt.title(\"Boxplot for the number_transactions\");"
   ]
  },
  {
   "cell_type": "code",
   "execution_count": 32,
   "id": "2d81d25e",
   "metadata": {},
   "outputs": [
    {
     "data": {
      "text/plain": [
       "5776"
      ]
     },
     "execution_count": 32,
     "metadata": {},
     "output_type": "execute_result"
    }
   ],
   "source": [
    "# number of transactions above UB\n",
    "\n",
    "users_data_cleaned[users_data_cleaned.number_transactions > ub].shape[0]"
   ]
  },
  {
   "cell_type": "code",
   "execution_count": 33,
   "id": "c0723148",
   "metadata": {},
   "outputs": [
    {
     "data": {
      "text/plain": [
       "9999"
      ]
     },
     "execution_count": 33,
     "metadata": {},
     "output_type": "execute_result"
    }
   ],
   "source": [
    "# number of transactions below lb\n",
    "\n",
    "users_data_cleaned[users_data_cleaned.number_transactions < lb].shape[0]"
   ]
  },
  {
   "cell_type": "code",
   "execution_count": 34,
   "id": "b7fe758b",
   "metadata": {},
   "outputs": [
    {
     "data": {
      "text/html": [
       "<div>\n",
       "<style scoped>\n",
       "    .dataframe tbody tr th:only-of-type {\n",
       "        vertical-align: middle;\n",
       "    }\n",
       "\n",
       "    .dataframe tbody tr th {\n",
       "        vertical-align: top;\n",
       "    }\n",
       "\n",
       "    .dataframe thead th {\n",
       "        text-align: right;\n",
       "    }\n",
       "</style>\n",
       "<table border=\"1\" class=\"dataframe\">\n",
       "  <thead>\n",
       "    <tr style=\"text-align: right;\">\n",
       "      <th></th>\n",
       "      <th>user_id</th>\n",
       "      <th>number_transactions</th>\n",
       "      <th>total_amount_usd</th>\n",
       "      <th>age</th>\n",
       "      <th>job</th>\n",
       "      <th>marital</th>\n",
       "      <th>education</th>\n",
       "      <th>default</th>\n",
       "      <th>housing</th>\n",
       "      <th>loan</th>\n",
       "      <th>contact</th>\n",
       "      <th>duration</th>\n",
       "      <th>campaign</th>\n",
       "      <th>pdays</th>\n",
       "      <th>previous</th>\n",
       "      <th>term_deposit</th>\n",
       "      <th>date_joined</th>\n",
       "      <th>device</th>\n",
       "    </tr>\n",
       "  </thead>\n",
       "  <tbody>\n",
       "    <tr>\n",
       "      <th>0</th>\n",
       "      <td>9231c446-cb16-4b2b-a7f7-ddfc8b25aaf6</td>\n",
       "      <td>3.0</td>\n",
       "      <td>2143.0</td>\n",
       "      <td>58</td>\n",
       "      <td>management</td>\n",
       "      <td>married</td>\n",
       "      <td>tertiary</td>\n",
       "      <td>False</td>\n",
       "      <td>True</td>\n",
       "      <td>False</td>\n",
       "      <td>Unknown</td>\n",
       "      <td>261</td>\n",
       "      <td>1</td>\n",
       "      <td>-1</td>\n",
       "      <td>0</td>\n",
       "      <td>False</td>\n",
       "      <td>1998-08-23</td>\n",
       "      <td>mobile</td>\n",
       "    </tr>\n",
       "    <tr>\n",
       "      <th>2</th>\n",
       "      <td>573de577-49ef-42b9-83da-d3cfb817b5c1</td>\n",
       "      <td>2.0</td>\n",
       "      <td>2.0</td>\n",
       "      <td>33</td>\n",
       "      <td>entrepreneur</td>\n",
       "      <td>married</td>\n",
       "      <td>secondary</td>\n",
       "      <td>False</td>\n",
       "      <td>True</td>\n",
       "      <td>True</td>\n",
       "      <td>Unknown</td>\n",
       "      <td>76</td>\n",
       "      <td>1</td>\n",
       "      <td>-1</td>\n",
       "      <td>0</td>\n",
       "      <td>False</td>\n",
       "      <td>2002-06-04</td>\n",
       "      <td>mobile</td>\n",
       "    </tr>\n",
       "    <tr>\n",
       "      <th>4</th>\n",
       "      <td>fade0b20-7594-4d9a-84cd-c02f79b1b526</td>\n",
       "      <td>1.0</td>\n",
       "      <td>1.0</td>\n",
       "      <td>33</td>\n",
       "      <td>Unknown</td>\n",
       "      <td>single</td>\n",
       "      <td>Unknown</td>\n",
       "      <td>False</td>\n",
       "      <td>False</td>\n",
       "      <td>False</td>\n",
       "      <td>Unknown</td>\n",
       "      <td>198</td>\n",
       "      <td>1</td>\n",
       "      <td>-1</td>\n",
       "      <td>0</td>\n",
       "      <td>False</td>\n",
       "      <td>1995-08-01</td>\n",
       "      <td>mobile</td>\n",
       "    </tr>\n",
       "    <tr>\n",
       "      <th>5</th>\n",
       "      <td>c6aee0d4-2a86-4bac-827b-c6d33b5933e6</td>\n",
       "      <td>2.0</td>\n",
       "      <td>231.0</td>\n",
       "      <td>35</td>\n",
       "      <td>management</td>\n",
       "      <td>married</td>\n",
       "      <td>tertiary</td>\n",
       "      <td>False</td>\n",
       "      <td>True</td>\n",
       "      <td>False</td>\n",
       "      <td>Unknown</td>\n",
       "      <td>139</td>\n",
       "      <td>1</td>\n",
       "      <td>-1</td>\n",
       "      <td>0</td>\n",
       "      <td>False</td>\n",
       "      <td>2000-06-21</td>\n",
       "      <td>desktop</td>\n",
       "    </tr>\n",
       "    <tr>\n",
       "      <th>6</th>\n",
       "      <td>1fa7d4fb-3e4a-463a-ba4b-08f824945e45</td>\n",
       "      <td>2.0</td>\n",
       "      <td>447.0</td>\n",
       "      <td>28</td>\n",
       "      <td>management</td>\n",
       "      <td>single</td>\n",
       "      <td>tertiary</td>\n",
       "      <td>False</td>\n",
       "      <td>True</td>\n",
       "      <td>True</td>\n",
       "      <td>Unknown</td>\n",
       "      <td>217</td>\n",
       "      <td>1</td>\n",
       "      <td>-1</td>\n",
       "      <td>0</td>\n",
       "      <td>False</td>\n",
       "      <td>1996-02-22</td>\n",
       "      <td>mobile</td>\n",
       "    </tr>\n",
       "  </tbody>\n",
       "</table>\n",
       "</div>"
      ],
      "text/plain": [
       "                                user_id  number_transactions  \\\n",
       "0  9231c446-cb16-4b2b-a7f7-ddfc8b25aaf6                  3.0   \n",
       "2  573de577-49ef-42b9-83da-d3cfb817b5c1                  2.0   \n",
       "4  fade0b20-7594-4d9a-84cd-c02f79b1b526                  1.0   \n",
       "5  c6aee0d4-2a86-4bac-827b-c6d33b5933e6                  2.0   \n",
       "6  1fa7d4fb-3e4a-463a-ba4b-08f824945e45                  2.0   \n",
       "\n",
       "   total_amount_usd  age           job  marital  education  default  housing  \\\n",
       "0            2143.0   58    management  married   tertiary    False     True   \n",
       "2               2.0   33  entrepreneur  married  secondary    False     True   \n",
       "4               1.0   33       Unknown   single    Unknown    False    False   \n",
       "5             231.0   35    management  married   tertiary    False     True   \n",
       "6             447.0   28    management   single   tertiary    False     True   \n",
       "\n",
       "    loan  contact  duration  campaign  pdays  previous  term_deposit  \\\n",
       "0  False  Unknown       261         1     -1         0         False   \n",
       "2   True  Unknown        76         1     -1         0         False   \n",
       "4  False  Unknown       198         1     -1         0         False   \n",
       "5  False  Unknown       139         1     -1         0         False   \n",
       "6   True  Unknown       217         1     -1         0         False   \n",
       "\n",
       "  date_joined   device  \n",
       "0  1998-08-23   mobile  \n",
       "2  2002-06-04   mobile  \n",
       "4  1995-08-01   mobile  \n",
       "5  2000-06-21  desktop  \n",
       "6  1996-02-22   mobile  "
      ]
     },
     "execution_count": 34,
     "metadata": {},
     "output_type": "execute_result"
    }
   ],
   "source": [
    "# option 1- identfiying all cases where number transactions is between lb and ub\n",
    "\n",
    "users_data_wout_outliers = users_data_cleaned[\n",
    "    users_data_cleaned[\"number_transactions\"].between(lb,ub)]\n",
    "users_data_wout_outliers.head()"
   ]
  },
  {
   "cell_type": "code",
   "execution_count": 35,
   "id": "5c7b85b0",
   "metadata": {},
   "outputs": [
    {
     "data": {
      "text/plain": [
       "(29434, 18)"
      ]
     },
     "execution_count": 35,
     "metadata": {},
     "output_type": "execute_result"
    }
   ],
   "source": [
    "users_data_wout_outliers.shape"
   ]
  },
  {
   "cell_type": "code",
   "execution_count": 36,
   "id": "afcd011f",
   "metadata": {},
   "outputs": [],
   "source": [
    "# option 2 - for removing the outliers\n",
    "\n",
    "users_data_wout_outliers = users_data_cleaned[(users_data_cleaned.number_transactions <= ub)\n",
    "                  & (users_data_cleaned.number_transactions >= lb)]"
   ]
  },
  {
   "cell_type": "code",
   "execution_count": 37,
   "id": "afeac7fe",
   "metadata": {},
   "outputs": [
    {
     "name": "stdout",
     "output_type": "stream",
     "text": [
      "(45209, 19)\n",
      "(45209, 18)\n",
      "(29434, 18)\n"
     ]
    }
   ],
   "source": [
    "# original shape\n",
    "print(users_data.shape)\n",
    "# shape of data after handling missing data\n",
    "print(users_data_cleaned.shape)\n",
    "# shape of data after removing outliers\n",
    "print(users_data_wout_outliers.shape)"
   ]
  },
  {
   "cell_type": "code",
   "execution_count": 38,
   "id": "aee23587",
   "metadata": {},
   "outputs": [
    {
     "name": "stdout",
     "output_type": "stream",
     "text": [
      "<class 'pandas.core.frame.DataFrame'>\n",
      "Int64Index: 29434 entries, 0 to 45215\n",
      "Data columns (total 18 columns):\n",
      " #   Column               Non-Null Count  Dtype         \n",
      "---  ------               --------------  -----         \n",
      " 0   user_id              29434 non-null  object        \n",
      " 1   number_transactions  29434 non-null  float64       \n",
      " 2   total_amount_usd     29434 non-null  float64       \n",
      " 3   age                  29434 non-null  int64         \n",
      " 4   job                  29434 non-null  object        \n",
      " 5   marital              29434 non-null  object        \n",
      " 6   education            29434 non-null  object        \n",
      " 7   default              29434 non-null  bool          \n",
      " 8   housing              29434 non-null  bool          \n",
      " 9   loan                 29434 non-null  bool          \n",
      " 10  contact              29434 non-null  object        \n",
      " 11  duration             29434 non-null  int64         \n",
      " 12  campaign             29434 non-null  int64         \n",
      " 13  pdays                29434 non-null  int64         \n",
      " 14  previous             29434 non-null  int64         \n",
      " 15  term_deposit         29434 non-null  bool          \n",
      " 16  date_joined          29418 non-null  datetime64[ns]\n",
      " 17  device               29434 non-null  object        \n",
      "dtypes: bool(4), datetime64[ns](1), float64(2), int64(5), object(6)\n",
      "memory usage: 3.5+ MB\n"
     ]
    }
   ],
   "source": [
    "users_data_wout_outliers.info()"
   ]
  },
  {
   "cell_type": "markdown",
   "id": "c10b0882",
   "metadata": {},
   "source": [
    "### Loading the data - locally"
   ]
  },
  {
   "cell_type": "code",
   "execution_count": 39,
   "id": "91d5d2fc",
   "metadata": {},
   "outputs": [
    {
     "name": "stdout",
     "output_type": "stream",
     "text": [
      "loaded to data folder\n"
     ]
    }
   ],
   "source": [
    "# save the data without outliers and missing data to the data folder as .csv file\n",
    "# could also create sub folders, raw and cleaned\n",
    "\n",
    "users_data_wout_outliers.to_csv(\"../data/users_data_final_cleaned.csv\", index = False)\n",
    "print(\"loaded to data folder\")\n",
    "\n",
    "# the names may feel weird, but in the real world we would replace the original file with our changes"
   ]
  },
  {
   "cell_type": "code",
   "execution_count": 40,
   "id": "0007c97d",
   "metadata": {},
   "outputs": [
    {
     "data": {
      "text/html": [
       "<div>\n",
       "<style scoped>\n",
       "    .dataframe tbody tr th:only-of-type {\n",
       "        vertical-align: middle;\n",
       "    }\n",
       "\n",
       "    .dataframe tbody tr th {\n",
       "        vertical-align: top;\n",
       "    }\n",
       "\n",
       "    .dataframe thead th {\n",
       "        text-align: right;\n",
       "    }\n",
       "</style>\n",
       "<table border=\"1\" class=\"dataframe\">\n",
       "  <thead>\n",
       "    <tr style=\"text-align: right;\">\n",
       "      <th></th>\n",
       "      <th>user_id</th>\n",
       "      <th>number_transactions</th>\n",
       "      <th>total_amount_usd</th>\n",
       "      <th>age</th>\n",
       "      <th>job</th>\n",
       "      <th>marital</th>\n",
       "      <th>education</th>\n",
       "      <th>default</th>\n",
       "      <th>housing</th>\n",
       "      <th>loan</th>\n",
       "      <th>contact</th>\n",
       "      <th>duration</th>\n",
       "      <th>campaign</th>\n",
       "      <th>pdays</th>\n",
       "      <th>previous</th>\n",
       "      <th>term_deposit</th>\n",
       "      <th>date_joined</th>\n",
       "      <th>device</th>\n",
       "    </tr>\n",
       "  </thead>\n",
       "  <tbody>\n",
       "    <tr>\n",
       "      <th>0</th>\n",
       "      <td>9231c446-cb16-4b2b-a7f7-ddfc8b25aaf6</td>\n",
       "      <td>3.0</td>\n",
       "      <td>2143.0</td>\n",
       "      <td>58</td>\n",
       "      <td>management</td>\n",
       "      <td>married</td>\n",
       "      <td>tertiary</td>\n",
       "      <td>False</td>\n",
       "      <td>True</td>\n",
       "      <td>False</td>\n",
       "      <td>Unknown</td>\n",
       "      <td>261</td>\n",
       "      <td>1</td>\n",
       "      <td>-1</td>\n",
       "      <td>0</td>\n",
       "      <td>False</td>\n",
       "      <td>1998-08-23</td>\n",
       "      <td>mobile</td>\n",
       "    </tr>\n",
       "    <tr>\n",
       "      <th>1</th>\n",
       "      <td>573de577-49ef-42b9-83da-d3cfb817b5c1</td>\n",
       "      <td>2.0</td>\n",
       "      <td>2.0</td>\n",
       "      <td>33</td>\n",
       "      <td>entrepreneur</td>\n",
       "      <td>married</td>\n",
       "      <td>secondary</td>\n",
       "      <td>False</td>\n",
       "      <td>True</td>\n",
       "      <td>True</td>\n",
       "      <td>Unknown</td>\n",
       "      <td>76</td>\n",
       "      <td>1</td>\n",
       "      <td>-1</td>\n",
       "      <td>0</td>\n",
       "      <td>False</td>\n",
       "      <td>2002-06-04</td>\n",
       "      <td>mobile</td>\n",
       "    </tr>\n",
       "    <tr>\n",
       "      <th>2</th>\n",
       "      <td>fade0b20-7594-4d9a-84cd-c02f79b1b526</td>\n",
       "      <td>1.0</td>\n",
       "      <td>1.0</td>\n",
       "      <td>33</td>\n",
       "      <td>Unknown</td>\n",
       "      <td>single</td>\n",
       "      <td>Unknown</td>\n",
       "      <td>False</td>\n",
       "      <td>False</td>\n",
       "      <td>False</td>\n",
       "      <td>Unknown</td>\n",
       "      <td>198</td>\n",
       "      <td>1</td>\n",
       "      <td>-1</td>\n",
       "      <td>0</td>\n",
       "      <td>False</td>\n",
       "      <td>1995-08-01</td>\n",
       "      <td>mobile</td>\n",
       "    </tr>\n",
       "    <tr>\n",
       "      <th>3</th>\n",
       "      <td>c6aee0d4-2a86-4bac-827b-c6d33b5933e6</td>\n",
       "      <td>2.0</td>\n",
       "      <td>231.0</td>\n",
       "      <td>35</td>\n",
       "      <td>management</td>\n",
       "      <td>married</td>\n",
       "      <td>tertiary</td>\n",
       "      <td>False</td>\n",
       "      <td>True</td>\n",
       "      <td>False</td>\n",
       "      <td>Unknown</td>\n",
       "      <td>139</td>\n",
       "      <td>1</td>\n",
       "      <td>-1</td>\n",
       "      <td>0</td>\n",
       "      <td>False</td>\n",
       "      <td>2000-06-21</td>\n",
       "      <td>desktop</td>\n",
       "    </tr>\n",
       "    <tr>\n",
       "      <th>4</th>\n",
       "      <td>1fa7d4fb-3e4a-463a-ba4b-08f824945e45</td>\n",
       "      <td>2.0</td>\n",
       "      <td>447.0</td>\n",
       "      <td>28</td>\n",
       "      <td>management</td>\n",
       "      <td>single</td>\n",
       "      <td>tertiary</td>\n",
       "      <td>False</td>\n",
       "      <td>True</td>\n",
       "      <td>True</td>\n",
       "      <td>Unknown</td>\n",
       "      <td>217</td>\n",
       "      <td>1</td>\n",
       "      <td>-1</td>\n",
       "      <td>0</td>\n",
       "      <td>False</td>\n",
       "      <td>1996-02-22</td>\n",
       "      <td>mobile</td>\n",
       "    </tr>\n",
       "  </tbody>\n",
       "</table>\n",
       "</div>"
      ],
      "text/plain": [
       "                                user_id  number_transactions  \\\n",
       "0  9231c446-cb16-4b2b-a7f7-ddfc8b25aaf6                  3.0   \n",
       "1  573de577-49ef-42b9-83da-d3cfb817b5c1                  2.0   \n",
       "2  fade0b20-7594-4d9a-84cd-c02f79b1b526                  1.0   \n",
       "3  c6aee0d4-2a86-4bac-827b-c6d33b5933e6                  2.0   \n",
       "4  1fa7d4fb-3e4a-463a-ba4b-08f824945e45                  2.0   \n",
       "\n",
       "   total_amount_usd  age           job  marital  education  default  housing  \\\n",
       "0            2143.0   58    management  married   tertiary    False     True   \n",
       "1               2.0   33  entrepreneur  married  secondary    False     True   \n",
       "2               1.0   33       Unknown   single    Unknown    False    False   \n",
       "3             231.0   35    management  married   tertiary    False     True   \n",
       "4             447.0   28    management   single   tertiary    False     True   \n",
       "\n",
       "    loan  contact  duration  campaign  pdays  previous  term_deposit  \\\n",
       "0  False  Unknown       261         1     -1         0         False   \n",
       "1   True  Unknown        76         1     -1         0         False   \n",
       "2  False  Unknown       198         1     -1         0         False   \n",
       "3  False  Unknown       139         1     -1         0         False   \n",
       "4   True  Unknown       217         1     -1         0         False   \n",
       "\n",
       "  date_joined   device  \n",
       "0  1998-08-23   mobile  \n",
       "1  2002-06-04   mobile  \n",
       "2  1995-08-01   mobile  \n",
       "3  2000-06-21  desktop  \n",
       "4  1996-02-22   mobile  "
      ]
     },
     "execution_count": 40,
     "metadata": {},
     "output_type": "execute_result"
    }
   ],
   "source": [
    "# read the data to check if it worked\n",
    "\n",
    "test = pd.read_csv(\"../data/users_data_final_cleaned.csv\")\n",
    "test.head()"
   ]
  },
  {
   "cell_type": "code",
   "execution_count": 41,
   "id": "4401cbcc",
   "metadata": {},
   "outputs": [
    {
     "name": "stdout",
     "output_type": "stream",
     "text": [
      "<class 'pandas.core.frame.DataFrame'>\n",
      "RangeIndex: 29434 entries, 0 to 29433\n",
      "Data columns (total 18 columns):\n",
      " #   Column               Non-Null Count  Dtype  \n",
      "---  ------               --------------  -----  \n",
      " 0   user_id              29434 non-null  object \n",
      " 1   number_transactions  29434 non-null  float64\n",
      " 2   total_amount_usd     29434 non-null  float64\n",
      " 3   age                  29434 non-null  int64  \n",
      " 4   job                  29434 non-null  object \n",
      " 5   marital              29434 non-null  object \n",
      " 6   education            29434 non-null  object \n",
      " 7   default              29434 non-null  bool   \n",
      " 8   housing              29434 non-null  bool   \n",
      " 9   loan                 29434 non-null  bool   \n",
      " 10  contact              29434 non-null  object \n",
      " 11  duration             29434 non-null  int64  \n",
      " 12  campaign             29434 non-null  int64  \n",
      " 13  pdays                29434 non-null  int64  \n",
      " 14  previous             29434 non-null  int64  \n",
      " 15  term_deposit         29434 non-null  bool   \n",
      " 16  date_joined          29418 non-null  object \n",
      " 17  device               29434 non-null  object \n",
      "dtypes: bool(4), float64(2), int64(5), object(7)\n",
      "memory usage: 3.3+ MB\n"
     ]
    }
   ],
   "source": [
    "# the .csv file loses the date format, so we would need to fix this\n",
    "\n",
    "test.info()"
   ]
  },
  {
   "cell_type": "code",
   "execution_count": 42,
   "id": "915880d0",
   "metadata": {},
   "outputs": [],
   "source": [
    "# save the data without outliers and missing data to the data folder as a .pkl file\n",
    "# could also create sub folders, raw and cleaned\n",
    "\n",
    "users_data_wout_outliers.to_pickle(\"../data/users_data_final_cleaned.pkl\")"
   ]
  },
  {
   "cell_type": "code",
   "execution_count": 43,
   "id": "91557358",
   "metadata": {},
   "outputs": [
    {
     "name": "stdout",
     "output_type": "stream",
     "text": [
      "<class 'pandas.core.frame.DataFrame'>\n",
      "Int64Index: 29434 entries, 0 to 45215\n",
      "Data columns (total 18 columns):\n",
      " #   Column               Non-Null Count  Dtype         \n",
      "---  ------               --------------  -----         \n",
      " 0   user_id              29434 non-null  object        \n",
      " 1   number_transactions  29434 non-null  float64       \n",
      " 2   total_amount_usd     29434 non-null  float64       \n",
      " 3   age                  29434 non-null  int64         \n",
      " 4   job                  29434 non-null  object        \n",
      " 5   marital              29434 non-null  object        \n",
      " 6   education            29434 non-null  object        \n",
      " 7   default              29434 non-null  bool          \n",
      " 8   housing              29434 non-null  bool          \n",
      " 9   loan                 29434 non-null  bool          \n",
      " 10  contact              29434 non-null  object        \n",
      " 11  duration             29434 non-null  int64         \n",
      " 12  campaign             29434 non-null  int64         \n",
      " 13  pdays                29434 non-null  int64         \n",
      " 14  previous             29434 non-null  int64         \n",
      " 15  term_deposit         29434 non-null  bool          \n",
      " 16  date_joined          29418 non-null  datetime64[ns]\n",
      " 17  device               29434 non-null  object        \n",
      "dtypes: bool(4), datetime64[ns](1), float64(2), int64(5), object(6)\n",
      "memory usage: 3.5+ MB\n"
     ]
    }
   ],
   "source": [
    "test = pd.read_pickle(\"../data/users_data_final_cleaned.pkl\")\n",
    "test.info()"
   ]
  },
  {
   "cell_type": "code",
   "execution_count": 44,
   "id": "3e8ab8cb",
   "metadata": {},
   "outputs": [
    {
     "data": {
      "text/html": [
       "<div>\n",
       "<style scoped>\n",
       "    .dataframe tbody tr th:only-of-type {\n",
       "        vertical-align: middle;\n",
       "    }\n",
       "\n",
       "    .dataframe tbody tr th {\n",
       "        vertical-align: top;\n",
       "    }\n",
       "\n",
       "    .dataframe thead th {\n",
       "        text-align: right;\n",
       "    }\n",
       "</style>\n",
       "<table border=\"1\" class=\"dataframe\">\n",
       "  <thead>\n",
       "    <tr style=\"text-align: right;\">\n",
       "      <th></th>\n",
       "      <th>user_id</th>\n",
       "      <th>number_transactions</th>\n",
       "      <th>total_amount_usd</th>\n",
       "      <th>age</th>\n",
       "      <th>job</th>\n",
       "      <th>marital</th>\n",
       "      <th>education</th>\n",
       "      <th>default</th>\n",
       "      <th>housing</th>\n",
       "      <th>loan</th>\n",
       "      <th>contact</th>\n",
       "      <th>duration</th>\n",
       "      <th>campaign</th>\n",
       "      <th>pdays</th>\n",
       "      <th>previous</th>\n",
       "      <th>term_deposit</th>\n",
       "      <th>date_joined</th>\n",
       "      <th>device</th>\n",
       "    </tr>\n",
       "  </thead>\n",
       "  <tbody>\n",
       "    <tr>\n",
       "      <th>0</th>\n",
       "      <td>9231c446-cb16-4b2b-a7f7-ddfc8b25aaf6</td>\n",
       "      <td>3.0</td>\n",
       "      <td>2143.0</td>\n",
       "      <td>58</td>\n",
       "      <td>management</td>\n",
       "      <td>married</td>\n",
       "      <td>tertiary</td>\n",
       "      <td>False</td>\n",
       "      <td>True</td>\n",
       "      <td>False</td>\n",
       "      <td>Unknown</td>\n",
       "      <td>261</td>\n",
       "      <td>1</td>\n",
       "      <td>-1</td>\n",
       "      <td>0</td>\n",
       "      <td>False</td>\n",
       "      <td>1998-08-23</td>\n",
       "      <td>mobile</td>\n",
       "    </tr>\n",
       "    <tr>\n",
       "      <th>2</th>\n",
       "      <td>573de577-49ef-42b9-83da-d3cfb817b5c1</td>\n",
       "      <td>2.0</td>\n",
       "      <td>2.0</td>\n",
       "      <td>33</td>\n",
       "      <td>entrepreneur</td>\n",
       "      <td>married</td>\n",
       "      <td>secondary</td>\n",
       "      <td>False</td>\n",
       "      <td>True</td>\n",
       "      <td>True</td>\n",
       "      <td>Unknown</td>\n",
       "      <td>76</td>\n",
       "      <td>1</td>\n",
       "      <td>-1</td>\n",
       "      <td>0</td>\n",
       "      <td>False</td>\n",
       "      <td>2002-06-04</td>\n",
       "      <td>mobile</td>\n",
       "    </tr>\n",
       "    <tr>\n",
       "      <th>4</th>\n",
       "      <td>fade0b20-7594-4d9a-84cd-c02f79b1b526</td>\n",
       "      <td>1.0</td>\n",
       "      <td>1.0</td>\n",
       "      <td>33</td>\n",
       "      <td>Unknown</td>\n",
       "      <td>single</td>\n",
       "      <td>Unknown</td>\n",
       "      <td>False</td>\n",
       "      <td>False</td>\n",
       "      <td>False</td>\n",
       "      <td>Unknown</td>\n",
       "      <td>198</td>\n",
       "      <td>1</td>\n",
       "      <td>-1</td>\n",
       "      <td>0</td>\n",
       "      <td>False</td>\n",
       "      <td>1995-08-01</td>\n",
       "      <td>mobile</td>\n",
       "    </tr>\n",
       "    <tr>\n",
       "      <th>5</th>\n",
       "      <td>c6aee0d4-2a86-4bac-827b-c6d33b5933e6</td>\n",
       "      <td>2.0</td>\n",
       "      <td>231.0</td>\n",
       "      <td>35</td>\n",
       "      <td>management</td>\n",
       "      <td>married</td>\n",
       "      <td>tertiary</td>\n",
       "      <td>False</td>\n",
       "      <td>True</td>\n",
       "      <td>False</td>\n",
       "      <td>Unknown</td>\n",
       "      <td>139</td>\n",
       "      <td>1</td>\n",
       "      <td>-1</td>\n",
       "      <td>0</td>\n",
       "      <td>False</td>\n",
       "      <td>2000-06-21</td>\n",
       "      <td>desktop</td>\n",
       "    </tr>\n",
       "    <tr>\n",
       "      <th>6</th>\n",
       "      <td>1fa7d4fb-3e4a-463a-ba4b-08f824945e45</td>\n",
       "      <td>2.0</td>\n",
       "      <td>447.0</td>\n",
       "      <td>28</td>\n",
       "      <td>management</td>\n",
       "      <td>single</td>\n",
       "      <td>tertiary</td>\n",
       "      <td>False</td>\n",
       "      <td>True</td>\n",
       "      <td>True</td>\n",
       "      <td>Unknown</td>\n",
       "      <td>217</td>\n",
       "      <td>1</td>\n",
       "      <td>-1</td>\n",
       "      <td>0</td>\n",
       "      <td>False</td>\n",
       "      <td>1996-02-22</td>\n",
       "      <td>mobile</td>\n",
       "    </tr>\n",
       "  </tbody>\n",
       "</table>\n",
       "</div>"
      ],
      "text/plain": [
       "                                user_id  number_transactions  \\\n",
       "0  9231c446-cb16-4b2b-a7f7-ddfc8b25aaf6                  3.0   \n",
       "2  573de577-49ef-42b9-83da-d3cfb817b5c1                  2.0   \n",
       "4  fade0b20-7594-4d9a-84cd-c02f79b1b526                  1.0   \n",
       "5  c6aee0d4-2a86-4bac-827b-c6d33b5933e6                  2.0   \n",
       "6  1fa7d4fb-3e4a-463a-ba4b-08f824945e45                  2.0   \n",
       "\n",
       "   total_amount_usd  age           job  marital  education  default  housing  \\\n",
       "0            2143.0   58    management  married   tertiary    False     True   \n",
       "2               2.0   33  entrepreneur  married  secondary    False     True   \n",
       "4               1.0   33       Unknown   single    Unknown    False    False   \n",
       "5             231.0   35    management  married   tertiary    False     True   \n",
       "6             447.0   28    management   single   tertiary    False     True   \n",
       "\n",
       "    loan  contact  duration  campaign  pdays  previous  term_deposit  \\\n",
       "0  False  Unknown       261         1     -1         0         False   \n",
       "2   True  Unknown        76         1     -1         0         False   \n",
       "4  False  Unknown       198         1     -1         0         False   \n",
       "5  False  Unknown       139         1     -1         0         False   \n",
       "6   True  Unknown       217         1     -1         0         False   \n",
       "\n",
       "  date_joined   device  \n",
       "0  1998-08-23   mobile  \n",
       "2  2002-06-04   mobile  \n",
       "4  1995-08-01   mobile  \n",
       "5  2000-06-21  desktop  \n",
       "6  1996-02-22   mobile  "
      ]
     },
     "execution_count": 44,
     "metadata": {},
     "output_type": "execute_result"
    }
   ],
   "source": [
    "test.head()"
   ]
  },
  {
   "cell_type": "code",
   "execution_count": 45,
   "id": "51b487a7",
   "metadata": {},
   "outputs": [],
   "source": [
    "users_data_wout_outliers.to_pickle(\"../data/users_data_final_cleaned.pkl\")"
   ]
  },
  {
   "cell_type": "code",
   "execution_count": 46,
   "id": "964f2629",
   "metadata": {},
   "outputs": [
    {
     "name": "stdout",
     "output_type": "stream",
     "text": [
      "<class 'pandas.core.frame.DataFrame'>\n",
      "RangeIndex: 29434 entries, 0 to 29433\n",
      "Data columns (total 18 columns):\n",
      " #   Column               Non-Null Count  Dtype  \n",
      "---  ------               --------------  -----  \n",
      " 0   user_id              29434 non-null  object \n",
      " 1   number_transactions  29434 non-null  float64\n",
      " 2   total_amount_usd     29434 non-null  float64\n",
      " 3   age                  29434 non-null  int64  \n",
      " 4   job                  29434 non-null  object \n",
      " 5   marital              29434 non-null  object \n",
      " 6   education            29434 non-null  object \n",
      " 7   default              29434 non-null  bool   \n",
      " 8   housing              29434 non-null  bool   \n",
      " 9   loan                 29434 non-null  bool   \n",
      " 10  contact              29434 non-null  object \n",
      " 11  duration             29434 non-null  int64  \n",
      " 12  campaign             29434 non-null  int64  \n",
      " 13  pdays                29434 non-null  int64  \n",
      " 14  previous             29434 non-null  int64  \n",
      " 15  term_deposit         29434 non-null  bool   \n",
      " 16  date_joined          29418 non-null  object \n",
      " 17  device               29434 non-null  object \n",
      "dtypes: bool(4), float64(2), int64(5), object(7)\n",
      "memory usage: 3.3+ MB\n"
     ]
    }
   ],
   "source": [
    "pd.read_csv(\"../data/users_data_final_cleaned.csv\").info()"
   ]
  },
  {
   "cell_type": "code",
   "execution_count": 47,
   "id": "39b69abc",
   "metadata": {},
   "outputs": [
    {
     "name": "stdout",
     "output_type": "stream",
     "text": [
      "<class 'pandas.core.frame.DataFrame'>\n",
      "Int64Index: 29434 entries, 0 to 45215\n",
      "Data columns (total 18 columns):\n",
      " #   Column               Non-Null Count  Dtype         \n",
      "---  ------               --------------  -----         \n",
      " 0   user_id              29434 non-null  object        \n",
      " 1   number_transactions  29434 non-null  float64       \n",
      " 2   total_amount_usd     29434 non-null  float64       \n",
      " 3   age                  29434 non-null  int64         \n",
      " 4   job                  29434 non-null  object        \n",
      " 5   marital              29434 non-null  object        \n",
      " 6   education            29434 non-null  object        \n",
      " 7   default              29434 non-null  bool          \n",
      " 8   housing              29434 non-null  bool          \n",
      " 9   loan                 29434 non-null  bool          \n",
      " 10  contact              29434 non-null  object        \n",
      " 11  duration             29434 non-null  int64         \n",
      " 12  campaign             29434 non-null  int64         \n",
      " 13  pdays                29434 non-null  int64         \n",
      " 14  previous             29434 non-null  int64         \n",
      " 15  term_deposit         29434 non-null  bool          \n",
      " 16  date_joined          29418 non-null  datetime64[ns]\n",
      " 17  device               29434 non-null  object        \n",
      "dtypes: bool(4), datetime64[ns](1), float64(2), int64(5), object(6)\n",
      "memory usage: 3.5+ MB\n"
     ]
    }
   ],
   "source": [
    "# the pickle file keeps the data types for every variable\n",
    "\n",
    "pd.read_pickle(\"../data/users_data_final_cleaned.pkl\").info()"
   ]
  }
 ],
 "metadata": {
  "kernelspec": {
   "display_name": "Python 3 (ipykernel)",
   "language": "python",
   "name": "python3"
  },
  "language_info": {
   "codemirror_mode": {
    "name": "ipython",
    "version": 3
   },
   "file_extension": ".py",
   "mimetype": "text/x-python",
   "name": "python",
   "nbconvert_exporter": "python",
   "pygments_lexer": "ipython3",
   "version": "3.11.3"
  }
 },
 "nbformat": 4,
 "nbformat_minor": 5
}
