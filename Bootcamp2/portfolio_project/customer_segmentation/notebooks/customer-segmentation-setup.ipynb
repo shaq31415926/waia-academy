{
 "cells": [
  {
   "cell_type": "code",
   "execution_count": 14,
   "id": "bd067945",
   "metadata": {},
   "outputs": [],
   "source": [
    "# it is good practice to import all your libraries in one cell\n",
    "# but I have broken it out to guide you\n",
    "\n",
    "import pandas as pd # you will need this to use the read_sql function\n",
    "\n",
    "# if you want to supress any warnings use this\n",
    "import warnings\n",
    "warnings.filterwarnings('ignore')"
   ]
  },
  {
   "cell_type": "code",
   "execution_count": 15,
   "id": "abda0599",
   "metadata": {},
   "outputs": [],
   "source": [
    "# you will need this code to import the passwords and other access information from the .env file\n",
    "import os\n",
    "from dotenv import load_dotenv\n",
    "load_dotenv()\n",
    "\n",
    "dbname = os.getenv(\"dbname\")\n",
    "host = os.getenv(\"host\")\n",
    "port = os.getenv(\"port\")\n",
    "user = os.getenv(\"user\")\n",
    "password = os.getenv(\"password\")"
   ]
  },
  {
   "cell_type": "code",
   "execution_count": 16,
   "id": "9f7b9c80",
   "metadata": {
    "scrolled": true
   },
   "outputs": [
    {
     "name": "stdout",
     "output_type": "stream",
     "text": [
      "admin\n"
     ]
    }
   ],
   "source": [
    "# check it worked\n",
    "print(user)"
   ]
  },
  {
   "cell_type": "code",
   "execution_count": 17,
   "id": "04f8673c",
   "metadata": {},
   "outputs": [],
   "source": [
    "# optional step\n",
    "# you will need this code if you want to import the function connect_to_redshift from your python file in src folder\n",
    "# into your jupyter notebooks\n",
    "\n",
    "import sys\n",
    "\n",
    "module_path = os.path.abspath(os.path.join('..'))\n",
    "if module_path not in sys.path:\n",
    "    sys.path.append(module_path)\n",
    "from src.connect_to_redshift import connect_to_redshift"
   ]
  },
  {
   "cell_type": "code",
   "execution_count": 18,
   "id": "818b0362",
   "metadata": {},
   "outputs": [
    {
     "name": "stdout",
     "output_type": "stream",
     "text": [
      "connection to redshift made\n"
     ]
    }
   ],
   "source": [
    "# connect to redshift - by import the definition from the src foldr\n",
    "# otherwise just copy the function and import the library psycopg2\n",
    "connect = connect_to_redshift(dbname, host, port, user, password)"
   ]
  },
  {
   "cell_type": "code",
   "execution_count": 19,
   "id": "74235599",
   "metadata": {},
   "outputs": [],
   "source": [
    "# sample sql query to get customer data from the online_transaction_cleaned table with their average order value \n",
    "# and number of unique items they purchased\n",
    "\n",
    "query = \"\"\"select customer_id,\n",
    "                  country,\n",
    "                  count(distinct stock_code) as number_unique_items,\n",
    "                  round(avg(total_order_value), 2) as avg_order_value\n",
    "           from bootcamp.online_transactions_cleaned ot \n",
    "           group by customer_id, country\n",
    "           order by avg_order_value desc\n",
    "        \"\"\"\n",
    "\n",
    "sample_customer_data = pd.read_sql(query, connect)"
   ]
  },
  {
   "cell_type": "code",
   "execution_count": 20,
   "id": "5a1b82d6",
   "metadata": {},
   "outputs": [
    {
     "data": {
      "text/plain": [
       "(4371, 4)"
      ]
     },
     "execution_count": 20,
     "metadata": {},
     "output_type": "execute_result"
    }
   ],
   "source": [
    "sample_customer_data.shape"
   ]
  },
  {
   "cell_type": "code",
   "execution_count": 21,
   "id": "ac46c248",
   "metadata": {},
   "outputs": [
    {
     "data": {
      "text/html": [
       "<div>\n",
       "<style scoped>\n",
       "    .dataframe tbody tr th:only-of-type {\n",
       "        vertical-align: middle;\n",
       "    }\n",
       "\n",
       "    .dataframe tbody tr th {\n",
       "        vertical-align: top;\n",
       "    }\n",
       "\n",
       "    .dataframe thead th {\n",
       "        text-align: right;\n",
       "    }\n",
       "</style>\n",
       "<table border=\"1\" class=\"dataframe\">\n",
       "  <thead>\n",
       "    <tr style=\"text-align: right;\">\n",
       "      <th></th>\n",
       "      <th>customer_id</th>\n",
       "      <th>country</th>\n",
       "      <th>number_unique_items</th>\n",
       "      <th>avg_order_value</th>\n",
       "    </tr>\n",
       "  </thead>\n",
       "  <tbody>\n",
       "    <tr>\n",
       "      <th>0</th>\n",
       "      <td>u15098</td>\n",
       "      <td>United Kingdom</td>\n",
       "      <td>1</td>\n",
       "      <td>9904.88</td>\n",
       "    </tr>\n",
       "    <tr>\n",
       "      <th>1</th>\n",
       "      <td>u15195</td>\n",
       "      <td>United Kingdom</td>\n",
       "      <td>1</td>\n",
       "      <td>3861.00</td>\n",
       "    </tr>\n",
       "    <tr>\n",
       "      <th>2</th>\n",
       "      <td>u13135</td>\n",
       "      <td>United Kingdom</td>\n",
       "      <td>1</td>\n",
       "      <td>3096.00</td>\n",
       "    </tr>\n",
       "    <tr>\n",
       "      <th>3</th>\n",
       "      <td>u16532</td>\n",
       "      <td>United Kingdom</td>\n",
       "      <td>2</td>\n",
       "      <td>1687.20</td>\n",
       "    </tr>\n",
       "    <tr>\n",
       "      <th>4</th>\n",
       "      <td>u15749</td>\n",
       "      <td>United Kingdom</td>\n",
       "      <td>6</td>\n",
       "      <td>1435.73</td>\n",
       "    </tr>\n",
       "  </tbody>\n",
       "</table>\n",
       "</div>"
      ],
      "text/plain": [
       "  customer_id         country  number_unique_items  avg_order_value\n",
       "0      u15098  United Kingdom                    1          9904.88\n",
       "1      u15195  United Kingdom                    1          3861.00\n",
       "2      u13135  United Kingdom                    1          3096.00\n",
       "3      u16532  United Kingdom                    2          1687.20\n",
       "4      u15749  United Kingdom                    6          1435.73"
      ]
     },
     "execution_count": 21,
     "metadata": {},
     "output_type": "execute_result"
    }
   ],
   "source": [
    "# top 5 customer based on average order value\n",
    "sample_customer_data.head()"
   ]
  },
  {
   "cell_type": "code",
   "execution_count": 22,
   "id": "5049c241",
   "metadata": {},
   "outputs": [
    {
     "data": {
      "text/html": [
       "<div>\n",
       "<style scoped>\n",
       "    .dataframe tbody tr th:only-of-type {\n",
       "        vertical-align: middle;\n",
       "    }\n",
       "\n",
       "    .dataframe tbody tr th {\n",
       "        vertical-align: top;\n",
       "    }\n",
       "\n",
       "    .dataframe thead th {\n",
       "        text-align: right;\n",
       "    }\n",
       "</style>\n",
       "<table border=\"1\" class=\"dataframe\">\n",
       "  <thead>\n",
       "    <tr style=\"text-align: right;\">\n",
       "      <th></th>\n",
       "      <th>customer_id</th>\n",
       "      <th>country</th>\n",
       "      <th>number_unique_items</th>\n",
       "      <th>avg_order_value</th>\n",
       "    </tr>\n",
       "  </thead>\n",
       "  <tbody>\n",
       "    <tr>\n",
       "      <th>4366</th>\n",
       "      <td>u13829</td>\n",
       "      <td>United Kingdom</td>\n",
       "      <td>1</td>\n",
       "      <td>-102.00</td>\n",
       "    </tr>\n",
       "    <tr>\n",
       "      <th>4367</th>\n",
       "      <td>u12666</td>\n",
       "      <td>Israel</td>\n",
       "      <td>2</td>\n",
       "      <td>-113.72</td>\n",
       "    </tr>\n",
       "    <tr>\n",
       "      <th>4368</th>\n",
       "      <td>u17307</td>\n",
       "      <td>United Kingdom</td>\n",
       "      <td>1</td>\n",
       "      <td>-152.64</td>\n",
       "    </tr>\n",
       "    <tr>\n",
       "      <th>4369</th>\n",
       "      <td>u16742</td>\n",
       "      <td>United Kingdom</td>\n",
       "      <td>3</td>\n",
       "      <td>-154.97</td>\n",
       "    </tr>\n",
       "    <tr>\n",
       "      <th>4370</th>\n",
       "      <td>u14213</td>\n",
       "      <td>United Kingdom</td>\n",
       "      <td>5</td>\n",
       "      <td>-238.44</td>\n",
       "    </tr>\n",
       "  </tbody>\n",
       "</table>\n",
       "</div>"
      ],
      "text/plain": [
       "     customer_id         country  number_unique_items  avg_order_value\n",
       "4366      u13829  United Kingdom                    1          -102.00\n",
       "4367      u12666          Israel                    2          -113.72\n",
       "4368      u17307  United Kingdom                    1          -152.64\n",
       "4369      u16742  United Kingdom                    3          -154.97\n",
       "4370      u14213  United Kingdom                    5          -238.44"
      ]
     },
     "execution_count": 22,
     "metadata": {},
     "output_type": "execute_result"
    }
   ],
   "source": [
    "# lowest 5 customers\n",
    "# aah.. data quality error of < 0, could remove these from the query above\n",
    "\n",
    "sample_customer_data.tail()"
   ]
  },
  {
   "cell_type": "code",
   "execution_count": 24,
   "id": "4f8ae286",
   "metadata": {},
   "outputs": [],
   "source": [
    "# sample sql query to get customer data from the online_transaction_cleaned table with their average order value \n",
    "# and number of unique items they purchased\n",
    "\n",
    "query = \"\"\"select customer_id,\n",
    "                  country,\n",
    "                  count(distinct stock_code) as number_unique_items,\n",
    "                  round(avg(total_order_value), 2) as avg_order_value\n",
    "           from bootcamp.online_transactions_cleaned ot \n",
    "           group by customer_id, country\n",
    "           having avg_order_value > 0\n",
    "           order by avg_order_value desc\n",
    "        \"\"\"\n",
    "\n",
    "sample_customer_data = pd.read_sql(query, connect)"
   ]
  },
  {
   "cell_type": "code",
   "execution_count": 29,
   "id": "d2eba021",
   "metadata": {},
   "outputs": [
    {
     "name": "stdout",
     "output_type": "stream",
     "text": [
      "# of customers with negative average order values:  43\n"
     ]
    }
   ],
   "source": [
    "# the negative values impacted approx.\n",
    "print(\"# of customers with negative average order values: \", 4371 - sample_customer_data.shape[0] )"
   ]
  },
  {
   "cell_type": "code",
   "execution_count": 30,
   "id": "9babdbde",
   "metadata": {},
   "outputs": [
    {
     "data": {
      "text/html": [
       "<div>\n",
       "<style scoped>\n",
       "    .dataframe tbody tr th:only-of-type {\n",
       "        vertical-align: middle;\n",
       "    }\n",
       "\n",
       "    .dataframe tbody tr th {\n",
       "        vertical-align: top;\n",
       "    }\n",
       "\n",
       "    .dataframe thead th {\n",
       "        text-align: right;\n",
       "    }\n",
       "</style>\n",
       "<table border=\"1\" class=\"dataframe\">\n",
       "  <thead>\n",
       "    <tr style=\"text-align: right;\">\n",
       "      <th></th>\n",
       "      <th>customer_id</th>\n",
       "      <th>country</th>\n",
       "      <th>number_unique_items</th>\n",
       "      <th>avg_order_value</th>\n",
       "    </tr>\n",
       "  </thead>\n",
       "  <tbody>\n",
       "    <tr>\n",
       "      <th>0</th>\n",
       "      <td>u12431</td>\n",
       "      <td>Australia</td>\n",
       "      <td>117</td>\n",
       "      <td>29.06</td>\n",
       "    </tr>\n",
       "    <tr>\n",
       "      <th>1</th>\n",
       "      <td>u12838</td>\n",
       "      <td>United Kingdom</td>\n",
       "      <td>115</td>\n",
       "      <td>5.60</td>\n",
       "    </tr>\n",
       "    <tr>\n",
       "      <th>2</th>\n",
       "      <td>u12748</td>\n",
       "      <td>United Kingdom</td>\n",
       "      <td>1767</td>\n",
       "      <td>6.72</td>\n",
       "    </tr>\n",
       "    <tr>\n",
       "      <th>3</th>\n",
       "      <td>u14001</td>\n",
       "      <td>United Kingdom</td>\n",
       "      <td>34</td>\n",
       "      <td>52.39</td>\n",
       "    </tr>\n",
       "    <tr>\n",
       "      <th>4</th>\n",
       "      <td>u17968</td>\n",
       "      <td>United Kingdom</td>\n",
       "      <td>74</td>\n",
       "      <td>3.27</td>\n",
       "    </tr>\n",
       "  </tbody>\n",
       "</table>\n",
       "</div>"
      ],
      "text/plain": [
       "  customer_id         country  number_unique_items  avg_order_value\n",
       "0      u12431       Australia                  117            29.06\n",
       "1      u12838  United Kingdom                  115             5.60\n",
       "2      u12748  United Kingdom                 1767             6.72\n",
       "3      u14001  United Kingdom                   34            52.39\n",
       "4      u17968  United Kingdom                   74             3.27"
      ]
     },
     "execution_count": 30,
     "metadata": {},
     "output_type": "execute_result"
    }
   ],
   "source": [
    "# top 5 customer based on average order value\n",
    "sample_customer_data.head()"
   ]
  },
  {
   "cell_type": "code",
   "execution_count": 31,
   "id": "4e7ffeb5",
   "metadata": {},
   "outputs": [
    {
     "data": {
      "text/html": [
       "<div>\n",
       "<style scoped>\n",
       "    .dataframe tbody tr th:only-of-type {\n",
       "        vertical-align: middle;\n",
       "    }\n",
       "\n",
       "    .dataframe tbody tr th {\n",
       "        vertical-align: top;\n",
       "    }\n",
       "\n",
       "    .dataframe thead th {\n",
       "        text-align: right;\n",
       "    }\n",
       "</style>\n",
       "<table border=\"1\" class=\"dataframe\">\n",
       "  <thead>\n",
       "    <tr style=\"text-align: right;\">\n",
       "      <th></th>\n",
       "      <th>customer_id</th>\n",
       "      <th>country</th>\n",
       "      <th>number_unique_items</th>\n",
       "      <th>avg_order_value</th>\n",
       "    </tr>\n",
       "  </thead>\n",
       "  <tbody>\n",
       "    <tr>\n",
       "      <th>4323</th>\n",
       "      <td>u12587</td>\n",
       "      <td>Finland</td>\n",
       "      <td>3</td>\n",
       "      <td>34.67</td>\n",
       "    </tr>\n",
       "    <tr>\n",
       "      <th>4324</th>\n",
       "      <td>u15269</td>\n",
       "      <td>United Kingdom</td>\n",
       "      <td>2</td>\n",
       "      <td>204.40</td>\n",
       "    </tr>\n",
       "    <tr>\n",
       "      <th>4325</th>\n",
       "      <td>u16737</td>\n",
       "      <td>United Kingdom</td>\n",
       "      <td>1</td>\n",
       "      <td>417.60</td>\n",
       "    </tr>\n",
       "    <tr>\n",
       "      <th>4326</th>\n",
       "      <td>u14785</td>\n",
       "      <td>United Kingdom</td>\n",
       "      <td>2</td>\n",
       "      <td>25.80</td>\n",
       "    </tr>\n",
       "    <tr>\n",
       "      <th>4327</th>\n",
       "      <td>u1312</td>\n",
       "      <td>United Kingdom</td>\n",
       "      <td>1</td>\n",
       "      <td>30.60</td>\n",
       "    </tr>\n",
       "  </tbody>\n",
       "</table>\n",
       "</div>"
      ],
      "text/plain": [
       "     customer_id         country  number_unique_items  avg_order_value\n",
       "4323      u12587         Finland                    3            34.67\n",
       "4324      u15269  United Kingdom                    2           204.40\n",
       "4325      u16737  United Kingdom                    1           417.60\n",
       "4326      u14785  United Kingdom                    2            25.80\n",
       "4327       u1312  United Kingdom                    1            30.60"
      ]
     },
     "execution_count": 31,
     "metadata": {},
     "output_type": "execute_result"
    }
   ],
   "source": [
    "# lowest 5 customers\n",
    "# aah.. data quality error of < 0, could remove these from the query above\n",
    "\n",
    "sample_customer_data.tail()"
   ]
  }
 ],
 "metadata": {
  "kernelspec": {
   "display_name": "Python 3 (ipykernel)",
   "language": "python",
   "name": "python3"
  },
  "language_info": {
   "codemirror_mode": {
    "name": "ipython",
    "version": 3
   },
   "file_extension": ".py",
   "mimetype": "text/x-python",
   "name": "python",
   "nbconvert_exporter": "python",
   "pygments_lexer": "ipython3",
   "version": "3.11.3"
  }
 },
 "nbformat": 4,
 "nbformat_minor": 5
}
